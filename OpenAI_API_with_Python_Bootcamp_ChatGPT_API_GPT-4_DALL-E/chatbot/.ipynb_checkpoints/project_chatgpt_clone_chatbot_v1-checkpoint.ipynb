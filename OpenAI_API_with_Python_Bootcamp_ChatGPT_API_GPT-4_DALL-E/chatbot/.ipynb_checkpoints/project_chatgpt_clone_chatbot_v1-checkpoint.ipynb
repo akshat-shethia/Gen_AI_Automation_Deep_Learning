{
 "cells": [
  {
   "cell_type": "markdown",
   "id": "39de2e8d",
   "metadata": {},
   "source": [
    "# Project: Building a ChatGPT Clone From Scratch (ChatBot)"
   ]
  },
  {
   "cell_type": "markdown",
   "id": "2f64dad8",
   "metadata": {},
   "source": [
    "This project uses OpenAI API version 1 or later"
   ]
  },
  {
   "cell_type": "code",
   "execution_count": 1,
   "id": "ddd6e5f8",
   "metadata": {},
   "outputs": [
    {
     "name": "stdout",
     "output_type": "stream",
     "text": [
      "Note: you may need to restart the kernel to use updated packages.\n"
     ]
    }
   ],
   "source": [
    "pip install openai -q"
   ]
  },
  {
   "cell_type": "markdown",
   "id": "6c00b11e",
   "metadata": {},
   "source": [
    "### OpenAI Authentication\n",
    "To use this notebook as shown, you must acquire an OpenAI API Key and set it as an environment variable or load it from a file.\n",
    "\n",
    "1. Sign up at: https://platform.openai.com/signup\n",
    "2. Generate a new API Key"
   ]
  },
  {
   "cell_type": "code",
   "execution_count": 1,
   "id": "fffcf3df",
   "metadata": {},
   "outputs": [
    {
     "ename": "FileNotFoundError",
     "evalue": "[Errno 2] No such file or directory: 'key.txt'",
     "output_type": "error",
     "traceback": [
      "\u001b[1;31m---------------------------------------------------------------------------\u001b[0m",
      "\u001b[1;31mFileNotFoundError\u001b[0m                         Traceback (most recent call last)",
      "Cell \u001b[1;32mIn[1], line 14\u001b[0m\n\u001b[0;32m      6\u001b[0m os\u001b[38;5;241m.\u001b[39menviron[\u001b[38;5;124m'\u001b[39m\u001b[38;5;124mOPENAI_API_KEY\u001b[39m\u001b[38;5;124m'\u001b[39m] \u001b[38;5;241m=\u001b[39m \u001b[38;5;124m'\u001b[39m\u001b[38;5;124mYOUR_API_KEY\u001b[39m\u001b[38;5;124m'\u001b[39m\n\u001b[0;32m      8\u001b[0m \u001b[38;5;66;03m# 2. Use getpass and prompt the user for the API Key \u001b[39;00m\n\u001b[0;32m      9\u001b[0m \u001b[38;5;66;03m# import getpass\u001b[39;00m\n\u001b[0;32m     10\u001b[0m \u001b[38;5;66;03m# api_key = getpass.getpass('Paste your API Key:')\u001b[39;00m\n\u001b[0;32m     11\u001b[0m \u001b[38;5;66;03m# assert api_key.startswith('sk-'), 'Error loding the API key. OpenAI API Keys start with \"sk-\".'\u001b[39;00m\n\u001b[0;32m     12\u001b[0m \n\u001b[0;32m     13\u001b[0m \u001b[38;5;66;03m# 3. Load the key from a file\u001b[39;00m\n\u001b[1;32m---> 14\u001b[0m \u001b[38;5;28;01mwith\u001b[39;00m \u001b[38;5;28mopen\u001b[39m(\u001b[38;5;124m'\u001b[39m\u001b[38;5;124mkey.txt\u001b[39m\u001b[38;5;124m'\u001b[39m, \u001b[38;5;124m'\u001b[39m\u001b[38;5;124mr\u001b[39m\u001b[38;5;124m'\u001b[39m) \u001b[38;5;28;01mas\u001b[39;00m f:\n\u001b[0;32m     15\u001b[0m     api_key \u001b[38;5;241m=\u001b[39m f\u001b[38;5;241m.\u001b[39mread()\u001b[38;5;241m.\u001b[39mstrip(\u001b[38;5;124m'\u001b[39m\u001b[38;5;130;01m\\n\u001b[39;00m\u001b[38;5;124m'\u001b[39m)\n\u001b[0;32m     16\u001b[0m     \u001b[38;5;28;01massert\u001b[39;00m api_key\u001b[38;5;241m.\u001b[39mstartswith(\u001b[38;5;124m'\u001b[39m\u001b[38;5;124msk-\u001b[39m\u001b[38;5;124m'\u001b[39m), \u001b[38;5;124m'\u001b[39m\u001b[38;5;124mError loading the API key. The API key starts with \u001b[39m\u001b[38;5;124m\"\u001b[39m\u001b[38;5;124msk-\u001b[39m\u001b[38;5;124m\"\u001b[39m\u001b[38;5;124m'\u001b[39m \n",
      "File \u001b[1;32mC:\\miniconda\\Gen_AI_Automation_Deep_Learning\\OpenAI_API_with_Python_Bootcamp_ChatGPT_API_GPT-4_DALL-E\\env\\Lib\\site-packages\\IPython\\core\\interactiveshell.py:310\u001b[0m, in \u001b[0;36m_modified_open\u001b[1;34m(file, *args, **kwargs)\u001b[0m\n\u001b[0;32m    303\u001b[0m \u001b[38;5;28;01mif\u001b[39;00m file \u001b[38;5;129;01min\u001b[39;00m {\u001b[38;5;241m0\u001b[39m, \u001b[38;5;241m1\u001b[39m, \u001b[38;5;241m2\u001b[39m}:\n\u001b[0;32m    304\u001b[0m     \u001b[38;5;28;01mraise\u001b[39;00m \u001b[38;5;167;01mValueError\u001b[39;00m(\n\u001b[0;32m    305\u001b[0m         \u001b[38;5;124mf\u001b[39m\u001b[38;5;124m\"\u001b[39m\u001b[38;5;124mIPython won\u001b[39m\u001b[38;5;124m'\u001b[39m\u001b[38;5;124mt let you open fd=\u001b[39m\u001b[38;5;132;01m{\u001b[39;00mfile\u001b[38;5;132;01m}\u001b[39;00m\u001b[38;5;124m by default \u001b[39m\u001b[38;5;124m\"\u001b[39m\n\u001b[0;32m    306\u001b[0m         \u001b[38;5;124m\"\u001b[39m\u001b[38;5;124mas it is likely to crash IPython. If you know what you are doing, \u001b[39m\u001b[38;5;124m\"\u001b[39m\n\u001b[0;32m    307\u001b[0m         \u001b[38;5;124m\"\u001b[39m\u001b[38;5;124myou can use builtins\u001b[39m\u001b[38;5;124m'\u001b[39m\u001b[38;5;124m open.\u001b[39m\u001b[38;5;124m\"\u001b[39m\n\u001b[0;32m    308\u001b[0m     )\n\u001b[1;32m--> 310\u001b[0m \u001b[38;5;28;01mreturn\u001b[39;00m io_open(file, \u001b[38;5;241m*\u001b[39margs, \u001b[38;5;241m*\u001b[39m\u001b[38;5;241m*\u001b[39mkwargs)\n",
      "\u001b[1;31mFileNotFoundError\u001b[0m: [Errno 2] No such file or directory: 'key.txt'"
     ]
    }
   ],
   "source": [
    "import os\n",
    "\n",
    "# Use ONE of the following ways to authenticate to OpenAI\n",
    "\n",
    "# 1. Use an enviroment variable (do this once per computer)\n",
    "os.environ['OPENAI_API_KEY'] = 'YOUR_API_KEY'\n",
    "\n",
    "# 2. Use getpass and prompt the user for the API Key \n",
    "# import getpass\n",
    "# api_key = getpass.getpass('Paste your API Key:')\n",
    "# assert api_key.startswith('sk-'), 'Error loding the API key. OpenAI API Keys start with \"sk-\".'\n",
    "\n",
    "# 3. Load the key from a file\n",
    "with open('key.txt', 'r') as f:\n",
    "    api_key = f.read().strip('\\n')\n",
    "    assert api_key.startswith('sk-'), 'Error loading the API key. The API key starts with \"sk-\"' \n",
    "os.environ['OPENAI_API_KEY'] = api_key\n"
   ]
  },
  {
   "cell_type": "markdown",
   "id": "94762c5b",
   "metadata": {},
   "source": [
    "### Looping"
   ]
  },
  {
   "cell_type": "code",
   "execution_count": 2,
   "id": "c2e61054",
   "metadata": {},
   "outputs": [
    {
     "ename": "ModuleNotFoundError",
     "evalue": "No module named 'openai'",
     "output_type": "error",
     "traceback": [
      "\u001b[1;31m---------------------------------------------------------------------------\u001b[0m",
      "\u001b[1;31mModuleNotFoundError\u001b[0m                       Traceback (most recent call last)",
      "Cell \u001b[1;32mIn[2], line 1\u001b[0m\n\u001b[1;32m----> 1\u001b[0m \u001b[38;5;28;01mfrom\u001b[39;00m \u001b[38;5;21;01mopenai\u001b[39;00m \u001b[38;5;28;01mimport\u001b[39;00m OpenAI\n\u001b[0;32m      2\u001b[0m \u001b[38;5;28;01mimport\u001b[39;00m \u001b[38;5;21;01mtime\u001b[39;00m \n\u001b[0;32m      4\u001b[0m client \u001b[38;5;241m=\u001b[39m OpenAI()\n",
      "\u001b[1;31mModuleNotFoundError\u001b[0m: No module named 'openai'"
     ]
    }
   ],
   "source": [
    "from openai import OpenAI\n",
    "import time \n",
    "\n",
    "client = OpenAI()\n",
    "\n",
    "questions = list()\n",
    "bot_responses = list()\n",
    "messages = list()\n",
    "\n",
    "system_prompt = input('System prompt: ')\n",
    "if system_prompt == '':\n",
    "    system_prompt = 'Answer as concisely as possible. '\n",
    "\n",
    "messages.append({\"role\": \"system\", \"content\": system_prompt})\n",
    "while True:  \n",
    "    current_question = input('Me: ')\n",
    "    \n",
    "    if current_question.lower() in ['exit', 'quit', 'bye']:\n",
    "        print('Chat Bot: I was happy to asssist you. Bye bye!')\n",
    "        time.sleep(2)\n",
    "        break\n",
    "        \n",
    "    if current_question.lower() == '':\n",
    "        continue\n",
    "        \n",
    "    messages.append({\"role\": \"user\", \"content\": current_question})\n",
    "    questions.append(current_question)\n",
    "  \n",
    "        \n",
    "    completion = client.chat.completions.create(\n",
    "        model=\"gpt-3.5-turbo\",\n",
    "        messages=messages,\n",
    "        temperature=0.8\n",
    "#         max_tokens = 3000\n",
    "    )\n",
    "   \n",
    "    current_response = completion.choices[0].message.content\n",
    "    print(f'\\nChat Bot: {current_response}')\n",
    "    bot_responses.append(current_response)\n",
    "\n",
    "    messages.append({\"role\": \"assistant\", \"content\": current_response})\n",
    "    \n",
    "    print('\\n' + '-' * 50 + '\\n')\n",
    "\n",
    "# For debugging purposes:\n",
    "# print()\n",
    "# print(dict(zip(questions, bot_responses)))\n",
    "# print()\n",
    "# print(messages)"
   ]
  },
  {
   "cell_type": "code",
   "execution_count": null,
   "id": "707f3587",
   "metadata": {},
   "outputs": [],
   "source": []
  }
 ],
 "metadata": {
  "kernelspec": {
   "display_name": "Python 3 (ipykernel)",
   "language": "python",
   "name": "python3"
  },
  "language_info": {
   "codemirror_mode": {
    "name": "ipython",
    "version": 3
   },
   "file_extension": ".py",
   "mimetype": "text/x-python",
   "name": "python",
   "nbconvert_exporter": "python",
   "pygments_lexer": "ipython3",
   "version": "3.12.3"
  }
 },
 "nbformat": 4,
 "nbformat_minor": 5
}
