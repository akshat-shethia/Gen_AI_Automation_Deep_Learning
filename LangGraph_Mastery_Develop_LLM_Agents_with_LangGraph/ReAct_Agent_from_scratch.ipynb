{
 "cells": [
  {
   "cell_type": "code",
   "execution_count": null,
   "metadata": {},
   "outputs": [],
   "source": [
    "pip install -q python-dotenv"
   ]
  },
  {
   "cell_type": "code",
   "execution_count": 9,
   "metadata": {},
   "outputs": [
    {
     "name": "stdout",
     "output_type": "stream",
     "text": [
      "Note: you may need to restart the kernel to use updated packages.\n"
     ]
    }
   ],
   "source": [
    "pip install -q openai"
   ]
  },
  {
   "cell_type": "code",
   "execution_count": 1,
   "metadata": {},
   "outputs": [
    {
     "data": {
      "text/plain": [
       "True"
      ]
     },
     "execution_count": 1,
     "metadata": {},
     "output_type": "execute_result"
    }
   ],
   "source": [
    "# loading the OpenAI API key\n",
    "from dotenv import load_dotenv, find_dotenv\n",
    "load_dotenv(find_dotenv(), override=True)"
   ]
  },
  {
   "cell_type": "code",
   "execution_count": 14,
   "metadata": {},
   "outputs": [],
   "source": [
    "# importing the necessary libraries\n",
    "import openai\n",
    "import re\n",
    "import httpx\n",
    "import os"
   ]
  },
  {
   "cell_type": "code",
   "execution_count": 15,
   "metadata": {},
   "outputs": [],
   "source": [
    "from openai import OpenAI\n",
    "client = OpenAI()\n",
    "\n",
    "MODEL = 'gpt-4o-mini' \n",
    "prompt = 'Write something short but funny.'\n",
    "\n",
    "chat_completion = client.chat.completions.create(\n",
    "    model=MODEL,\n",
    "    messages=[{'role': 'user', 'content': prompt}]\n",
    ")"
   ]
  },
  {
   "cell_type": "code",
   "execution_count": 16,
   "metadata": {},
   "outputs": [
    {
     "data": {
      "text/plain": [
       "'Why did the scarecrow win an award? Because he was outstanding in his field!'"
      ]
     },
     "execution_count": 16,
     "metadata": {},
     "output_type": "execute_result"
    }
   ],
   "source": [
    "chat_completion.choices[0].message.content"
   ]
  },
  {
   "cell_type": "markdown",
   "metadata": {},
   "source": [
    "## Creating the Agent Class"
   ]
  },
  {
   "cell_type": "code",
   "execution_count": 2,
   "metadata": {},
   "outputs": [],
   "source": [
    "class Agent:\n",
    "    def __init__(self, system=''): \n",
    "        self.system = system \n",
    "        self.messages = []\n",
    "        \n",
    "        if self.system:\n",
    "            self.messages.append({'role': 'system', 'content': system})\n",
    "\n",
    "    def __call__(self, prompt):\n",
    "        self.messages.append({'role': 'user', 'content': prompt})\n",
    "        result = self.execute()\n",
    "        self.messages.append({'role': 'assistant', 'content': result})\n",
    "        return result\n",
    "\n",
    "    def execute(self, model='gpt-4o-mini', temperature=0):\n",
    "        completion = client.chat.completions.create(\n",
    "                        model=model, \n",
    "                        temperature=temperature,\n",
    "                        messages=self.messages)\n",
    "        \n",
    "        return completion.choices[0].message.content"
   ]
  },
  {
   "cell_type": "code",
   "execution_count": 3,
   "metadata": {},
   "outputs": [],
   "source": [
    "prompt = '''\n",
    "You run in a loop of Thought, Action, PAUSE, Observation.\n",
    "At the end of the loop you output an Answer\n",
    "Use Thought to describe your thoughts about the question you have been asked.\n",
    "Use Action to run one of the actions available to you - then return PAUSE.\n",
    "Observation will be the result of running those actions.\n",
    "\n",
    "Your available actions are:\n",
    "\n",
    "calculate:\n",
    "e.g. calculate: 4 * 7 / 3\n",
    "Runs a calculation and returns the number - uses Python so be sure to use floating point syntax if necessary\n",
    "\n",
    "get_cost:\n",
    "e.g. get_cost: book\n",
    "returns the cost of a book\n",
    "\n",
    "wikipedia:\n",
    "e.g. wikipedia: LangChain\n",
    "Returns a summary from searching Wikipedia\n",
    "\n",
    "Always look things up on Wikipedia if you have the opportunity to do so.\n",
    "\n",
    "Example session #1:\n",
    "\n",
    "Question: How much does a pen cost?\n",
    "Thought: I should look the pen cost using get_cost\n",
    "Action: get_cost: pen\n",
    "PAUSE\n",
    "\n",
    "You will be called again with this:\n",
    "\n",
    "Observation: A pen costs $5\n",
    "\n",
    "You then output:\n",
    "\n",
    "Answer: A pen costs $5\n",
    "\n",
    "\n",
    "Example session #2\n",
    "\n",
    "Question: What is the capital of France?\n",
    "Thought: I should look up France on Wikipedia\n",
    "Action: wikipedia: France\n",
    "PAUSE\n",
    "\n",
    "You will be called again with this:\n",
    "\n",
    "Observation: France is a country. The capital is Paris.\n",
    "\n",
    "You then output:\n",
    "\n",
    "Answer: The capital of France is Paris\n",
    "'''.strip()"
   ]
  },
  {
   "cell_type": "markdown",
   "metadata": {},
   "source": [
    "## Creating the Tools"
   ]
  },
  {
   "cell_type": "code",
   "execution_count": 8,
   "metadata": {},
   "outputs": [],
   "source": [
    "import httpx\n",
    "# 1. the calculate() function takes in a string, evaluates that string, and returns the result\n",
    "def calculate(what):\n",
    "    return eval(what)\n",
    "\n",
    "# 2. the get_cost() function returns the cost for a pen, a book, and a stapler\n",
    "def get_cost(thing):\n",
    "    if thing in 'pen': \n",
    "        return('A pen costs $5')\n",
    "    elif thing in 'book':\n",
    "        return('A book costs $20')\n",
    "    elif thing in 'stapler':\n",
    "        return('A stapler costs $10')\n",
    "    else:\n",
    "        return('A random thing for writing costs $12.')\n",
    "\n",
    "# 3. the wikipedia() function uses the Wikipedia API to search for a specific query on Wikipedia\n",
    "def wikipedia(q):\n",
    "    response = httpx.get('https://en.wikipedia.org/w/api.php', params={\n",
    "        'action': 'query',\n",
    "        'list': 'search',\n",
    "        'srsearch': q,\n",
    "        'format': 'json'\n",
    "    })\n",
    "    results = response.json().get('query').get('search', [])\n",
    "    \n",
    "    if not results:\n",
    "        return None\n",
    "    return results[0]['snippet']"
   ]
  },
  {
   "cell_type": "code",
   "execution_count": 9,
   "metadata": {},
   "outputs": [
    {
     "name": "stdout",
     "output_type": "stream",
     "text": [
      "Note: you may need to restart the kernel to use updated packages.\n"
     ]
    }
   ],
   "source": [
    "pip install httpx -q"
   ]
  },
  {
   "cell_type": "code",
   "execution_count": 10,
   "metadata": {},
   "outputs": [
    {
     "data": {
      "text/plain": [
       "'<span class=\"searchmatch\">LangChain</span> is a framework designed to simplify the creation of applications using large language models (LLMs). As a language model integration framework'"
      ]
     },
     "execution_count": 10,
     "metadata": {},
     "output_type": "execute_result"
    }
   ],
   "source": [
    "wikipedia('langchain')"
   ]
  },
  {
   "cell_type": "code",
   "execution_count": null,
   "metadata": {},
   "outputs": [],
   "source": []
  }
 ],
 "metadata": {
  "kernelspec": {
   "display_name": "Python 3",
   "language": "python",
   "name": "python3"
  },
  "language_info": {
   "codemirror_mode": {
    "name": "ipython",
    "version": 3
   },
   "file_extension": ".py",
   "mimetype": "text/x-python",
   "name": "python",
   "nbconvert_exporter": "python",
   "pygments_lexer": "ipython3",
   "version": "3.12.5"
  }
 },
 "nbformat": 4,
 "nbformat_minor": 2
}
