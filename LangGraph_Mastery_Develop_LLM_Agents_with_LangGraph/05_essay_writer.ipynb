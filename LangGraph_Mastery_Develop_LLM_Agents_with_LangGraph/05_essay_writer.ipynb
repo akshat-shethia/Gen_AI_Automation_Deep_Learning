{
 "cells": [
  {
   "cell_type": "markdown",
   "id": "e03580aa-cf8e-42d7-b33e-0e1afb0e3f0b",
   "metadata": {},
   "source": [
    "# Essay Writer"
   ]
  },
  {
   "cell_type": "markdown",
   "id": "22c411f9-213f-4670-83ef-cfdea4f76cce",
   "metadata": {},
   "source": [
    "## Defining the AgentState and the Prompts"
   ]
  },
  {
   "cell_type": "code",
   "execution_count": 1,
   "id": "b703612b-a064-45c6-8229-e552f5325b34",
   "metadata": {},
   "outputs": [
    {
     "data": {
      "text/plain": [
       "True"
      ]
     },
     "execution_count": 1,
     "metadata": {},
     "output_type": "execute_result"
    }
   ],
   "source": [
    "# Loading the API key from .env\n",
    "from dotenv import load_dotenv, find_dotenv\n",
    "load_dotenv(find_dotenv(), override=True)"
   ]
  },
  {
   "cell_type": "code",
   "execution_count": 2,
   "id": "a018b7ad-db1c-4939-b065-b7e5a622e208",
   "metadata": {},
   "outputs": [],
   "source": [
    "from langchain_core.messages import AnyMessage, SystemMessage, HumanMessage, AIMessage, ChatMessage\n",
    "from langgraph.graph import StateGraph, END\n",
    "from langchain_openai import ChatOpenAI\n",
    "\n",
    "model = ChatOpenAI(model='gpt-4o-mini', temperature=0)"
   ]
  },
  {
   "cell_type": "code",
   "execution_count": 3,
   "id": "8ac505c9-cc57-4f5e-b9a7-2e747ad5d8d5",
   "metadata": {},
   "outputs": [],
   "source": [
    "from typing import TypedDict, List, Annotated\n",
    "\n",
    "# Creating a class for the agent state\n",
    "class AgentState(TypedDict):\n",
    "    task: str\n",
    "    plan: str\n",
    "    draft: str\n",
    "    critique: str\n",
    "    content: List[str]\n",
    "    revision_number: int\n",
    "    max_revisions: int"
   ]
  },
  {
   "cell_type": "code",
   "execution_count": 4,
   "id": "e5ae0151-0634-4220-beea-428a4e7896d0",
   "metadata": {},
   "outputs": [],
   "source": [
    "# Defining the planning prompt \n",
    "PLAN_PROMPT = '''You are an expert writer tasked with writing a high level outline of an essay.\n",
    "Write such an outline for the user provided topic.\n",
    "Give an outline of the essay along with any relevant notes or instructions for the sections.'''\n",
    "\n",
    "# defining the prompt that will be used by the agent that's doing research after the planning step\n",
    "# given a plan, it will generate some queries and pass them to Tavily\n",
    "RESEARCH_PLAN_PROMPT = '''You are a researcher charged with providing information that can be used when writing the following essay.\n",
    "Generate a list of search queries that will gather any relevant information. Only generate 3 queries max.'''\n",
    "\n",
    "# Defining the writer prompt\n",
    "WRITER_PROMPT = '''You are an essay assistant tasked with writing excellent 5-paragraph essays.\n",
    "Generate the best essay possible for the user's request and the initial outline.\n",
    "If the user provides critique, respond with a revised version of your previous attempts.\n",
    "Utilize all the information below as needed: \n",
    "\n",
    "------\n",
    "\n",
    "{content}'''\n",
    "\n",
    "# Defining the reflection prompt\n",
    "REFLECTION_PROMPT = '''You are a teacher grading an essay submission.\n",
    "Generate critique and recommendations for the user's submission.\n",
    "Provide detailed recommendations, including requests for length, depth, style, etc.'''\n",
    "\n",
    "# Defining the research critique prompt\n",
    "RESEARCH_CRITIQUE_PROMPT = ''''You are a researcher charged with providing information that can \\\n",
    "be used when making any requested revisions (as outlined below).\n",
    "Generate a list of search queries that will gather any relevant information. Only generate 3 queries max.'''\n"
   ]
  },
  {
   "cell_type": "code",
   "execution_count": 5,
   "id": "8d5ae767-2fcf-41b9-aaf9-b0218a76b567",
   "metadata": {},
   "outputs": [],
   "source": [
    "from langchain_core.pydantic_v1 import BaseModel\n",
    "\n",
    "class Queries(BaseModel):\n",
    "    queries: List[str]"
   ]
  },
  {
   "cell_type": "code",
   "execution_count": 6,
   "id": "6935e0d2-e558-46d7-bb4b-e07bccf9d0b5",
   "metadata": {},
   "outputs": [],
   "source": [
    "# Importing and instantiating a tavily client\n",
    "from tavily import TavilyClient\n",
    "import os\n",
    "\n",
    "tavily = TavilyClient(api_key=os.environ['TAVILY_API_KEY'])\n"
   ]
  },
  {
   "cell_type": "markdown",
   "id": "a1517dde-339e-425f-a8ab-b702b34ce5bb",
   "metadata": {},
   "source": [
    "## Implementing the Agents and the Nodes"
   ]
  },
  {
   "cell_type": "code",
   "execution_count": 7,
   "id": "6640e799-9cde-4052-98bd-82cf8044c9bc",
   "metadata": {},
   "outputs": [],
   "source": [
    "# Creating the planning node\n",
    "def plan_node(state: AgentState):\n",
    "    messages = [\n",
    "        SystemMessage(content=PLAN_PROMPT), \n",
    "        HumanMessage(content=state['task'])\n",
    "    ]\n",
    "    response = model.invoke(messages)\n",
    "    return {\"plan\": response.content}\n"
   ]
  },
  {
   "cell_type": "code",
   "execution_count": 8,
   "id": "d9742b50-a52b-4478-8c7a-e27bf0f6c6f6",
   "metadata": {},
   "outputs": [],
   "source": [
    "# Creating the reseach_plan_node\n",
    "# It generates research queries based on a given task and retrieves relevant content using those queries\n",
    "def research_plan_node(state: AgentState):\n",
    "    queries = model.with_structured_output(Queries).invoke([\n",
    "        SystemMessage(content=RESEARCH_PLAN_PROMPT),\n",
    "        HumanMessage(content=state['task'])\n",
    "    ])\n",
    "    content = state['content'] or []\n",
    "    for q in queries.queries:\n",
    "        response = tavily.search(query=q, max_results=2)\n",
    "        for r in response['results']:\n",
    "            content.append(r['content'])\n",
    "    return {\"content\": content}\n"
   ]
  },
  {
   "cell_type": "code",
   "execution_count": 9,
   "id": "4d1940f6-ffac-4508-9de7-ad963f74c74a",
   "metadata": {},
   "outputs": [],
   "source": [
    "# Creating the generation node\n",
    "def generation_node(state: AgentState):\n",
    "    content = \"\\n\\n\".join(state['content'] or [])\n",
    "    \n",
    "    user_message = HumanMessage(\n",
    "        content=f\"{state['task']}\\n\\nHere is my plan:\\n\\n{state['plan']}\")\n",
    "    \n",
    "    messages = [\n",
    "        SystemMessage(\n",
    "            content=WRITER_PROMPT.format(content=content)\n",
    "        ),\n",
    "        user_message\n",
    "        ]\n",
    "    \n",
    "    response = model.invoke(messages)\n",
    "     \n",
    "    return {\n",
    "        \"draft\": response.content, \n",
    "        \"revision_number\": state.get(\"revision_number\", 1) + 1\n",
    "    }\n"
   ]
  },
  {
   "cell_type": "code",
   "execution_count": 10,
   "id": "b2c20f31-7e3e-401e-b475-c55b62e7adeb",
   "metadata": {},
   "outputs": [],
   "source": [
    "# Creating the reflection node\n",
    "def reflection_node(state: AgentState):\n",
    "    messages = [\n",
    "        SystemMessage(content=REFLECTION_PROMPT), \n",
    "        HumanMessage(content=state['draft'])\n",
    "    ]\n",
    "    response = model.invoke(messages)\n",
    "    return {\"critique\": response.content}\n",
    "\n"
   ]
  },
  {
   "cell_type": "code",
   "execution_count": 11,
   "id": "9e072cfe-1a14-47f8-8b53-2d93fd4983fb",
   "metadata": {},
   "outputs": [],
   "source": [
    "# Creating the research critique node\n",
    "def research_critique_node(state: AgentState):\n",
    "    queries = model.with_structured_output(Queries).invoke([\n",
    "        SystemMessage(content=RESEARCH_CRITIQUE_PROMPT),\n",
    "        HumanMessage(content=state['critique'])\n",
    "    ])\n",
    "    content = state['content'] or []\n",
    "    for q in queries.queries:\n",
    "        response = tavily.search(query=q, max_results=2)\n",
    "        for r in response['results']:\n",
    "            content.append(r['content'])\n",
    "    return {'content': content}\n"
   ]
  },
  {
   "cell_type": "markdown",
   "id": "4b0c1e86-73ba-4cf6-a4bf-376f8aa74d04",
   "metadata": {},
   "source": [
    "## Defining the Conditional Edge"
   ]
  },
  {
   "cell_type": "code",
   "execution_count": 12,
   "id": "bb0a535e-9223-4793-af1b-b6709e37953f",
   "metadata": {},
   "outputs": [],
   "source": [
    "# Defining the conditional edge\n",
    "def should_continue(state):\n",
    "    if state['revision_number'] > state['max_revisions']:\n",
    "        return END\n",
    "    return 'reflect'\n"
   ]
  },
  {
   "cell_type": "markdown",
   "id": "22d8f395-e863-4473-98e8-513eb560334c",
   "metadata": {},
   "source": [
    "## Defining the Graph"
   ]
  },
  {
   "cell_type": "code",
   "execution_count": 13,
   "id": "dfb5fc17-3089-4fce-9df8-33e8ab3fcc17",
   "metadata": {},
   "outputs": [],
   "source": [
    "builder = StateGraph(AgentState)\n",
    "\n",
    "# Adding nodes to the graph\n",
    "builder.add_node('planner', plan_node)\n",
    "builder.add_node('generate', generation_node)\n",
    "builder.add_node('reflect', reflection_node)\n",
    "builder.add_node('research_plan', research_plan_node)\n",
    "builder.add_node('research_critique', research_critique_node)\n",
    "\n",
    "# Setting the entry point of the state graph\n",
    "builder.set_entry_point('planner')\n",
    "\n",
    "# Adding the conditional edge\n",
    "builder.add_conditional_edges(\n",
    "    'generate', \n",
    "    should_continue, \n",
    "    {END: END, 'reflect': 'reflect'}\n",
    ")\n",
    "\n",
    "# Adding regular edges\n",
    "builder.add_edge('planner', 'research_plan')\n",
    "builder.add_edge('research_plan', 'generate')\n",
    "\n",
    "builder.add_edge('reflect', 'research_critique')\n",
    "builder.add_edge('research_critique', 'generate')\n"
   ]
  },
  {
   "cell_type": "code",
   "execution_count": 14,
   "id": "3dbec2fc-d15b-49e4-823e-b2ecd1c84ad6",
   "metadata": {},
   "outputs": [],
   "source": [
    "from langgraph.checkpoint.sqlite import SqliteSaver\n",
    "memory = SqliteSaver.from_conn_string(':memory:')\n",
    "\n",
    "graph = builder.compile(checkpointer=memory)"
   ]
  },
  {
   "cell_type": "code",
   "execution_count": 15,
   "id": "449632fe-c289-4ddf-8914-62b7300b24cc",
   "metadata": {},
   "outputs": [
    {
     "data": {
      "image/jpeg": "[encoded data removed]",
      "text/plain": [
       "<IPython.core.display.Image object>"
      ]
     },
     "metadata": {},
     "output_type": "display_data"
    }
   ],
   "source": [
    "from IPython.display import Image, display\n",
    "display(Image(graph.get_graph().draw_mermaid_png()))\n"
   ]
  },
  {
   "cell_type": "markdown",
   "id": "935ac083-d59b-42c8-8e0a-47052381704c",
   "metadata": {},
   "source": [
    "## Running the Agentic App"
   ]
  },
  {
   "cell_type": "code",
   "execution_count": 16,
   "id": "58a49952-2e15-4f7a-8738-a66b92d4c686",
   "metadata": {},
   "outputs": [
    {
     "name": "stdout",
     "output_type": "stream",
     "text": [
      "{'planner': {'plan': \"**Outline for Essay on Nvidia Blackwell AI Chip**\\n\\n**I. Introduction**\\n   A. Background on Nvidia as a leader in AI and GPU technology\\n      1. Brief history of Nvidia's innovations in AI and graphics processing\\n      2. Importance of AI chips in modern computing\\n   B. Introduction to the Blackwell AI chip\\n      1. Overview of the Blackwell architecture\\n      2. Significance of the Blackwell chip in the context of AI advancements\\n\\n**II. Technical Specifications of the Blackwell AI Chip**\\n   A. Architecture and design features\\n      1. Description of the chip's architecture (e.g., cores, memory, etc.)\\n      2. Innovations in manufacturing processes (e.g., node size, materials)\\n   B. Performance metrics\\n      1. Benchmark comparisons with previous Nvidia chips (e.g., Ampere, Hopper)\\n      2. Power efficiency and thermal management\\n\\n**III. Applications of the Blackwell AI Chip**\\n   A. Use cases in various industries\\n      1. Healthcare (e.g., medical imaging, drug discovery)\\n      2. Automotive (e.g., autonomous driving, smart navigation)\\n      3. Data centers and cloud computing\\n   B. Impact on AI research and development\\n      1. Enhancements in machine learning and deep learning capabilities\\n      2. Contributions to natural language processing and computer vision\\n\\n**IV. Competitive Landscape**\\n   A. Comparison with competitors' AI chips\\n      1. Overview of key competitors (e.g., AMD, Intel, Google)\\n      2. Strengths and weaknesses of the Blackwell chip relative to competitors\\n   B. Market positioning and strategic implications\\n      1. Nvidia's market share and influence in the AI chip sector\\n      2. Future trends and potential challenges\\n\\n**V. Future Prospects and Innovations**\\n   A. Anticipated advancements in AI chip technology\\n      1. Predictions for future Nvidia chip releases\\n      2. Emerging technologies that may influence AI chip development (e.g., quantum computing)\\n   B. Long-term implications for AI and society\\n      1. Ethical considerations in AI development\\n      2. Potential societal impacts of advanced AI capabilities\\n\\n**VI. Conclusion**\\n   A. Recap of the significance of the Blackwell AI chip\\n   B. Final thoughts on the future of AI technology and Nvidia's role in it\\n\\n**Notes/Instructions:**\\n- Ensure that each section is well-researched and supported by credible sources.\\n- Use technical language appropriately, but also explain complex concepts for a broader audience.\\n- Include visuals or diagrams where applicable, especially in the technical specifications section.\\n- Consider including quotes or insights from industry experts to enhance credibility.\\n- Maintain a clear and logical flow throughout the essay, linking each section to the overall theme of Nvidia's impact on AI technology.\"}}\n",
      "----------------------------------------------------------------------------------------------------\n",
      "{'research_plan': {'content': [\"Recommended For You. White PaperNVIDIA Blackwell Architecture Technical Overview. NVIDIA's Blackwell GPU architecture revolutionizes AI with unparalleled performance, scalability and efficiency. Anchored by the Grace Blackwell GB200 superchip and GB200 NVL72, it boasts 30X more performance and 25X more energy efficiency over its predecessor.\", 'Blackwell’s Decompression Engine and ability to access massive amounts of memory in the NVIDIA Grace™ CPU over a high-speed link—900 gigabytes per second (GB/s) of bidirectional bandwidth—accelerate the full pipeline of database queries for the highest performance in data analytics and data science with support for the latest compression formats such as LZ4, Snappy, and Deflate.\\n Second-Generation Transformer Engine\\nThe second-generation Transformer Engine uses custom Blackwell Tensor Core technology combined with NVIDIA® TensorRT™-LLM and NeMo™ Framework innovations to accelerate inference and training for large language models (LLMs) and Mixture-of-Experts (MoE) models.\\n NVLink and NVLink Switch\\nUnlocking the full potential of exascale computing and trillion-parameter AI models hinges on the need for swift, seamless communication among every GPU within a server cluster. Breaking Barriers in Accelerated Computing and Generative AI\\nExplore the groundbreaking advancements the NVIDIA Blackwell architecture brings to generative AI and accelerated computing. The NVIDIA NVLink Switch Chip enables 130TB/s of GPU bandwidth in one 72-GPU NVLink domain (NVL72) and delivers 4X bandwidth efficiency with NVIDIA Scalable Hierarchical Aggregation and Reduction Protocol (SHARP)™ FP8 support.', \"Navigate\\nFilter by topic\\nSettings\\nFront page layout\\nSite theme\\nNvidia unveils Blackwell B200, the “world’s most powerful chip” designed for AI\\n208B transistor chip can reportedly reduce AI cost and energy consumption by up to 25x.\\n Benj Edwards\\n-\\nMar 19, 2024 3:27 pm UTC\\nOn Monday, Nvidia unveiled the Blackwell B200 tensor core chip—the company's most powerful single-chip GPU, with 208 billion transistors—which Nvidia claims can reduce AI inference operating costs (such as running ChatGPT) and energy consumption by up to 25 times compared to the H100. Further Reading\\nWhile Nvidia's claims about the Blackwell platform's capabilities are significant, it's worth noting that its real-world performance and adoption of the technology remain to be seen as organizations begin to implement and utilize the platform themselves. With the dawn of new deep learning architectures in the 2010s, Nvidia found itself in an ideal position to capitalize on the AI revolution and began designing specialized GPUs just for the task of accelerating AI models.\\n Several major organizations, such as Amazon Web Services, Dell Technologies, Google, Meta, Microsoft, OpenAI, Oracle, Tesla, and xAI, are expected to adopt the Blackwell platform, and Nvidia's press release is replete with canned quotes from tech CEOs (key Nvidia customers) like Mark Zuckerberg and Sam Altman praising the platform.\\n\", 'Sign-in with:\\nNvidia Reveals Blackwell: The ‘World’s Most Powerful Chip’ for AI\\nNvidia took the GTC stage to unveil Blackwell, a platform built upon a 208 billion transistor, dual-die GPU with a 10 TB/s chip-to-chip interconnect.\\n Nvidia Unveils the 208-Billion Transistor Blackwell GPU\\nNvidia designed the Blackwell GPU\\xa0to be the world’s largest GPU built specifically for datacenter-scale generative AI. The Blackwell architecture was named in honor of David Harold Blackwell, a statistician and mathematician who specialized in game theory, probability theory, and statistics\\xa0and was the first black scholar inducted into the National Academy of Sciences. The GB200 NVL72 acts as a single GPU, with a 30X performance increase and a 25X decrease in total cost of ownership (TCO) over the prior-generation Nvidia server, the H100.\\n Multiple GB200s can be linked in cluster form with Nvidia’s new Quantum-X800 and Spectrum-X800 Ethernet at speeds up to 800 GB/s.\\nNvidia also introduced\\xa0its take on the server rack, the GB200 NVL72.', 'NVIDIA today announced its next-generation AI supercomputer — the NVIDIA DGX SuperPOD™ powered by NVIDIA GB200 Grace Blackwell Superchips — for processing trillion-parameter models with constant uptime for superscale generative AI training and inference workloads. ... Industrial and Scientific AI Applications at the Edge With Enterprise ...', 'Blackwell’s Decompression Engine and ability to access massive amounts of memory in the NVIDIA Grace™ CPU over a high-speed link—900 gigabytes per second (GB/s) of bidirectional bandwidth—accelerate the full pipeline of database queries for the highest performance in data analytics and data science with support for the latest compression formats such as LZ4, Snappy, and Deflate.\\n Second-Generation Transformer Engine\\nThe second-generation Transformer Engine uses custom Blackwell Tensor Core technology combined with NVIDIA® TensorRT™-LLM and NeMo™ Framework innovations to accelerate inference and training for large language models (LLMs) and Mixture-of-Experts (MoE) models.\\n NVLink and NVLink Switch\\nUnlocking the full potential of exascale computing and trillion-parameter AI models hinges on the need for swift, seamless communication among every GPU within a server cluster. Breaking Barriers in Accelerated Computing and Generative AI\\nExplore the groundbreaking advancements the NVIDIA Blackwell architecture brings to generative AI and accelerated computing. The NVIDIA NVLink Switch Chip enables 130TB/s of GPU bandwidth in one 72-GPU NVLink domain (NVL72) and delivers 4X bandwidth efficiency with NVIDIA Scalable Hierarchical Aggregation and Reduction Protocol (SHARP)™ FP8 support.']}}\n",
      "----------------------------------------------------------------------------------------------------\n",
      "{'generate': {'draft': \"**Nvidia Blackwell AI Chip: Revolutionizing the Future of AI Technology**\\n\\n**I. Introduction**\\n\\nNvidia has long been recognized as a leader in the fields of artificial intelligence (AI) and graphics processing units (GPUs). Since its inception in 1993, the company has consistently pushed the boundaries of technology, from pioneering graphics rendering in video games to developing specialized hardware for AI applications. The importance of AI chips in modern computing cannot be overstated, as they serve as the backbone for a myriad of applications ranging from data analysis to autonomous systems. Among its latest innovations, the Blackwell AI chip stands out as a significant advancement in the realm of AI technology, promising to enhance performance, efficiency, and scalability in various sectors.\\n\\n**II. Technical Specifications of the Blackwell AI Chip**\\n\\nThe Blackwell AI chip is built upon a cutting-edge architecture that integrates numerous advanced design features. At its core, the chip boasts a staggering 208 billion transistors, making it the most powerful single-chip GPU to date. This dual-die GPU architecture is complemented by a 10 TB/s chip-to-chip interconnect, allowing for unprecedented data transfer speeds. Innovations in manufacturing processes, such as the use of smaller node sizes and advanced materials, have further optimized the chip's performance and energy efficiency.\\n\\nWhen compared to its predecessors, such as the Ampere and Hopper architectures, the Blackwell chip demonstrates remarkable performance metrics. It offers a 30X increase in performance and a 25X reduction in total cost of ownership (TCO) over the previous generation, the H100. Additionally, the Blackwell architecture features a Decompression Engine that enhances data analytics capabilities by supporting the latest compression formats, ensuring efficient memory access and management.\\n\\n**III. Applications of the Blackwell AI Chip**\\n\\nThe versatility of the Blackwell AI chip allows it to be applied across various industries, significantly impacting sectors such as healthcare, automotive, and cloud computing. In healthcare, the chip can accelerate medical imaging processes and facilitate drug discovery through enhanced data analysis capabilities. In the automotive industry, it plays a crucial role in enabling autonomous driving technologies and smart navigation systems, providing real-time data processing and decision-making.\\n\\nMoreover, the Blackwell chip is poised to revolutionize AI research and development. Its advanced capabilities enhance machine learning and deep learning processes, allowing researchers to tackle complex problems with greater efficiency. The chip's contributions to natural language processing and computer vision are particularly noteworthy, as they enable more sophisticated AI applications that can understand and interpret human language and visual data.\\n\\n**IV. Competitive Landscape**\\n\\nIn the competitive landscape of AI chips, Nvidia faces formidable rivals such as AMD, Intel, and Google. Each of these companies has made significant strides in AI technology, but the Blackwell chip's unique features and performance metrics set it apart. For instance, while AMD and Intel focus on general-purpose computing, Nvidia's specialization in AI and deep learning gives it a competitive edge. The Blackwell chip's strengths lie in its unparalleled performance and energy efficiency, although challenges remain in maintaining market share amid rapid technological advancements.\\n\\nNvidia's strategic positioning in the AI chip sector is bolstered by its strong market presence and partnerships with major organizations, including Amazon Web Services, Google, and Microsoft. As the demand for AI solutions continues to grow, Nvidia's influence in the market is likely to expand, although it must remain vigilant against emerging competitors and evolving technologies.\\n\\n**V. Future Prospects and Innovations**\\n\\nLooking ahead, the future of AI chip technology is rife with potential advancements. Nvidia is expected to continue releasing innovative chips that push the boundaries of performance and efficiency. Emerging technologies, such as quantum computing, may also play a role in shaping the next generation of AI chips, offering new paradigms for processing and data analysis.\\n\\nThe long-term implications of advanced AI capabilities extend beyond technological advancements; they raise important ethical considerations as well. As AI systems become more powerful, society must grapple with the ethical dilemmas surrounding their use, including issues of bias, privacy, and accountability. The societal impacts of these technologies will be profound, influencing everything from job markets to personal interactions.\\n\\n**VI. Conclusion**\\n\\nIn summary, the Nvidia Blackwell AI chip represents a significant leap forward in AI technology, combining unparalleled performance with energy efficiency and versatility. As Nvidia continues to lead the charge in AI chip development, the implications for various industries and society as a whole are profound. The future of AI technology is bright, and Nvidia's role in shaping that future will undoubtedly be pivotal. As we embrace these advancements, it is essential to consider the ethical dimensions and societal impacts that accompany the rise of powerful AI systems.\", 'revision_number': 2}}\n",
      "----------------------------------------------------------------------------------------------------\n",
      "{'reflect': {'critique': '**Critique of the Essay Submission on Nvidia Blackwell AI Chip**\\n\\nYour essay on the Nvidia Blackwell AI chip is well-structured and informative, providing a comprehensive overview of the chip\\'s specifications, applications, competitive landscape, and future prospects. However, there are several areas where you could enhance the depth, clarity, and overall impact of your writing. Below are detailed recommendations for improvement:\\n\\n### 1. **Length and Depth**\\n- **Recommendation**: While the essay covers a broad range of topics, some sections could benefit from deeper exploration. For instance, the \"Applications of the Blackwell AI Chip\" section could include specific case studies or examples of how the chip is currently being utilized in real-world scenarios. This would provide a more tangible understanding of its impact.\\n- **Request**: Aim for a word count of around 1,500-2,000 words to allow for more detailed analysis and examples.\\n\\n### 2. **Technical Specifications**\\n- **Recommendation**: The technical specifications section is informative but could be made more accessible to readers who may not have a strong background in technology. Consider breaking down complex terms and providing analogies or comparisons that illustrate the significance of the specifications.\\n- **Request**: Include a brief explanation of terms like \"transistors,\" \"chip-to-chip interconnect,\" and \"total cost of ownership\" for clarity.\\n\\n### 3. **Style and Tone**\\n- **Recommendation**: The tone is generally formal and appropriate for an academic essay. However, incorporating a more engaging narrative style could enhance reader interest. Consider using anecdotes or hypothetical scenarios to illustrate the chip\\'s applications and implications.\\n- **Request**: Use varied sentence structures and rhetorical questions to engage the reader more effectively.\\n\\n### 4. **Competitive Landscape**\\n- **Recommendation**: The competitive landscape section could be expanded to include a more detailed analysis of how Nvidia\\'s strategies compare to those of its competitors. Discuss specific products or innovations from AMD, Intel, and Google that directly compete with the Blackwell chip.\\n- **Request**: Provide a comparative table or chart that visually represents the strengths and weaknesses of Nvidia versus its competitors.\\n\\n### 5. **Future Prospects and Innovations**\\n- **Recommendation**: This section introduces important ethical considerations, but it could be more robust. Discuss specific ethical dilemmas in greater detail, such as the implications of AI in surveillance, decision-making, and job displacement.\\n- **Request**: Include a brief discussion on how Nvidia plans to address these ethical concerns, or how the industry as a whole is responding to them.\\n\\n### 6. **Conclusion**\\n- **Recommendation**: The conclusion effectively summarizes the main points but could be strengthened by reiterating the significance of the Blackwell chip in the context of future technological advancements. Consider ending with a thought-provoking statement or question that encourages further reflection on the topic.\\n- **Request**: Aim to connect the conclusion back to the introduction, reinforcing the overarching theme of innovation and ethical responsibility in AI technology.\\n\\n### 7. **Citations and References**\\n- **Recommendation**: Ensure that you include citations for any data, statistics, or claims made in the essay. This will enhance the credibility of your work and allow readers to explore the sources further.\\n- **Request**: Include a references section at the end of the essay, formatted according to a specific citation style (e.g., APA, MLA).\\n\\n### Final Thoughts\\nOverall, your essay provides a solid foundation for discussing the Nvidia Blackwell AI chip. By incorporating these recommendations, you can enhance the depth, clarity, and engagement of your writing, making it more informative and compelling for your audience. I look forward to seeing your revised submission!'}}\n",
      "----------------------------------------------------------------------------------------------------\n",
      "{'research_critique': {'content': [\"Recommended For You. White PaperNVIDIA Blackwell Architecture Technical Overview. NVIDIA's Blackwell GPU architecture revolutionizes AI with unparalleled performance, scalability and efficiency. Anchored by the Grace Blackwell GB200 superchip and GB200 NVL72, it boasts 30X more performance and 25X more energy efficiency over its predecessor.\", 'Blackwell’s Decompression Engine and ability to access massive amounts of memory in the NVIDIA Grace™ CPU over a high-speed link—900 gigabytes per second (GB/s) of bidirectional bandwidth—accelerate the full pipeline of database queries for the highest performance in data analytics and data science with support for the latest compression formats such as LZ4, Snappy, and Deflate.\\n Second-Generation Transformer Engine\\nThe second-generation Transformer Engine uses custom Blackwell Tensor Core technology combined with NVIDIA® TensorRT™-LLM and NeMo™ Framework innovations to accelerate inference and training for large language models (LLMs) and Mixture-of-Experts (MoE) models.\\n NVLink and NVLink Switch\\nUnlocking the full potential of exascale computing and trillion-parameter AI models hinges on the need for swift, seamless communication among every GPU within a server cluster. Breaking Barriers in Accelerated Computing and Generative AI\\nExplore the groundbreaking advancements the NVIDIA Blackwell architecture brings to generative AI and accelerated computing. The NVIDIA NVLink Switch Chip enables 130TB/s of GPU bandwidth in one 72-GPU NVLink domain (NVL72) and delivers 4X bandwidth efficiency with NVIDIA Scalable Hierarchical Aggregation and Reduction Protocol (SHARP)™ FP8 support.', \"Navigate\\nFilter by topic\\nSettings\\nFront page layout\\nSite theme\\nNvidia unveils Blackwell B200, the “world’s most powerful chip” designed for AI\\n208B transistor chip can reportedly reduce AI cost and energy consumption by up to 25x.\\n Benj Edwards\\n-\\nMar 19, 2024 3:27 pm UTC\\nOn Monday, Nvidia unveiled the Blackwell B200 tensor core chip—the company's most powerful single-chip GPU, with 208 billion transistors—which Nvidia claims can reduce AI inference operating costs (such as running ChatGPT) and energy consumption by up to 25 times compared to the H100. Further Reading\\nWhile Nvidia's claims about the Blackwell platform's capabilities are significant, it's worth noting that its real-world performance and adoption of the technology remain to be seen as organizations begin to implement and utilize the platform themselves. With the dawn of new deep learning architectures in the 2010s, Nvidia found itself in an ideal position to capitalize on the AI revolution and began designing specialized GPUs just for the task of accelerating AI models.\\n Several major organizations, such as Amazon Web Services, Dell Technologies, Google, Meta, Microsoft, OpenAI, Oracle, Tesla, and xAI, are expected to adopt the Blackwell platform, and Nvidia's press release is replete with canned quotes from tech CEOs (key Nvidia customers) like Mark Zuckerberg and Sam Altman praising the platform.\\n\", 'Sign-in with:\\nNvidia Reveals Blackwell: The ‘World’s Most Powerful Chip’ for AI\\nNvidia took the GTC stage to unveil Blackwell, a platform built upon a 208 billion transistor, dual-die GPU with a 10 TB/s chip-to-chip interconnect.\\n Nvidia Unveils the 208-Billion Transistor Blackwell GPU\\nNvidia designed the Blackwell GPU\\xa0to be the world’s largest GPU built specifically for datacenter-scale generative AI. The Blackwell architecture was named in honor of David Harold Blackwell, a statistician and mathematician who specialized in game theory, probability theory, and statistics\\xa0and was the first black scholar inducted into the National Academy of Sciences. The GB200 NVL72 acts as a single GPU, with a 30X performance increase and a 25X decrease in total cost of ownership (TCO) over the prior-generation Nvidia server, the H100.\\n Multiple GB200s can be linked in cluster form with Nvidia’s new Quantum-X800 and Spectrum-X800 Ethernet at speeds up to 800 GB/s.\\nNvidia also introduced\\xa0its take on the server rack, the GB200 NVL72.', 'NVIDIA today announced its next-generation AI supercomputer — the NVIDIA DGX SuperPOD™ powered by NVIDIA GB200 Grace Blackwell Superchips — for processing trillion-parameter models with constant uptime for superscale generative AI training and inference workloads. ... Industrial and Scientific AI Applications at the Edge With Enterprise ...', 'Blackwell’s Decompression Engine and ability to access massive amounts of memory in the NVIDIA Grace™ CPU over a high-speed link—900 gigabytes per second (GB/s) of bidirectional bandwidth—accelerate the full pipeline of database queries for the highest performance in data analytics and data science with support for the latest compression formats such as LZ4, Snappy, and Deflate.\\n Second-Generation Transformer Engine\\nThe second-generation Transformer Engine uses custom Blackwell Tensor Core technology combined with NVIDIA® TensorRT™-LLM and NeMo™ Framework innovations to accelerate inference and training for large language models (LLMs) and Mixture-of-Experts (MoE) models.\\n NVLink and NVLink Switch\\nUnlocking the full potential of exascale computing and trillion-parameter AI models hinges on the need for swift, seamless communication among every GPU within a server cluster. Breaking Barriers in Accelerated Computing and Generative AI\\nExplore the groundbreaking advancements the NVIDIA Blackwell architecture brings to generative AI and accelerated computing. The NVIDIA NVLink Switch Chip enables 130TB/s of GPU bandwidth in one 72-GPU NVLink domain (NVL72) and delivers 4X bandwidth efficiency with NVIDIA Scalable Hierarchical Aggregation and Reduction Protocol (SHARP)™ FP8 support.', \"Nvidia's Blackwell GPUs for AI applications will be more expensive than the company's Hopper-based processors, according to analysts from HSBC cited by @firstadopter, a senior writer from Barron's ...\", 'Blackwell’s Decompression Engine and ability to access massive amounts of memory in the NVIDIA Grace™ CPU over a high-speed link—900 gigabytes per second (GB/s) of bidirectional bandwidth—accelerate the full pipeline of database queries for the highest performance in data analytics and data science with support for the latest compression formats such as LZ4, Snappy, and Deflate.\\n Second-Generation Transformer Engine\\nThe second-generation Transformer Engine uses custom Blackwell Tensor Core technology combined with NVIDIA® TensorRT™-LLM and NeMo™ Framework innovations to accelerate inference and training for large language models (LLMs) and Mixture-of-Experts (MoE) models.\\n NVLink and NVLink Switch\\nUnlocking the full potential of exascale computing and trillion-parameter AI models hinges on the need for swift, seamless communication among every GPU within a server cluster. Breaking Barriers in Accelerated Computing and Generative AI\\nExplore the groundbreaking advancements the NVIDIA Blackwell architecture brings to generative AI and accelerated computing. The NVIDIA NVLink Switch Chip enables 130TB/s of GPU bandwidth in one 72-GPU NVLink domain (NVL72) and delivers 4X bandwidth efficiency with NVIDIA Scalable Hierarchical Aggregation and Reduction Protocol (SHARP)™ FP8 support.', 'Introduction 4 NVIDIA Blackwell Architecture Technical Brief Pioneering AI Innovation In the rapidly evolving landscape of AI and large language models (LLMs), the pursuit of', 'The Blackwell GPU architecture is also expected to be used in the upcoming generation of GeForce graphics cards, with the RTX 5000 Series (including the flagship RTX 5090) tipped to become the most powerful chips for gaming.\\n Nvidia Blackwell B200: The AI GPU explained\\nIn This Article\\nNvidia may be widely known for its gaming-centric graphics cards, but behind the scenes, the company is actually making most of its money from its advances in artificial intelligence. The H100 was based on the Hopper architecture which sat parallel to Ada Lovelace – the architecture used in the Nvidia 40 Series graphics cards for gamers.\\n The Nvidia Blackwell B200 is instead intended for companies rather than individuals, with the likes of Amazon Web Services, Dell Technologies, Google, Meta, Microsoft, OpenAI, Oracle, Tesla and xAI all confirmed to adopt the AI chip.\\n For reference, the current most powerful GeForce graphics card – the Nvidia RTX 4090 – only has 76 billion transistors, emphasising the absurd power on offer with the B200.\\n', \"Similar to Intel and AMD, these in-house chips are unlikely to rival the compute capacity of Nvidia's H100 or Blackwell architecture. But they are going to take up valuable real estate in AI ...\", \"Considering that Nvidia's rivals AMD and Intel are gaining traction very slowly with their AI processors (e.g., Instinct MI300-series, Gaudi 3), Nvidia can certainly sell its AI processors at a ...\"]}}\n",
      "----------------------------------------------------------------------------------------------------\n",
      "{'generate': {'draft': \"**Nvidia Blackwell AI Chip: Pioneering the Future of Artificial Intelligence**\\n\\n**I. Introduction**\\n\\nNvidia has long been recognized as a leader in the realms of artificial intelligence (AI) and graphics processing units (GPUs). Since its inception in 1993, the company has consistently pushed the boundaries of technology, from its early days of revolutionizing 3D graphics to its current dominance in AI computing. The importance of AI chips in modern computing cannot be overstated, as they serve as the backbone for a myriad of applications, ranging from data analysis to autonomous systems. Among its latest innovations, the Blackwell AI chip stands out as a significant advancement in the field, promising to enhance AI capabilities and drive further innovation.\\n\\nThe Blackwell architecture, named in honor of the esteemed statistician David Harold Blackwell, represents a leap forward in GPU technology. With its impressive specifications and groundbreaking features, the Blackwell chip is poised to redefine the landscape of AI computing. This essay will explore the technical specifications of the Blackwell AI chip, its applications across various industries, its competitive landscape, and its future prospects, ultimately highlighting Nvidia's pivotal role in shaping the future of AI technology.\\n\\n**II. Technical Specifications of the Blackwell AI Chip**\\n\\nThe Blackwell AI chip boasts a sophisticated architecture designed to maximize performance and efficiency. At its core, the chip features a dual-die GPU with an astounding 208 billion transistors, making it the most powerful single-chip GPU to date. This architecture includes advanced cores and memory configurations that facilitate rapid data processing and high throughput. Innovations in manufacturing processes, such as the use of smaller node sizes and cutting-edge materials, further enhance the chip's capabilities.\\n\\nPerformance metrics for the Blackwell chip are impressive, with benchmarks indicating a 30X performance increase and a 25X reduction in total cost of ownership compared to its predecessor, the H100. Additionally, the chip's power efficiency and thermal management systems have been optimized to ensure sustained performance under demanding workloads, making it an ideal choice for data centers and AI applications.\\n\\n**III. Applications of the Blackwell AI Chip**\\n\\nThe versatility of the Blackwell AI chip allows it to be utilized across various industries, each benefiting from its advanced capabilities. In healthcare, for instance, the chip can enhance medical imaging technologies and accelerate drug discovery processes, leading to improved patient outcomes. In the automotive sector, the Blackwell chip supports autonomous driving systems and smart navigation, contributing to safer and more efficient transportation solutions. Furthermore, its applications in data centers and cloud computing enable organizations to harness the power of AI for data analytics and machine learning.\\n\\nThe impact of the Blackwell AI chip extends beyond specific industries; it also plays a crucial role in advancing AI research and development. By enhancing machine learning and deep learning capabilities, the chip facilitates breakthroughs in natural language processing and computer vision, paving the way for more sophisticated AI applications.\\n\\n**IV. Competitive Landscape**\\n\\nIn the competitive landscape of AI chips, Nvidia faces challenges from key players such as AMD, Intel, and Google. Each competitor has its strengths and weaknesses, but the Blackwell chip's unparalleled performance and efficiency give Nvidia a significant edge. While AMD and Intel are gradually making strides in AI processor development, they have yet to match the capabilities of the Blackwell architecture.\\n\\nNvidia's market positioning is robust, with a substantial share of the AI chip sector. The company's strategic partnerships with major organizations, including Amazon Web Services and Microsoft, further solidify its influence in the industry. However, as the demand for AI technology continues to grow, Nvidia must remain vigilant against emerging competitors and evolving market trends.\\n\\n**V. Future Prospects and Innovations**\\n\\nLooking ahead, the future of AI chip technology is rife with potential advancements. Nvidia is expected to continue releasing innovative chips that build upon the success of the Blackwell architecture. Additionally, emerging technologies, such as quantum computing, may influence the development of AI chips, leading to even greater capabilities.\\n\\nThe long-term implications of advanced AI capabilities extend beyond technology; they also raise ethical considerations regarding AI development and its societal impacts. As AI systems become more powerful, it is essential to address issues such as bias, privacy, and the potential for job displacement, ensuring that the benefits of AI are realized responsibly.\\n\\n**VI. Conclusion**\\n\\nIn conclusion, the Nvidia Blackwell AI chip represents a significant milestone in the evolution of artificial intelligence technology. Its advanced architecture, impressive performance metrics, and wide-ranging applications underscore Nvidia's pivotal role in shaping the future of AI. As the company continues to innovate and push the boundaries of what is possible, the Blackwell chip will undoubtedly play a crucial role in driving the next wave of AI advancements, ultimately transforming industries and society as a whole.\", 'revision_number': 3}}\n",
      "----------------------------------------------------------------------------------------------------\n"
     ]
    }
   ],
   "source": [
    "thread = {'configurable': {'thread_id': '1'}}\n",
    "task = 'Nvidia  Blackwell AI chip'\n",
    "\n",
    "prompt = {\n",
    "    'task': task,\n",
    "    'max_revisions': 2,\n",
    "    'revision_number': 1,\n",
    "}\n",
    "\n",
    "events = graph.stream(prompt, thread)\n",
    "for e in events:\n",
    "    print(e)\n",
    "    print('-' * 100)"
   ]
  },
  {
   "cell_type": "code",
   "execution_count": 17,
   "id": "e1e91ddb-7f9a-4f05-b9fb-d02b57fe4278",
   "metadata": {},
   "outputs": [
    {
     "name": "stdout",
     "output_type": "stream",
     "text": [
      "**Nvidia Blackwell AI Chip: Pioneering the Future of Artificial Intelligence**\n",
      "\n",
      "**I. Introduction**\n",
      "\n",
      "Nvidia has long been recognized as a leader in the realms of artificial intelligence (AI) and graphics processing units (GPUs). Since its inception in 1993, the company has consistently pushed the boundaries of technology, from its early days of revolutionizing 3D graphics to its current dominance in AI computing. The importance of AI chips in modern computing cannot be overstated, as they serve as the backbone for a myriad of applications, ranging from data analysis to autonomous systems. Among its latest innovations, the Blackwell AI chip stands out as a significant advancement in the field, promising to enhance AI capabilities and drive further innovation.\n",
      "\n",
      "The Blackwell architecture, named in honor of the esteemed statistician David Harold Blackwell, represents a leap forward in GPU technology. With its impressive specifications and groundbreaking features, the Blackwell chip is poised to redefine the landscape of AI computing. This essay will explore the technical specifications of the Blackwell AI chip, its applications across various industries, its competitive landscape, and its future prospects, ultimately highlighting Nvidia's pivotal role in shaping the future of AI technology.\n",
      "\n",
      "**II. Technical Specifications of the Blackwell AI Chip**\n",
      "\n",
      "The Blackwell AI chip boasts a sophisticated architecture designed to maximize performance and efficiency. At its core, the chip features a dual-die GPU with an astounding 208 billion transistors, making it the most powerful single-chip GPU to date. This architecture includes advanced cores and memory configurations that facilitate rapid data processing and high throughput. Innovations in manufacturing processes, such as the use of smaller node sizes and cutting-edge materials, further enhance the chip's capabilities.\n",
      "\n",
      "Performance metrics for the Blackwell chip are impressive, with benchmarks indicating a 30X performance increase and a 25X reduction in total cost of ownership compared to its predecessor, the H100. Additionally, the chip's power efficiency and thermal management systems have been optimized to ensure sustained performance under demanding workloads, making it an ideal choice for data centers and AI applications.\n",
      "\n",
      "**III. Applications of the Blackwell AI Chip**\n",
      "\n",
      "The versatility of the Blackwell AI chip allows it to be utilized across various industries, each benefiting from its advanced capabilities. In healthcare, for instance, the chip can enhance medical imaging technologies and accelerate drug discovery processes, leading to improved patient outcomes. In the automotive sector, the Blackwell chip supports autonomous driving systems and smart navigation, contributing to safer and more efficient transportation solutions. Furthermore, its applications in data centers and cloud computing enable organizations to harness the power of AI for data analytics and machine learning.\n",
      "\n",
      "The impact of the Blackwell AI chip extends beyond specific industries; it also plays a crucial role in advancing AI research and development. By enhancing machine learning and deep learning capabilities, the chip facilitates breakthroughs in natural language processing and computer vision, paving the way for more sophisticated AI applications.\n",
      "\n",
      "**IV. Competitive Landscape**\n",
      "\n",
      "In the competitive landscape of AI chips, Nvidia faces challenges from key players such as AMD, Intel, and Google. Each competitor has its strengths and weaknesses, but the Blackwell chip's unparalleled performance and efficiency give Nvidia a significant edge. While AMD and Intel are gradually making strides in AI processor development, they have yet to match the capabilities of the Blackwell architecture.\n",
      "\n",
      "Nvidia's market positioning is robust, with a substantial share of the AI chip sector. The company's strategic partnerships with major organizations, including Amazon Web Services and Microsoft, further solidify its influence in the industry. However, as the demand for AI technology continues to grow, Nvidia must remain vigilant against emerging competitors and evolving market trends.\n",
      "\n",
      "**V. Future Prospects and Innovations**\n",
      "\n",
      "Looking ahead, the future of AI chip technology is rife with potential advancements. Nvidia is expected to continue releasing innovative chips that build upon the success of the Blackwell architecture. Additionally, emerging technologies, such as quantum computing, may influence the development of AI chips, leading to even greater capabilities.\n",
      "\n",
      "The long-term implications of advanced AI capabilities extend beyond technology; they also raise ethical considerations regarding AI development and its societal impacts. As AI systems become more powerful, it is essential to address issues such as bias, privacy, and the potential for job displacement, ensuring that the benefits of AI are realized responsibly.\n",
      "\n",
      "**VI. Conclusion**\n",
      "\n",
      "In conclusion, the Nvidia Blackwell AI chip represents a significant milestone in the evolution of artificial intelligence technology. Its advanced architecture, impressive performance metrics, and wide-ranging applications underscore Nvidia's pivotal role in shaping the future of AI. As the company continues to innovate and push the boundaries of what is possible, the Blackwell chip will undoubtedly play a crucial role in driving the next wave of AI advancements, ultimately transforming industries and society as a whole.\n"
     ]
    }
   ],
   "source": [
    "print(e['generate']['draft'])"
   ]
  },
  {
   "cell_type": "code",
   "execution_count": null,
   "id": "fcecc8b9-a532-4c64-8c75-e586dd3d2f03",
   "metadata": {},
   "outputs": [],
   "source": []
  }
 ],
 "metadata": {
  "kernelspec": {
   "display_name": "Python 3 (ipykernel)",
   "language": "python",
   "name": "python3"
  },
  "language_info": {
   "codemirror_mode": {
    "name": "ipython",
    "version": 3
   },
   "file_extension": ".py",
   "mimetype": "text/x-python",
   "name": "python",
   "nbconvert_exporter": "python",
   "pygments_lexer": "ipython3",
   "version": "3.11.9"
  },
  "widgets": {
   "application/vnd.jupyter.widget-state+json": {
    "state": {},
    "version_major": 2,
    "version_minor": 0
   }
  }
 },
 "nbformat": 4,
 "nbformat_minor": 5
}
