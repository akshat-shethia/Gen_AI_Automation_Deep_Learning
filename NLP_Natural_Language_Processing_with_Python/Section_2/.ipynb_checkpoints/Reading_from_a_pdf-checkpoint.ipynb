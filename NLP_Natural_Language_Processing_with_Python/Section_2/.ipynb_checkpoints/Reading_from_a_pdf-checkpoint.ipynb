{
 "cells": [
  {
   "cell_type": "code",
   "execution_count": 1,
   "id": "a23a6f2e",
   "metadata": {},
   "outputs": [],
   "source": [
    "import PyPDF2"
   ]
  },
  {
   "cell_type": "code",
   "execution_count": 2,
   "id": "5349ad38",
   "metadata": {},
   "outputs": [],
   "source": [
    "myfile = open(\"preamble-to-the-indian-constitution.pdf\",\"rb\")"
   ]
  },
  {
   "cell_type": "code",
   "execution_count": 3,
   "id": "17c785d5",
   "metadata": {},
   "outputs": [],
   "source": [
    "pdf_reader = PyPDF2.PdfReader(myfile)"
   ]
  },
  {
   "cell_type": "code",
   "execution_count": 4,
   "id": "e50cd517",
   "metadata": {},
   "outputs": [
    {
     "data": {
      "text/plain": [
       "5"
      ]
     },
     "execution_count": 4,
     "metadata": {},
     "output_type": "execute_result"
    }
   ],
   "source": [
    "len(pdf_reader.pages)"
   ]
  },
  {
   "cell_type": "code",
   "execution_count": 5,
   "id": "46699384",
   "metadata": {},
   "outputs": [
    {
     "data": {
      "text/plain": [
       "'Preamble to the Indian Constitution\\ndrishtiias.com\\n/printpdf/preamble-to-the-indian-constitution\\nWhat is a Preamble?\\nA preamble is an introductory statement in a document that explains the document’s\\nphilosophy and objectives.\\nIn a Constitution, it presents the \\nintention of its framers,\\n the \\nhistory behind\\nits creation,\\n and the \\ncore values\\n and\\n principles of the nation.\\nThe preamble basically gives idea of the following things/objects:\\nSource of the Constitution\\nNature of Indian State\\nStatement of its objectives\\nDate of its adoption\\nHistory of the Preamble to Indian Constitution\\nThe ideals behind the Preamble to India’s Constitution were laid down by\\nJawaharlal Nehru’s Objectives Resolution,\\n adopted by the Constituent\\nAssembly on January 22, 1947.\\nAlthough not enforceable in court, the Preamble states the objectives of the\\nConstitution, and acts as an aid during the interpretation of Articles when language is\\nfound ambiguous.\\nComponents of Preamble\\nIt is indicated by the Preamble that the \\nsource of authority\\n of the Constitution lies\\nwith the \\npeople of India.\\nPreamble declares India to be a \\nsovereign, socialist, secular and democratic\\nrepublic.\\nThe objectives stated by the Preamble are to\\n secure justice, liberty, equality to\\nall citizens and promote fraternity to maintain unity and integrity of the\\nnation.\\n1/5'"
      ]
     },
     "execution_count": 5,
     "metadata": {},
     "output_type": "execute_result"
    }
   ],
   "source": [
    "page_one = pdf_reader.pages[0]\n",
    "page_one.extract_text()"
   ]
  },
  {
   "cell_type": "markdown",
   "id": "4116fd44",
   "metadata": {},
   "source": [
    "### This is how to open a pdf file and read its contents, now we will use the write commands"
   ]
  },
  {
   "cell_type": "code",
   "execution_count": 6,
   "id": "312de3dc",
   "metadata": {},
   "outputs": [],
   "source": [
    "my_file = open(\"preamble-to-the-indian-constitution.pdf\",\"rb\")"
   ]
  },
  {
   "cell_type": "code",
   "execution_count": 7,
   "id": "5e910e1d",
   "metadata": {},
   "outputs": [],
   "source": [
    "pdf_writer = PyPDF2.PdfWriter(my_file)"
   ]
  },
  {
   "cell_type": "code",
   "execution_count": 8,
   "id": "00e6475c",
   "metadata": {},
   "outputs": [
    {
     "data": {
      "text/plain": [
       "{'/Type': '/Page',\n",
       " '/Contents': {'/Filter': '/FlateDecode'},\n",
       " '/Resources': {'/ColorSpace': {'/PCSp': ['/Pattern', '/DeviceRGB'],\n",
       "   '/CSp': '/DeviceRGB',\n",
       "   '/CSpg': '/DeviceGray'},\n",
       "  '/ExtGState': {'/GSa': {'/Type': '/ExtGState',\n",
       "    '/SA': True,\n",
       "    '/SM': 0.02,\n",
       "    '/ca': 1,\n",
       "    '/CA': 1,\n",
       "    '/AIS': False,\n",
       "    '/SMask': '/None'}},\n",
       "  '/Pattern': {},\n",
       "  '/Font': {'/F10': {'/Type': '/Font',\n",
       "    '/Subtype': '/Type0',\n",
       "    '/BaseFont': '/Arial-BoldMT',\n",
       "    '/Encoding': '/Identity-H',\n",
       "    '/DescendantFonts': [IndirectObject(10, 0, 2278085664584)],\n",
       "    '/ToUnicode': {}},\n",
       "   '/F13': {'/Type': '/Font',\n",
       "    '/Subtype': '/Type0',\n",
       "    '/BaseFont': '/ArialMT',\n",
       "    '/Encoding': '/Identity-H',\n",
       "    '/DescendantFonts': [IndirectObject(15, 0, 2278085664584)],\n",
       "    '/ToUnicode': {}},\n",
       "   '/F14': {'/Type': '/Font',\n",
       "    '/Subtype': '/Type0',\n",
       "    '/BaseFont': '/Georgia',\n",
       "    '/Encoding': '/Identity-H',\n",
       "    '/DescendantFonts': [IndirectObject(20, 0, 2278085664584)],\n",
       "    '/ToUnicode': {}},\n",
       "   '/F15': {'/Type': '/Font',\n",
       "    '/Subtype': '/Type0',\n",
       "    '/BaseFont': '/Georgia-Bold',\n",
       "    '/Encoding': '/Identity-H',\n",
       "    '/DescendantFonts': [IndirectObject(25, 0, 2278085664584)],\n",
       "    '/ToUnicode': {}}},\n",
       "  '/XObject': {'/Im8': {'/Type': '/XObject',\n",
       "    '/Subtype': '/Image',\n",
       "    '/Width': 249,\n",
       "    '/Height': 150,\n",
       "    '/BitsPerComponent': 8,\n",
       "    '/ColorSpace': '/DeviceRGB',\n",
       "    '/SMask': {'/Type': '/XObject',\n",
       "     '/Subtype': '/Image',\n",
       "     '/Width': 249,\n",
       "     '/Height': 150,\n",
       "     '/BitsPerComponent': 8,\n",
       "     '/ColorSpace': '/DeviceGray',\n",
       "     '/Filter': '/FlateDecode'},\n",
       "    '/Filter': '/FlateDecode'},\n",
       "   '/Im11': {'/Type': '/XObject',\n",
       "    '/Subtype': '/Image',\n",
       "    '/Width': 16,\n",
       "    '/Height': 16,\n",
       "    '/BitsPerComponent': 8,\n",
       "    '/ColorSpace': '/DeviceRGB',\n",
       "    '/Filter': '/FlateDecode'}}},\n",
       " '/Annots': [IndirectObject(33, 0, 2278085664584)],\n",
       " '/MediaBox': [0, 0, 612, 792],\n",
       " '/Parent': {'/Type': '/Pages',\n",
       "  '/Count': 1,\n",
       "  '/Kids': [IndirectObject(4, 0, 2278085664584)]}}"
      ]
     },
     "execution_count": 8,
     "metadata": {},
     "output_type": "execute_result"
    }
   ],
   "source": [
    "pdf_writer.add_page(page_one)"
   ]
  },
  {
   "cell_type": "code",
   "execution_count": 11,
   "id": "dead3995",
   "metadata": {},
   "outputs": [],
   "source": [
    "pdf_output = open(\"MY_BRAND_NEW_PDF.pdf\",\"wb\")"
   ]
  },
  {
   "cell_type": "code",
   "execution_count": 12,
   "id": "d457a9ee",
   "metadata": {},
   "outputs": [],
   "source": [
    "pdf_writer.write(pdf_output)\n",
    "pdf_output.close()\n",
    "my_file.close()"
   ]
  }
 ],
 "metadata": {
  "kernelspec": {
   "display_name": "Python 3 (ipykernel)",
   "language": "python",
   "name": "python3"
  },
  "language_info": {
   "codemirror_mode": {
    "name": "ipython",
    "version": 3
   },
   "file_extension": ".py",
   "mimetype": "text/x-python",
   "name": "python",
   "nbconvert_exporter": "python",
   "pygments_lexer": "ipython3",
   "version": "3.7.16"
  }
 },
 "nbformat": 4,
 "nbformat_minor": 5
}
