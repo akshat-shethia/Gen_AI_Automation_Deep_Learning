{
 "cells": [
  {
   "cell_type": "markdown",
   "id": "f4fda1e9-8c15-4209-b090-00e24d0f1072",
   "metadata": {},
   "source": [
    "<a href = \"https://www.pieriantraining.com\"><img src=\"../PT Centered Purple.png\"> </a>\n",
    "\n",
    "<em style=\"text-align:center\">Copyrighted by Pierian Training</em>"
   ]
  },
  {
   "cell_type": "markdown",
   "id": "962ce586-fb63-4b75-b748-f3cae503cd60",
   "metadata": {},
   "source": [
    "# Advanced Settings with AutoGluon\n",
    "\n",
    "In this notebook we are going to inspect some advanced settings like smaller hyperparameter sets.\n",
    "\n",
    "The same dataset as in the previous notebook will be used, however to save time for the demonstrations, we'll shrink the dataset to just 10% of the size."
   ]
  },
  {
   "cell_type": "code",
   "execution_count": 14,
   "id": "ee503797",
   "metadata": {},
   "outputs": [],
   "source": [
    "from autogluon.tabular import TabularDataset, TabularPredictor"
   ]
  },
  {
   "cell_type": "code",
   "execution_count": 5,
   "id": "7b75b0dc-aa26-4f49-9225-a5ead4df9a92",
   "metadata": {},
   "outputs": [],
   "source": [
    "data = TabularDataset(\"data/uber/uber.csv\")\n",
    "# To save time, let's make the data a little smaller!\n",
    "data = data.sample((len(data)//3),random_state=42)"
   ]
  },
  {
   "cell_type": "code",
   "execution_count": 6,
   "id": "f4fe2e43-84dc-462a-ac78-e22cd5cbc35c",
   "metadata": {},
   "outputs": [
    {
     "data": {
      "text/plain": [
       "66666"
      ]
     },
     "execution_count": 6,
     "metadata": {},
     "output_type": "execute_result"
    }
   ],
   "source": [
    "len(data)"
   ]
  },
  {
   "cell_type": "code",
   "execution_count": 7,
   "id": "5778c9cc-712e-414c-bb2b-a6a7cb29b9b3",
   "metadata": {},
   "outputs": [],
   "source": [
    "train_size = len(data)//10\n",
    "seed = 42\n",
    "train_data = data.sample(train_size, random_state=seed)\n",
    "test_data = data.drop(train_data.index)"
   ]
  },
  {
   "cell_type": "markdown",
   "id": "0ffe74c2",
   "metadata": {},
   "source": [
    "### Presets\n",
    "\n",
    "Autogluon comes with many presets that you can pass to the training routine.\n",
    "The training process will be adjusted depending on these presets.\n",
    "\n",
    "You can find the documentation about all presets here:\n",
    "https://auto.gluon.ai/stable/api/autogluon.tabular.TabularPredictor.fit.html#:~:text=num_bag_sets%20is%20specified.-,presets\n",
    "Currently the following presets are available:\n",
    "[‘best_quality’, ‘high_quality’, ‘good_quality’, ‘medium_quality’, ‘optimize_for_deployment’, ‘interpretable’, ‘ignore_text’]\n",
    "\n",
    "\n",
    "To get the best possible model you can use the *best_quality* preset - this will however drastically increase the training time.\n",
    "\n",
    "To reduce the training time we can exclude both Neural Networks via <br />\n",
    "**predictor.fit(train_data, presets=presets, excluded_model_types=[\"NN_TORCH\", \"FASTAI\"])**\n",
    "\n"
   ]
  },
  {
   "cell_type": "code",
   "execution_count": null,
   "id": "9477e82b",
   "metadata": {},
   "outputs": [],
   "source": [
    "save_path = 'uber_predictors_preset'\n",
    "presets = [\"best_quality\"]\n",
    "predictor = TabularPredictor(label=\"fare_amount\", path=save_path)\n",
    "predictor.fit(train_data, presets=presets, excluded_model_types=[\"NN_TORCH\", \"FASTAI\"])"
   ]
  },
  {
   "cell_type": "markdown",
   "id": "d34e8178",
   "metadata": {},
   "source": [
    "Let's check the leaderboard to get a ranking of the individual models"
   ]
  },
  {
   "cell_type": "code",
   "execution_count": 9,
   "id": "bc9517cc",
   "metadata": {},
   "outputs": [
    {
     "name": "stdout",
     "output_type": "stream",
     "text": [
      "                    model  score_val  pred_time_val  fit_time  pred_time_val_marginal  fit_time_marginal  stack_level  can_infer  fit_order\n",
      "0     WeightedEnsemble_L2  -5.773691       0.629315  3.692127                0.000000           0.172537            2       True          5\n",
      "1  RandomForestMSE_BAG_L1  -5.782839       0.316154  2.685818                0.316154           2.685818            1       True          3\n",
      "2     WeightedEnsemble_L3  -5.885338       1.292543  7.775210                0.000998           0.130651            3       True          8\n",
      "3    ExtraTreesMSE_BAG_L2  -5.896083       0.943477  4.541854                0.284240           0.983370            2       True          7\n",
      "4  RandomForestMSE_BAG_L2  -6.016210       1.007305  6.661188                0.348069           3.102704            2       True          6\n",
      "5    ExtraTreesMSE_BAG_L1  -6.800786       0.313161  0.833771                0.313161           0.833771            1       True          4\n",
      "6   KNeighborsUnif_BAG_L1 -10.714851       0.016956  0.017951                0.016956           0.017951            1       True          1\n",
      "7   KNeighborsDist_BAG_L1 -11.292901       0.012966  0.020944                0.012966           0.020944            1       True          2\n"
     ]
    },
    {
     "data": {
      "text/html": [
       "<div>\n",
       "<style scoped>\n",
       "    .dataframe tbody tr th:only-of-type {\n",
       "        vertical-align: middle;\n",
       "    }\n",
       "\n",
       "    .dataframe tbody tr th {\n",
       "        vertical-align: top;\n",
       "    }\n",
       "\n",
       "    .dataframe thead th {\n",
       "        text-align: right;\n",
       "    }\n",
       "</style>\n",
       "<table border=\"1\" class=\"dataframe\">\n",
       "  <thead>\n",
       "    <tr style=\"text-align: right;\">\n",
       "      <th></th>\n",
       "      <th>model</th>\n",
       "      <th>score_val</th>\n",
       "      <th>pred_time_val</th>\n",
       "      <th>fit_time</th>\n",
       "      <th>pred_time_val_marginal</th>\n",
       "      <th>fit_time_marginal</th>\n",
       "      <th>stack_level</th>\n",
       "      <th>can_infer</th>\n",
       "      <th>fit_order</th>\n",
       "    </tr>\n",
       "  </thead>\n",
       "  <tbody>\n",
       "    <tr>\n",
       "      <th>0</th>\n",
       "      <td>WeightedEnsemble_L2</td>\n",
       "      <td>-5.773691</td>\n",
       "      <td>0.629315</td>\n",
       "      <td>3.692127</td>\n",
       "      <td>0.000000</td>\n",
       "      <td>0.172537</td>\n",
       "      <td>2</td>\n",
       "      <td>True</td>\n",
       "      <td>5</td>\n",
       "    </tr>\n",
       "    <tr>\n",
       "      <th>1</th>\n",
       "      <td>RandomForestMSE_BAG_L1</td>\n",
       "      <td>-5.782839</td>\n",
       "      <td>0.316154</td>\n",
       "      <td>2.685818</td>\n",
       "      <td>0.316154</td>\n",
       "      <td>2.685818</td>\n",
       "      <td>1</td>\n",
       "      <td>True</td>\n",
       "      <td>3</td>\n",
       "    </tr>\n",
       "    <tr>\n",
       "      <th>2</th>\n",
       "      <td>WeightedEnsemble_L3</td>\n",
       "      <td>-5.885338</td>\n",
       "      <td>1.292543</td>\n",
       "      <td>7.775210</td>\n",
       "      <td>0.000998</td>\n",
       "      <td>0.130651</td>\n",
       "      <td>3</td>\n",
       "      <td>True</td>\n",
       "      <td>8</td>\n",
       "    </tr>\n",
       "    <tr>\n",
       "      <th>3</th>\n",
       "      <td>ExtraTreesMSE_BAG_L2</td>\n",
       "      <td>-5.896083</td>\n",
       "      <td>0.943477</td>\n",
       "      <td>4.541854</td>\n",
       "      <td>0.284240</td>\n",
       "      <td>0.983370</td>\n",
       "      <td>2</td>\n",
       "      <td>True</td>\n",
       "      <td>7</td>\n",
       "    </tr>\n",
       "    <tr>\n",
       "      <th>4</th>\n",
       "      <td>RandomForestMSE_BAG_L2</td>\n",
       "      <td>-6.016210</td>\n",
       "      <td>1.007305</td>\n",
       "      <td>6.661188</td>\n",
       "      <td>0.348069</td>\n",
       "      <td>3.102704</td>\n",
       "      <td>2</td>\n",
       "      <td>True</td>\n",
       "      <td>6</td>\n",
       "    </tr>\n",
       "    <tr>\n",
       "      <th>5</th>\n",
       "      <td>ExtraTreesMSE_BAG_L1</td>\n",
       "      <td>-6.800786</td>\n",
       "      <td>0.313161</td>\n",
       "      <td>0.833771</td>\n",
       "      <td>0.313161</td>\n",
       "      <td>0.833771</td>\n",
       "      <td>1</td>\n",
       "      <td>True</td>\n",
       "      <td>4</td>\n",
       "    </tr>\n",
       "    <tr>\n",
       "      <th>6</th>\n",
       "      <td>KNeighborsUnif_BAG_L1</td>\n",
       "      <td>-10.714851</td>\n",
       "      <td>0.016956</td>\n",
       "      <td>0.017951</td>\n",
       "      <td>0.016956</td>\n",
       "      <td>0.017951</td>\n",
       "      <td>1</td>\n",
       "      <td>True</td>\n",
       "      <td>1</td>\n",
       "    </tr>\n",
       "    <tr>\n",
       "      <th>7</th>\n",
       "      <td>KNeighborsDist_BAG_L1</td>\n",
       "      <td>-11.292901</td>\n",
       "      <td>0.012966</td>\n",
       "      <td>0.020944</td>\n",
       "      <td>0.012966</td>\n",
       "      <td>0.020944</td>\n",
       "      <td>1</td>\n",
       "      <td>True</td>\n",
       "      <td>2</td>\n",
       "    </tr>\n",
       "  </tbody>\n",
       "</table>\n",
       "</div>"
      ],
      "text/plain": [
       "                    model  score_val  pred_time_val  fit_time  \\\n",
       "0     WeightedEnsemble_L2  -5.773691       0.629315  3.692127   \n",
       "1  RandomForestMSE_BAG_L1  -5.782839       0.316154  2.685818   \n",
       "2     WeightedEnsemble_L3  -5.885338       1.292543  7.775210   \n",
       "3    ExtraTreesMSE_BAG_L2  -5.896083       0.943477  4.541854   \n",
       "4  RandomForestMSE_BAG_L2  -6.016210       1.007305  6.661188   \n",
       "5    ExtraTreesMSE_BAG_L1  -6.800786       0.313161  0.833771   \n",
       "6   KNeighborsUnif_BAG_L1 -10.714851       0.016956  0.017951   \n",
       "7   KNeighborsDist_BAG_L1 -11.292901       0.012966  0.020944   \n",
       "\n",
       "   pred_time_val_marginal  fit_time_marginal  stack_level  can_infer  \\\n",
       "0                0.000000           0.172537            2       True   \n",
       "1                0.316154           2.685818            1       True   \n",
       "2                0.000998           0.130651            3       True   \n",
       "3                0.284240           0.983370            2       True   \n",
       "4                0.348069           3.102704            2       True   \n",
       "5                0.313161           0.833771            1       True   \n",
       "6                0.016956           0.017951            1       True   \n",
       "7                0.012966           0.020944            1       True   \n",
       "\n",
       "   fit_order  \n",
       "0          5  \n",
       "1          3  \n",
       "2          8  \n",
       "3          7  \n",
       "4          6  \n",
       "5          4  \n",
       "6          1  \n",
       "7          2  "
      ]
     },
     "execution_count": 9,
     "metadata": {},
     "output_type": "execute_result"
    }
   ],
   "source": [
    "predictor.leaderboard()"
   ]
  },
  {
   "cell_type": "code",
   "execution_count": 10,
   "id": "4b2289de",
   "metadata": {},
   "outputs": [
    {
     "name": "stderr",
     "output_type": "stream",
     "text": [
      "Evaluation: root_mean_squared_error on test data: -5.948512879596984\n",
      "\tNote: Scores are always higher_is_better. This metric score can be multiplied by -1 to get the metric value.\n",
      "Evaluations on test data:\n",
      "{\n",
      "    \"root_mean_squared_error\": -5.948512879596984,\n",
      "    \"mean_squared_error\": -35.384805478731195,\n",
      "    \"mean_absolute_error\": -2.5376794884308183,\n",
      "    \"r2\": 0.6577656018723376,\n",
      "    \"pearsonr\": 0.8113561769828805,\n",
      "    \"median_absolute_error\": -1.5141555786132814\n",
      "}\n"
     ]
    }
   ],
   "source": [
    "y_test = test_data[\"fare_amount\"]\n",
    "test_data = test_data.drop(columns=[\"fare_amount\"])\n",
    "\n",
    "y_pred = predictor.predict(test_data)\n",
    "metrics = predictor.evaluate_predictions(y_true=y_test, y_pred=y_pred, auxiliary_metrics=True)\n"
   ]
  },
  {
   "cell_type": "markdown",
   "id": "69a87f4a",
   "metadata": {},
   "source": [
    "We can see, that the result is slightly superior compared to the previous notebook (where MAE was > 1.9)"
   ]
  },
  {
   "cell_type": "markdown",
   "id": "b395f5b6",
   "metadata": {},
   "source": [
    "Alternatively, we can pass a time_limit for the whole training.\n",
    "Let's use a time limit of 1800 seconds"
   ]
  },
  {
   "cell_type": "code",
   "execution_count": null,
   "id": "1c2c14a0",
   "metadata": {},
   "outputs": [],
   "source": [
    "save_path = 'uber_predictors_preset2'\n",
    "presets = [\"best_quality\"]\n",
    "predictor = TabularPredictor(label=\"fare_amount\", path=save_path)\n",
    "predictor.fit(train_data, presets=presets, time_limit=1800)"
   ]
  },
  {
   "cell_type": "code",
   "execution_count": 12,
   "id": "06bfd759",
   "metadata": {},
   "outputs": [
    {
     "name": "stderr",
     "output_type": "stream",
     "text": [
      "Evaluation: root_mean_squared_error on test data: -5.948512879596984\n",
      "\tNote: Scores are always higher_is_better. This metric score can be multiplied by -1 to get the metric value.\n",
      "Evaluations on test data:\n",
      "{\n",
      "    \"root_mean_squared_error\": -5.948512879596984,\n",
      "    \"mean_squared_error\": -35.384805478731195,\n",
      "    \"mean_absolute_error\": -2.5376794884308183,\n",
      "    \"r2\": 0.6577656018723376,\n",
      "    \"pearsonr\": 0.8113561769828805,\n",
      "    \"median_absolute_error\": -1.5141555786132814\n",
      "}\n"
     ]
    }
   ],
   "source": [
    "\n",
    "y_pred = predictor.predict(test_data)\n",
    "metrics = predictor.evaluate_predictions(y_true=y_test, y_pred=y_pred, auxiliary_metrics=True)\n"
   ]
  },
  {
   "cell_type": "markdown",
   "id": "89d83fe9",
   "metadata": {},
   "source": [
    "### Hyperparameter presets\n",
    "\n",
    "To increase the training speed, we can select between different hyperparameter presets:\n",
    "\n",
    "https://auto.gluon.ai/stable/api/autogluon.tabular.TabularPredictor.fit.html#:~:text=was%20also%20specified.-,hyperparameters\n",
    "\n",
    "Currently, the following sets are available: [‘default’, ‘light’, ‘very_light’, ‘toy’, ‘multimodal’]"
   ]
  },
  {
   "cell_type": "code",
   "execution_count": null,
   "id": "996f28ac",
   "metadata": {},
   "outputs": [],
   "source": [
    "save_path = 'uber_predictors_hyperparams_very_light'\n",
    "\n",
    "predictor = TabularPredictor(label=\"fare_amount\", path=save_path)\n",
    "predictor.fit(train_data, presets=presets, time_limit=1800, hyperparameters=\"very_light\")"
   ]
  },
  {
   "cell_type": "code",
   "execution_count": null,
   "id": "ce154391",
   "metadata": {},
   "outputs": [],
   "source": [
    "\n",
    "y_pred = predictor.predict(test_data)\n",
    "metrics = predictor.evaluate_predictions(y_true=y_test, y_pred=y_pred, auxiliary_metrics=True)\n"
   ]
  },
  {
   "cell_type": "markdown",
   "id": "f2b4d1c2",
   "metadata": {},
   "source": [
    "## Deployment\n",
    "After identification of the best model we might want to deploy it.\n",
    "\n",
    "To do so let us at first create a clone of the original model, which we will then further postprocess"
   ]
  },
  {
   "cell_type": "code",
   "execution_count": null,
   "id": "2435a053",
   "metadata": {},
   "outputs": [],
   "source": [
    "save_path = 'uber_predictors_preset'  # This was the best model from above\n",
    "save_path_clone = save_path + '_clone'\n",
    "\n",
    "predictor = TabularPredictor.load(save_path)\n",
    "path_clone = predictor.clone(path=save_path_clone)\n"
   ]
  },
  {
   "cell_type": "markdown",
   "id": "016d8f39",
   "metadata": {},
   "source": [
    "Optimize inference speed.\n",
    "Next we can call the **refit_full()** function which retrains the model and optimizes it for inference time (https://auto.gluon.ai/dev/api/autogluon.tabular.TabularPredictor.refit_full.html) if bagging was used."
   ]
  },
  {
   "cell_type": "code",
   "execution_count": null,
   "id": "302b6e0a",
   "metadata": {},
   "outputs": [],
   "source": [
    "predictor.refit_full()"
   ]
  },
  {
   "cell_type": "markdown",
   "id": "7c4a1927",
   "metadata": {},
   "source": [
    "Last but not least, we can use **clone_for_deployment()** which only keeps the data required for inference and thus requires less storage"
   ]
  },
  {
   "cell_type": "code",
   "execution_count": null,
   "id": "1e3363b1",
   "metadata": {},
   "outputs": [],
   "source": [
    "predictor.clone_for_deployment(\"uber_predictor_deployment\")"
   ]
  },
  {
   "cell_type": "markdown",
   "id": "a0f96496",
   "metadata": {},
   "source": [
    "## Feature Engineering\n",
    "Autogluon comes with a heavily optimized automated feature engineering pipeline, the **AutoMLPipelineFeatureGenerator** https://auto.gluon.ai/stable/api/autogluon.features.html\n",
    "\n",
    "A deatailed overview over the implemented routines can be found here: https://auto.gluon.ai/stable/tutorials/tabular/tabular-feature-engineering.html"
   ]
  },
  {
   "cell_type": "code",
   "execution_count": null,
   "id": "ca5d3d2f",
   "metadata": {},
   "outputs": [],
   "source": [
    "from autogluon.features import AutoMLPipelineFeatureGenerator"
   ]
  },
  {
   "cell_type": "markdown",
   "id": "27270130",
   "metadata": {},
   "source": [
    "We have already seen in the previous lecture, that autogluon succesfully recognized the date in the timestamp string and converted it to multiple columns. All of this functionality is implemented in the above described generator.\n",
    "It can be used as follows (if you are familiar with sklearn, you already know this routine):"
   ]
  },
  {
   "cell_type": "code",
   "execution_count": null,
   "id": "e813dd79",
   "metadata": {},
   "outputs": [],
   "source": [
    "train_data.head()"
   ]
  },
  {
   "cell_type": "code",
   "execution_count": null,
   "id": "b0374e1a",
   "metadata": {},
   "outputs": [],
   "source": [
    "feature_pipeline = AutoMLPipelineFeatureGenerator()\n",
    "transformed_features = feature_pipeline.fit_transform(train_data)"
   ]
  },
  {
   "cell_type": "code",
   "execution_count": null,
   "id": "808e58a1",
   "metadata": {
    "scrolled": true
   },
   "outputs": [],
   "source": [
    "transformed_features.head()"
   ]
  },
  {
   "cell_type": "markdown",
   "id": "a30cfb32",
   "metadata": {},
   "source": [
    "### Custom feature pipeline\n",
    "In case you want to define your own feature preprocessing pipeline you can use the **PipelineFeatureGenerator()**"
   ]
  },
  {
   "cell_type": "code",
   "execution_count": null,
   "id": "4bcaff2c",
   "metadata": {},
   "outputs": [],
   "source": [
    "from autogluon.features import PipelineFeatureGenerator, DatetimeFeatureGenerator"
   ]
  },
  {
   "cell_type": "code",
   "execution_count": null,
   "id": "0af39e4b",
   "metadata": {},
   "outputs": [],
   "source": [
    "feature_gen_custom = PipelineFeatureGenerator(generators=[\n",
    "    DatetimeFeatureGenerator(features=[\"year\", \"month\", \"day\", \"hour\", \"minute\"]),\n",
    "    \n",
    "])"
   ]
  },
  {
   "cell_type": "code",
   "execution_count": null,
   "id": "c1f7b44a",
   "metadata": {},
   "outputs": [],
   "source": [
    "transformed_custom = feature_gen_custom.fit_transform(train_data)"
   ]
  },
  {
   "cell_type": "code",
   "execution_count": null,
   "id": "7968d6fe",
   "metadata": {},
   "outputs": [],
   "source": [
    "transformed_custom.head()"
   ]
  },
  {
   "cell_type": "markdown",
   "id": "7c0bf3cd-0d0a-4c2e-9922-6bfa4cd9b117",
   "metadata": {},
   "source": [
    "# Great Job!"
   ]
  },
  {
   "cell_type": "code",
   "execution_count": null,
   "id": "2fe611ae-0772-4e0e-9939-306565f2d9df",
   "metadata": {},
   "outputs": [],
   "source": [
    "print('done')"
   ]
  }
 ],
 "metadata": {
  "kernelspec": {
   "display_name": "Python 3 (ipykernel)",
   "language": "python",
   "name": "python3"
  },
  "language_info": {
   "codemirror_mode": {
    "name": "ipython",
    "version": 3
   },
   "file_extension": ".py",
   "mimetype": "text/x-python",
   "name": "python",
   "nbconvert_exporter": "python",
   "pygments_lexer": "ipython3",
   "version": "3.9.12"
  }
 },
 "nbformat": 4,
 "nbformat_minor": 5
}
