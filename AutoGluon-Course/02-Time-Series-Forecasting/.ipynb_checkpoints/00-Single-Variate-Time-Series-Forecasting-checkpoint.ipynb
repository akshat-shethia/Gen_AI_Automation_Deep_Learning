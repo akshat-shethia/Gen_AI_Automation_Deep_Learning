{
 "cells": [
  {
   "cell_type": "markdown",
   "id": "1c50c8fc",
   "metadata": {},
   "source": [
    "<a href = \"https://www.pieriantraining.com\"><img src=\"../PT Centered Purple.png\"> </a>\n",
    "\n",
    "<em style=\"text-align:center\">Copyrighted by Pierian Training</em>"
   ]
  },
  {
   "cell_type": "markdown",
   "id": "898516a9",
   "metadata": {},
   "source": [
    "# Single Variate Time Series Forecasting\n",
    "\n",
    "Let's focus on understanding the basics of time series data forecasting where you simply have an index of datetime stamps and a single column of a value you are trying to forecast.\n",
    "\n",
    "**IMPORTANT NOTE: If you think its possible to apply these methods to stochastic datasets (e.g. stock prices) we HIGHLY recommend you first do more reading and research into the forecasting models used by AutoGluon. It should be intuitive to you why tehcniques like ARIMA or ETS wouldn't work on those data sets. If its not intuitive, we do not recommend you use these models until you have a better understanding of time series in general. You may want to check out our separate Time Series Forecasting course that does a deep dive into the models used by AutoGluon.**\n",
    "\n",
    "## Imports"
   ]
  },
  {
   "cell_type": "code",
   "execution_count": 2,
   "id": "0e884c3f",
   "metadata": {},
   "outputs": [],
   "source": [
    "from autogluon.timeseries import TimeSeriesDataFrame,TimeSeriesPredictor\n",
    "import pandas as pd"
   ]
  },
  {
   "cell_type": "markdown",
   "id": "83efc97f",
   "metadata": {},
   "source": [
    "## Data Set\n",
    "\n",
    "Let's see how we could explore forecasting future retail sales of Beer, Wine, and Liquor, which happens to be a time series data point with just a single variate, thus we only have the time series date time index and the Y value. If we plot this data out, we should see that it clearly isn't random stochastic data and due to its trend and seasonality would be a good candidate for forecasting.\n",
    "\n",
    "To use autogluon.timeseries, we will only need the following two classes:\n",
    "\n",
    "TimeSeriesDataFrame stores a dataset consisting of multiple time series.\n",
    "\n",
    "TimeSeriesPredictor takes care of fitting, tuning and selecting the best forecasting models, as well as generating new forecasts.\n",
    "\n",
    "Let's first explore the data with pandas:"
   ]
  },
  {
   "cell_type": "code",
   "execution_count": 41,
   "id": "a71a7d6a",
   "metadata": {},
   "outputs": [],
   "source": [
    "df = pd.read_csv(\"data/Retail_Sales_Beer_Wine_Liquor.csv\",\n",
    "                 index_col='DATE',\n",
    "                parse_dates=True)"
   ]
  },
  {
   "cell_type": "code",
   "execution_count": 42,
   "id": "9c3a1223",
   "metadata": {},
   "outputs": [
    {
     "data": {
      "text/html": [
       "<div>\n",
       "<style scoped>\n",
       "    .dataframe tbody tr th:only-of-type {\n",
       "        vertical-align: middle;\n",
       "    }\n",
       "\n",
       "    .dataframe tbody tr th {\n",
       "        vertical-align: top;\n",
       "    }\n",
       "\n",
       "    .dataframe thead th {\n",
       "        text-align: right;\n",
       "    }\n",
       "</style>\n",
       "<table border=\"1\" class=\"dataframe\">\n",
       "  <thead>\n",
       "    <tr style=\"text-align: right;\">\n",
       "      <th></th>\n",
       "      <th>MRTSSM4453USN</th>\n",
       "    </tr>\n",
       "    <tr>\n",
       "      <th>DATE</th>\n",
       "      <th></th>\n",
       "    </tr>\n",
       "  </thead>\n",
       "  <tbody>\n",
       "    <tr>\n",
       "      <th>1992-01-01</th>\n",
       "      <td>1509</td>\n",
       "    </tr>\n",
       "    <tr>\n",
       "      <th>1992-02-01</th>\n",
       "      <td>1541</td>\n",
       "    </tr>\n",
       "    <tr>\n",
       "      <th>1992-03-01</th>\n",
       "      <td>1597</td>\n",
       "    </tr>\n",
       "    <tr>\n",
       "      <th>1992-04-01</th>\n",
       "      <td>1675</td>\n",
       "    </tr>\n",
       "    <tr>\n",
       "      <th>1992-05-01</th>\n",
       "      <td>1822</td>\n",
       "    </tr>\n",
       "  </tbody>\n",
       "</table>\n",
       "</div>"
      ],
      "text/plain": [
       "            MRTSSM4453USN\n",
       "DATE                     \n",
       "1992-01-01           1509\n",
       "1992-02-01           1541\n",
       "1992-03-01           1597\n",
       "1992-04-01           1675\n",
       "1992-05-01           1822"
      ]
     },
     "execution_count": 42,
     "metadata": {},
     "output_type": "execute_result"
    }
   ],
   "source": [
    "df.head()"
   ]
  },
  {
   "cell_type": "code",
   "execution_count": 43,
   "id": "306b7151",
   "metadata": {},
   "outputs": [
    {
     "data": {
      "text/plain": [
       "<AxesSubplot:xlabel='DATE'>"
      ]
     },
     "execution_count": 43,
     "metadata": {},
     "output_type": "execute_result"
    },
    {
     "data": {
      "image/png": "[encoded data removed]",
      "text/plain": [
       "<Figure size 432x288 with 1 Axes>"
      ]
     },
     "metadata": {
      "needs_background": "light"
     },
     "output_type": "display_data"
    }
   ],
   "source": [
    "df.plot()"
   ]
  },
  {
   "cell_type": "markdown",
   "id": "477c59f3",
   "metadata": {},
   "source": [
    "Clearly we have a lot of data here AND we can see an unknown exogenous effect around 2020 (the COVID-19 Pandemic caused a jump in alcohol purchases!).\n",
    "\n",
    "Let's narrow down our data, since its unlikely that 1994 sales have much signal for sales in 2022 (note this is a totally arbitrary choice, you could use the entire data set if you wanted to, feel free to explore this!). If we were dealing with an Oil or Natural Gas dataset, longer cycles may be part of the data, in which case maybe you want to go longer, but we belive a 3 year historical dataset is reasonable for monthly alcholol sales forecasts."
   ]
  },
  {
   "cell_type": "code",
   "execution_count": 44,
   "id": "6395611b",
   "metadata": {},
   "outputs": [],
   "source": [
    "data = df.loc['2020-01-01':]"
   ]
  },
  {
   "cell_type": "code",
   "execution_count": 45,
   "id": "15367848",
   "metadata": {},
   "outputs": [
    {
     "data": {
      "text/html": [
       "<div>\n",
       "<style scoped>\n",
       "    .dataframe tbody tr th:only-of-type {\n",
       "        vertical-align: middle;\n",
       "    }\n",
       "\n",
       "    .dataframe tbody tr th {\n",
       "        vertical-align: top;\n",
       "    }\n",
       "\n",
       "    .dataframe thead th {\n",
       "        text-align: right;\n",
       "    }\n",
       "</style>\n",
       "<table border=\"1\" class=\"dataframe\">\n",
       "  <thead>\n",
       "    <tr style=\"text-align: right;\">\n",
       "      <th></th>\n",
       "      <th>MRTSSM4453USN</th>\n",
       "    </tr>\n",
       "    <tr>\n",
       "      <th>DATE</th>\n",
       "      <th></th>\n",
       "    </tr>\n",
       "  </thead>\n",
       "  <tbody>\n",
       "    <tr>\n",
       "      <th>2020-01-01</th>\n",
       "      <td>4178</td>\n",
       "    </tr>\n",
       "    <tr>\n",
       "      <th>2020-02-01</th>\n",
       "      <td>4301</td>\n",
       "    </tr>\n",
       "    <tr>\n",
       "      <th>2020-03-01</th>\n",
       "      <td>5224</td>\n",
       "    </tr>\n",
       "    <tr>\n",
       "      <th>2020-04-01</th>\n",
       "      <td>4905</td>\n",
       "    </tr>\n",
       "    <tr>\n",
       "      <th>2020-05-01</th>\n",
       "      <td>5909</td>\n",
       "    </tr>\n",
       "  </tbody>\n",
       "</table>\n",
       "</div>"
      ],
      "text/plain": [
       "            MRTSSM4453USN\n",
       "DATE                     \n",
       "2020-01-01           4178\n",
       "2020-02-01           4301\n",
       "2020-03-01           5224\n",
       "2020-04-01           4905\n",
       "2020-05-01           5909"
      ]
     },
     "execution_count": 45,
     "metadata": {},
     "output_type": "execute_result"
    }
   ],
   "source": [
    "data.head()"
   ]
  },
  {
   "cell_type": "code",
   "execution_count": 46,
   "id": "7432b222",
   "metadata": {},
   "outputs": [
    {
     "data": {
      "text/plain": [
       "<AxesSubplot:xlabel='DATE'>"
      ]
     },
     "execution_count": 46,
     "metadata": {},
     "output_type": "execute_result"
    },
    {
     "data": {
      "image/png": "[encoded data removed]",
      "text/plain": [
       "<Figure size 432x288 with 1 Axes>"
      ]
     },
     "metadata": {
      "needs_background": "light"
     },
     "output_type": "display_data"
    }
   ],
   "source": [
    "data.plot()"
   ]
  },
  {
   "cell_type": "markdown",
   "id": "65ed26e7",
   "metadata": {},
   "source": [
    "## AutoGluon Data Format\n",
    "\n",
    "AutoGluon expects time series data in long format. Each row of the data frame contains a single observation (timestep) of a single time series represented by\n",
    "\n",
    "* unique ID of the time series (\"item_id\") as int or str\n",
    "\n",
    "* timestamp of the observation (\"timestamp\") as a pandas.Timestamp or compatible format\n",
    "\n",
    "* numeric value of the time series (\"target\")\n",
    "\n",
    "The raw dataset should always follow this format with at least three columns for unique ID, timestamp, and target value, but the names of these columns can be arbitrary. It is important, however, that we provide the names of the columns when constructing a TimeSeriesDataFrame that is used by AutoGluon. AutoGluon will raise an exception if the data doesn’t match the expected format."
   ]
  },
  {
   "cell_type": "code",
   "execution_count": 47,
   "id": "06f78302",
   "metadata": {},
   "outputs": [
    {
     "data": {
      "text/html": [
       "<div>\n",
       "<style scoped>\n",
       "    .dataframe tbody tr th:only-of-type {\n",
       "        vertical-align: middle;\n",
       "    }\n",
       "\n",
       "    .dataframe tbody tr th {\n",
       "        vertical-align: top;\n",
       "    }\n",
       "\n",
       "    .dataframe thead th {\n",
       "        text-align: right;\n",
       "    }\n",
       "</style>\n",
       "<table border=\"1\" class=\"dataframe\">\n",
       "  <thead>\n",
       "    <tr style=\"text-align: right;\">\n",
       "      <th></th>\n",
       "      <th>MRTSSM4453USN</th>\n",
       "    </tr>\n",
       "    <tr>\n",
       "      <th>DATE</th>\n",
       "      <th></th>\n",
       "    </tr>\n",
       "  </thead>\n",
       "  <tbody>\n",
       "    <tr>\n",
       "      <th>2020-01-01</th>\n",
       "      <td>4178</td>\n",
       "    </tr>\n",
       "    <tr>\n",
       "      <th>2020-02-01</th>\n",
       "      <td>4301</td>\n",
       "    </tr>\n",
       "    <tr>\n",
       "      <th>2020-03-01</th>\n",
       "      <td>5224</td>\n",
       "    </tr>\n",
       "    <tr>\n",
       "      <th>2020-04-01</th>\n",
       "      <td>4905</td>\n",
       "    </tr>\n",
       "    <tr>\n",
       "      <th>2020-05-01</th>\n",
       "      <td>5909</td>\n",
       "    </tr>\n",
       "  </tbody>\n",
       "</table>\n",
       "</div>"
      ],
      "text/plain": [
       "            MRTSSM4453USN\n",
       "DATE                     \n",
       "2020-01-01           4178\n",
       "2020-02-01           4301\n",
       "2020-03-01           5224\n",
       "2020-04-01           4905\n",
       "2020-05-01           5909"
      ]
     },
     "execution_count": 47,
     "metadata": {},
     "output_type": "execute_result"
    }
   ],
   "source": [
    "# Our current format:\n",
    "data.head()"
   ]
  },
  {
   "cell_type": "markdown",
   "id": "5086f0cb",
   "metadata": {},
   "source": [
    "Let's update the format from the beginning to be compliant with AutoGluon:"
   ]
  },
  {
   "cell_type": "code",
   "execution_count": 68,
   "id": "78bfefb8",
   "metadata": {},
   "outputs": [],
   "source": [
    "df = pd.read_csv('data/Retail_Sales_Beer_Wine_Liquor.csv')\n",
    "# Take Care of Dates First\n",
    "# Create \"timestamp\" column\n",
    "df['timestamp'] = pd.to_datetime(df['DATE'])\n",
    "# Drop \"DATE\" column now that we have \"timestamp\"\n",
    "df = df.drop('DATE',axis=1)\n",
    "# Only get data from Jan 2020 and onwards\n",
    "df = df[df['timestamp']>'2020-01-01']"
   ]
  },
  {
   "cell_type": "code",
   "execution_count": 69,
   "id": "150feae3",
   "metadata": {},
   "outputs": [
    {
     "data": {
      "text/html": [
       "<div>\n",
       "<style scoped>\n",
       "    .dataframe tbody tr th:only-of-type {\n",
       "        vertical-align: middle;\n",
       "    }\n",
       "\n",
       "    .dataframe tbody tr th {\n",
       "        vertical-align: top;\n",
       "    }\n",
       "\n",
       "    .dataframe thead th {\n",
       "        text-align: right;\n",
       "    }\n",
       "</style>\n",
       "<table border=\"1\" class=\"dataframe\">\n",
       "  <thead>\n",
       "    <tr style=\"text-align: right;\">\n",
       "      <th></th>\n",
       "      <th>MRTSSM4453USN</th>\n",
       "      <th>timestamp</th>\n",
       "    </tr>\n",
       "  </thead>\n",
       "  <tbody>\n",
       "    <tr>\n",
       "      <th>337</th>\n",
       "      <td>4301</td>\n",
       "      <td>2020-02-01</td>\n",
       "    </tr>\n",
       "    <tr>\n",
       "      <th>338</th>\n",
       "      <td>5224</td>\n",
       "      <td>2020-03-01</td>\n",
       "    </tr>\n",
       "    <tr>\n",
       "      <th>339</th>\n",
       "      <td>4905</td>\n",
       "      <td>2020-04-01</td>\n",
       "    </tr>\n",
       "    <tr>\n",
       "      <th>340</th>\n",
       "      <td>5909</td>\n",
       "      <td>2020-05-01</td>\n",
       "    </tr>\n",
       "    <tr>\n",
       "      <th>341</th>\n",
       "      <td>5734</td>\n",
       "      <td>2020-06-01</td>\n",
       "    </tr>\n",
       "  </tbody>\n",
       "</table>\n",
       "</div>"
      ],
      "text/plain": [
       "     MRTSSM4453USN  timestamp\n",
       "337           4301 2020-02-01\n",
       "338           5224 2020-03-01\n",
       "339           4905 2020-04-01\n",
       "340           5909 2020-05-01\n",
       "341           5734 2020-06-01"
      ]
     },
     "execution_count": 69,
     "metadata": {},
     "output_type": "execute_result"
    }
   ],
   "source": [
    "df.head()"
   ]
  },
  {
   "cell_type": "code",
   "execution_count": 70,
   "id": "1b9f7f86",
   "metadata": {},
   "outputs": [],
   "source": [
    "# Clean Up Columns\n",
    "df['item_id'] = 'Sales'\n",
    "df['target'] = df['MRTSSM4453USN']\n",
    "df = df.drop('MRTSSM4453USN',axis=1)"
   ]
  },
  {
   "cell_type": "code",
   "execution_count": 72,
   "id": "75d70f83",
   "metadata": {},
   "outputs": [
    {
     "data": {
      "text/html": [
       "<div>\n",
       "<style scoped>\n",
       "    .dataframe tbody tr th:only-of-type {\n",
       "        vertical-align: middle;\n",
       "    }\n",
       "\n",
       "    .dataframe tbody tr th {\n",
       "        vertical-align: top;\n",
       "    }\n",
       "\n",
       "    .dataframe thead th {\n",
       "        text-align: right;\n",
       "    }\n",
       "</style>\n",
       "<table border=\"1\" class=\"dataframe\">\n",
       "  <thead>\n",
       "    <tr style=\"text-align: right;\">\n",
       "      <th></th>\n",
       "      <th>timestamp</th>\n",
       "      <th>item_id</th>\n",
       "      <th>target</th>\n",
       "    </tr>\n",
       "  </thead>\n",
       "  <tbody>\n",
       "    <tr>\n",
       "      <th>337</th>\n",
       "      <td>2020-02-01</td>\n",
       "      <td>Sales</td>\n",
       "      <td>4301</td>\n",
       "    </tr>\n",
       "    <tr>\n",
       "      <th>338</th>\n",
       "      <td>2020-03-01</td>\n",
       "      <td>Sales</td>\n",
       "      <td>5224</td>\n",
       "    </tr>\n",
       "    <tr>\n",
       "      <th>339</th>\n",
       "      <td>2020-04-01</td>\n",
       "      <td>Sales</td>\n",
       "      <td>4905</td>\n",
       "    </tr>\n",
       "    <tr>\n",
       "      <th>340</th>\n",
       "      <td>2020-05-01</td>\n",
       "      <td>Sales</td>\n",
       "      <td>5909</td>\n",
       "    </tr>\n",
       "    <tr>\n",
       "      <th>341</th>\n",
       "      <td>2020-06-01</td>\n",
       "      <td>Sales</td>\n",
       "      <td>5734</td>\n",
       "    </tr>\n",
       "  </tbody>\n",
       "</table>\n",
       "</div>"
      ],
      "text/plain": [
       "     timestamp item_id  target\n",
       "337 2020-02-01   Sales    4301\n",
       "338 2020-03-01   Sales    5224\n",
       "339 2020-04-01   Sales    4905\n",
       "340 2020-05-01   Sales    5909\n",
       "341 2020-06-01   Sales    5734"
      ]
     },
     "execution_count": 72,
     "metadata": {},
     "output_type": "execute_result"
    }
   ],
   "source": [
    "df.head()"
   ]
  },
  {
   "cell_type": "code",
   "execution_count": 73,
   "id": "e0341316",
   "metadata": {},
   "outputs": [],
   "source": [
    "# Save for Later\n",
    "df.to_csv('data/Formatted_Alcohol_Sales.csv',index=False)"
   ]
  },
  {
   "cell_type": "markdown",
   "id": "ca21cde8",
   "metadata": {},
   "source": [
    "**AutoGluon TimeSeriesDataFrame from Pandas DF:**"
   ]
  },
  {
   "cell_type": "code",
   "execution_count": 74,
   "id": "96b0e1ed",
   "metadata": {},
   "outputs": [],
   "source": [
    "train_data = TimeSeriesDataFrame.from_data_frame(\n",
    "    df,\n",
    "    id_column=\"item_id\",\n",
    "    timestamp_column=\"timestamp\"\n",
    ")"
   ]
  },
  {
   "cell_type": "code",
   "execution_count": 75,
   "id": "d77b632b",
   "metadata": {},
   "outputs": [
    {
     "data": {
      "text/html": [
       "<div>\n",
       "<style scoped>\n",
       "    .dataframe tbody tr th:only-of-type {\n",
       "        vertical-align: middle;\n",
       "    }\n",
       "\n",
       "    .dataframe tbody tr th {\n",
       "        vertical-align: top;\n",
       "    }\n",
       "\n",
       "    .dataframe thead th {\n",
       "        text-align: right;\n",
       "    }\n",
       "</style>\n",
       "<table border=\"1\" class=\"dataframe\">\n",
       "  <thead>\n",
       "    <tr style=\"text-align: right;\">\n",
       "      <th></th>\n",
       "      <th></th>\n",
       "      <th>target</th>\n",
       "    </tr>\n",
       "    <tr>\n",
       "      <th>item_id</th>\n",
       "      <th>timestamp</th>\n",
       "      <th></th>\n",
       "    </tr>\n",
       "  </thead>\n",
       "  <tbody>\n",
       "    <tr>\n",
       "      <th rowspan=\"5\" valign=\"top\">Sales</th>\n",
       "      <th>2020-02-01</th>\n",
       "      <td>4301</td>\n",
       "    </tr>\n",
       "    <tr>\n",
       "      <th>2020-03-01</th>\n",
       "      <td>5224</td>\n",
       "    </tr>\n",
       "    <tr>\n",
       "      <th>2020-04-01</th>\n",
       "      <td>4905</td>\n",
       "    </tr>\n",
       "    <tr>\n",
       "      <th>2020-05-01</th>\n",
       "      <td>5909</td>\n",
       "    </tr>\n",
       "    <tr>\n",
       "      <th>2020-06-01</th>\n",
       "      <td>5734</td>\n",
       "    </tr>\n",
       "  </tbody>\n",
       "</table>\n",
       "</div>"
      ],
      "text/plain": [
       "                    target\n",
       "item_id timestamp         \n",
       "Sales   2020-02-01    4301\n",
       "        2020-03-01    5224\n",
       "        2020-04-01    4905\n",
       "        2020-05-01    5909\n",
       "        2020-06-01    5734"
      ]
     },
     "execution_count": 75,
     "metadata": {},
     "output_type": "execute_result"
    }
   ],
   "source": [
    "train_data.head()"
   ]
  },
  {
   "cell_type": "markdown",
   "id": "376ea507",
   "metadata": {},
   "source": [
    "**AutoGluon TimeSeriesDataFrame from Formatted CSV:**"
   ]
  },
  {
   "cell_type": "code",
   "execution_count": 76,
   "id": "ffc5d9c2",
   "metadata": {},
   "outputs": [
    {
     "name": "stderr",
     "output_type": "stream",
     "text": [
      "Loaded data from: data/Formatted_Alcohol_Sales.csv | Columns = 3 / 3 | Rows = 36 -> 36\n"
     ]
    }
   ],
   "source": [
    "train_data = TimeSeriesDataFrame('data/Formatted_Alcohol_Sales.csv')"
   ]
  },
  {
   "cell_type": "code",
   "execution_count": 77,
   "id": "f27552c3",
   "metadata": {},
   "outputs": [
    {
     "data": {
      "text/html": [
       "<div>\n",
       "<style scoped>\n",
       "    .dataframe tbody tr th:only-of-type {\n",
       "        vertical-align: middle;\n",
       "    }\n",
       "\n",
       "    .dataframe tbody tr th {\n",
       "        vertical-align: top;\n",
       "    }\n",
       "\n",
       "    .dataframe thead th {\n",
       "        text-align: right;\n",
       "    }\n",
       "</style>\n",
       "<table border=\"1\" class=\"dataframe\">\n",
       "  <thead>\n",
       "    <tr style=\"text-align: right;\">\n",
       "      <th></th>\n",
       "      <th></th>\n",
       "      <th>target</th>\n",
       "    </tr>\n",
       "    <tr>\n",
       "      <th>item_id</th>\n",
       "      <th>timestamp</th>\n",
       "      <th></th>\n",
       "    </tr>\n",
       "  </thead>\n",
       "  <tbody>\n",
       "    <tr>\n",
       "      <th rowspan=\"5\" valign=\"top\">Sales</th>\n",
       "      <th>2020-02-01</th>\n",
       "      <td>4301</td>\n",
       "    </tr>\n",
       "    <tr>\n",
       "      <th>2020-03-01</th>\n",
       "      <td>5224</td>\n",
       "    </tr>\n",
       "    <tr>\n",
       "      <th>2020-04-01</th>\n",
       "      <td>4905</td>\n",
       "    </tr>\n",
       "    <tr>\n",
       "      <th>2020-05-01</th>\n",
       "      <td>5909</td>\n",
       "    </tr>\n",
       "    <tr>\n",
       "      <th>2020-06-01</th>\n",
       "      <td>5734</td>\n",
       "    </tr>\n",
       "  </tbody>\n",
       "</table>\n",
       "</div>"
      ],
      "text/plain": [
       "                    target\n",
       "item_id timestamp         \n",
       "Sales   2020-02-01    4301\n",
       "        2020-03-01    5224\n",
       "        2020-04-01    4905\n",
       "        2020-05-01    5909\n",
       "        2020-06-01    5734"
      ]
     },
     "execution_count": 77,
     "metadata": {},
     "output_type": "execute_result"
    }
   ],
   "source": [
    "train_data.head()"
   ]
  },
  {
   "cell_type": "markdown",
   "id": "92e169ad",
   "metadata": {},
   "source": [
    "## Fitting Models"
   ]
  },
  {
   "cell_type": "code",
   "execution_count": 78,
   "id": "c66346bc",
   "metadata": {},
   "outputs": [
    {
     "name": "stderr",
     "output_type": "stream",
     "text": [
      "Warning: path already exists! This predictor may overwrite an existing predictor! path=\"alcohol_model\"\n"
     ]
    }
   ],
   "source": [
    "#  symmetric mean absolute percentage error (sMAPE)\n",
    "predictor = TimeSeriesPredictor(prediction_length=6,\n",
    "                               path='alcohol_model',\n",
    "                                presets='best_quality',\n",
    "                                time_limit=600,\n",
    "                               target='target',\n",
    "                               eval_metric='sMAPE')"
   ]
  },
  {
   "cell_type": "code",
   "execution_count": 79,
   "id": "6f5b9997",
   "metadata": {},
   "outputs": [
    {
     "name": "stderr",
     "output_type": "stream",
     "text": [
      "C:\\Users\\Marcial\\AppData\\Roaming\\Python\\Python39\\site-packages\\autogluon\\timeseries\\predictor.py:236: UserWarning: Detected frequency 'MS' is not supported by TimeSeriesPredictor. This may lead to some models not working as intended. Please convert the timestamps to one of the supported frequencies: {'S', 'M', 'Y', 'min', 'H', 'A', 'Q', 'T', 'W', 'D'}. See https://pandas.pydata.org/pandas-docs/stable/user_guide/timeseries.html#offset-aliases for details.\n",
      "  warnings.warn(\n",
      "================ TimeSeriesPredictor ================\n",
      "TimeSeriesPredictor.fit() called\n",
      "Fitting with arguments:\n",
      "{'enable_ensemble': True,\n",
      " 'evaluation_metric': 'sMAPE',\n",
      " 'hyperparameter_tune_kwargs': None,\n",
      " 'hyperparameters': 'default',\n",
      " 'prediction_length': 6,\n",
      " 'random_seed': None,\n",
      " 'target': 'target',\n",
      " 'time_limit': None}\n",
      "Provided training data set with 36 rows, 1 items (item = single time series). Average time series length is 36.0.\n",
      "Training artifacts will be saved to: C:\\Users\\Marcial\\Pierian-Data-Courses\\AutoGluon-Course\\02-Time-Series-Forecasting\\alcohol_model\n",
      "=====================================================\n",
      "AutoGluon will save models to alcohol_model\\\n",
      "AutoGluon will gauge predictive performance using evaluation metric: 'sMAPE'\n",
      "\tThis metric's sign has been flipped to adhere to being 'higher is better'. The reported score can be multiplied by -1 to get the metric value.\n",
      "\n",
      "Provided dataset contains following columns:\n",
      "\ttarget:           'target'\n",
      "tuning_data is None. Will use the last prediction_length = 6 time steps of each time series as a hold-out validation set.\n",
      "\n",
      "Starting training. Start time is 2023-04-03 11:39:54\n",
      "Warning: path already exists! This predictor may overwrite an existing predictor! path=\"alcohol_model\\models\\AutoGluonTabular\\\"\n",
      "Models that will be trained: ['Naive', 'SeasonalNaive', 'ETS', 'Theta', 'ARIMA', 'AutoETS', 'AutoGluonTabular', 'DeepAR']\n",
      "Training timeseries model Naive. \n",
      "\t-0.0977       = Validation score (-sMAPE)\n",
      "\t0.00    s     = Training runtime\n",
      "\t5.70    s     = Validation (prediction) runtime\n",
      "Training timeseries model SeasonalNaive. \n",
      "\t-0.0977       = Validation score (-sMAPE)\n",
      "\t0.00    s     = Training runtime\n",
      "\t4.76    s     = Validation (prediction) runtime\n",
      "Training timeseries model ETS. \n",
      "ETS with seasonal = add requires seasonal_period > 1 (received seasonal_period = 1). Disabling seasonality.\n",
      "\t-0.0973       = Validation score (-sMAPE)\n",
      "\t0.00    s     = Training runtime\n",
      "\t4.98    s     = Validation (prediction) runtime\n",
      "Training timeseries model Theta. \n",
      "\t-0.0860       = Validation score (-sMAPE)\n",
      "\t0.00    s     = Training runtime\n",
      "\t4.75    s     = Validation (prediction) runtime\n",
      "Training timeseries model ARIMA. \n",
      "\t-0.1038       = Validation score (-sMAPE)\n",
      "\t0.00    s     = Training runtime\n",
      "\t0.13    s     = Validation (prediction) runtime\n",
      "Training timeseries model AutoETS. \n",
      "\t-0.1039       = Validation score (-sMAPE)\n",
      "\t0.00    s     = Training runtime\n",
      "\t0.56    s     = Validation (prediction) runtime\n",
      "Training timeseries model AutoGluonTabular. \n",
      "\t-0.0375       = Validation score (-sMAPE)\n",
      "\t75.93   s     = Training runtime\n",
      "\t0.06    s     = Validation (prediction) runtime\n",
      "Training timeseries model DeepAR. \n",
      "\t-0.0911       = Validation score (-sMAPE)\n",
      "\t166.99  s     = Training runtime\n",
      "\t0.04    s     = Validation (prediction) runtime\n",
      "Fitting simple weighted ensemble.\n",
      "\t-0.0252       = Validation score (-sMAPE)\n",
      "\t2.58    s     = Training runtime\n",
      "\t5.89    s     = Validation (prediction) runtime\n",
      "Training complete. Models trained: ['Naive', 'SeasonalNaive', 'ETS', 'Theta', 'ARIMA', 'AutoETS', 'AutoGluonTabular', 'DeepAR', 'WeightedEnsemble']\n",
      "Total runtime: 266.83 s\n",
      "Best model: WeightedEnsemble\n",
      "Best model score: -0.0252\n"
     ]
    },
    {
     "data": {
      "text/plain": [
       "<autogluon.timeseries.predictor.TimeSeriesPredictor at 0x135ab75c0a0>"
      ]
     },
     "execution_count": 79,
     "metadata": {},
     "output_type": "execute_result"
    }
   ],
   "source": [
    "predictor.fit(train_data)"
   ]
  },
  {
   "cell_type": "markdown",
   "id": "fedd2458",
   "metadata": {},
   "source": [
    "# Generating Forecast Predictions\n",
    "\n",
    "We can now use the fitted TimeSeriesPredictor to forecast the future time series values. By default, AutoGluon will make forecasts using the model that had the best score on the internal validation set. The forecast always includes predictions for the next prediction_length timesteps, starting from the end of each time series in train_data."
   ]
  },
  {
   "cell_type": "code",
   "execution_count": null,
   "id": "d31e03f7",
   "metadata": {},
   "outputs": [],
   "source": [
    "predictions = predictor.predict(train_data)"
   ]
  },
  {
   "cell_type": "code",
   "execution_count": 93,
   "id": "569c3bc4",
   "metadata": {},
   "outputs": [
    {
     "data": {
      "text/html": [
       "<div>\n",
       "<style scoped>\n",
       "    .dataframe tbody tr th:only-of-type {\n",
       "        vertical-align: middle;\n",
       "    }\n",
       "\n",
       "    .dataframe tbody tr th {\n",
       "        vertical-align: top;\n",
       "    }\n",
       "\n",
       "    .dataframe thead th {\n",
       "        text-align: right;\n",
       "    }\n",
       "</style>\n",
       "<table border=\"1\" class=\"dataframe\">\n",
       "  <thead>\n",
       "    <tr style=\"text-align: right;\">\n",
       "      <th></th>\n",
       "      <th></th>\n",
       "      <th>mean</th>\n",
       "      <th>0.1</th>\n",
       "      <th>0.2</th>\n",
       "      <th>0.3</th>\n",
       "      <th>0.4</th>\n",
       "      <th>0.5</th>\n",
       "      <th>0.6</th>\n",
       "      <th>0.7</th>\n",
       "      <th>0.8</th>\n",
       "      <th>0.9</th>\n",
       "    </tr>\n",
       "    <tr>\n",
       "      <th>item_id</th>\n",
       "      <th>timestamp</th>\n",
       "      <th></th>\n",
       "      <th></th>\n",
       "      <th></th>\n",
       "      <th></th>\n",
       "      <th></th>\n",
       "      <th></th>\n",
       "      <th></th>\n",
       "      <th></th>\n",
       "      <th></th>\n",
       "      <th></th>\n",
       "    </tr>\n",
       "  </thead>\n",
       "  <tbody>\n",
       "    <tr>\n",
       "      <th rowspan=\"6\" valign=\"top\">Sales</th>\n",
       "      <th>2023-02-01</th>\n",
       "      <td>5239.590583</td>\n",
       "      <td>5082.460643</td>\n",
       "      <td>5136.183640</td>\n",
       "      <td>5174.824703</td>\n",
       "      <td>5207.945018</td>\n",
       "      <td>5239.089243</td>\n",
       "      <td>5270.655057</td>\n",
       "      <td>5304.174421</td>\n",
       "      <td>5342.755092</td>\n",
       "      <td>5397.212329</td>\n",
       "    </tr>\n",
       "    <tr>\n",
       "      <th>2023-03-01</th>\n",
       "      <td>5788.213973</td>\n",
       "      <td>5624.097636</td>\n",
       "      <td>5680.218920</td>\n",
       "      <td>5720.589316</td>\n",
       "      <td>5755.187282</td>\n",
       "      <td>5787.712633</td>\n",
       "      <td>5820.659571</td>\n",
       "      <td>5855.656586</td>\n",
       "      <td>5895.966591</td>\n",
       "      <td>5952.822114</td>\n",
       "    </tr>\n",
       "    <tr>\n",
       "      <th>2023-04-01</th>\n",
       "      <td>5858.046240</td>\n",
       "      <td>5689.773362</td>\n",
       "      <td>5747.321501</td>\n",
       "      <td>5788.720761</td>\n",
       "      <td>5824.197852</td>\n",
       "      <td>5857.544900</td>\n",
       "      <td>5891.313536</td>\n",
       "      <td>5927.189677</td>\n",
       "      <td>5968.528545</td>\n",
       "      <td>6026.810923</td>\n",
       "    </tr>\n",
       "    <tr>\n",
       "      <th>2023-05-01</th>\n",
       "      <td>6127.637008</td>\n",
       "      <td>5955.927941</td>\n",
       "      <td>6014.655463</td>\n",
       "      <td>6056.905350</td>\n",
       "      <td>6093.108981</td>\n",
       "      <td>6127.135957</td>\n",
       "      <td>6161.583654</td>\n",
       "      <td>6198.186624</td>\n",
       "      <td>6240.375829</td>\n",
       "      <td>6299.837880</td>\n",
       "    </tr>\n",
       "    <tr>\n",
       "      <th>2023-06-01</th>\n",
       "      <td>6147.871017</td>\n",
       "      <td>5973.141757</td>\n",
       "      <td>6032.906050</td>\n",
       "      <td>6075.903520</td>\n",
       "      <td>6112.745935</td>\n",
       "      <td>6147.369966</td>\n",
       "      <td>6182.414718</td>\n",
       "      <td>6219.656471</td>\n",
       "      <td>6262.593261</td>\n",
       "      <td>6323.092081</td>\n",
       "    </tr>\n",
       "    <tr>\n",
       "      <th>2023-07-01</th>\n",
       "      <td>6265.499128</td>\n",
       "      <td>6088.040367</td>\n",
       "      <td>6148.741641</td>\n",
       "      <td>6192.414741</td>\n",
       "      <td>6229.834457</td>\n",
       "      <td>6264.998077</td>\n",
       "      <td>6300.582418</td>\n",
       "      <td>6338.401472</td>\n",
       "      <td>6382.013891</td>\n",
       "      <td>6443.449693</td>\n",
       "    </tr>\n",
       "  </tbody>\n",
       "</table>\n",
       "</div>"
      ],
      "text/plain": [
       "                           mean          0.1          0.2  ...          0.7          0.8          0.9\n",
       "item_id timestamp                                          ...                                       \n",
       "Sales   2023-02-01  5239.590583  5082.460643  5136.183640  ...  5304.174421  5342.755092  5397.212329\n",
       "        2023-03-01  5788.213973  5624.097636  5680.218920  ...  5855.656586  5895.966591  5952.822114\n",
       "        2023-04-01  5858.046240  5689.773362  5747.321501  ...  5927.189677  5968.528545  6026.810923\n",
       "        2023-05-01  6127.637008  5955.927941  6014.655463  ...  6198.186624  6240.375829  6299.837880\n",
       "        2023-06-01  6147.871017  5973.141757  6032.906050  ...  6219.656471  6262.593261  6323.092081\n",
       "        2023-07-01  6265.499128  6088.040367  6148.741641  ...  6338.401472  6382.013891  6443.449693\n",
       "\n",
       "[6 rows x 10 columns]"
      ]
     },
     "execution_count": 93,
     "metadata": {},
     "output_type": "execute_result"
    }
   ],
   "source": [
    "predictions"
   ]
  },
  {
   "cell_type": "markdown",
   "id": "b1cbee1c",
   "metadata": {},
   "source": [
    "AutoGluon produces a probabilistic forecast: in addition to predicting the mean (expected value) of the time series in the future, models also provide the quantiles of the forecast distribution. The quantile forecasts give us an idea about the range of possible outcomes. For example, if the \"0.1\" quantile is equal to 500.0, it means that the model predicts a 10% chance that the target value will be below 500.0."
   ]
  },
  {
   "cell_type": "code",
   "execution_count": 82,
   "id": "2d22d7a3",
   "metadata": {},
   "outputs": [
    {
     "name": "stdout",
     "output_type": "stream",
     "text": [
      "****************** Summary of fit() ******************\n",
      "Estimated performance of each model:\n",
      "              model  score_val  pred_time_val  fit_time_marginal  fit_order\n",
      "0  WeightedEnsemble  -0.025190       5.885262           2.582350          9\n",
      "1  AutoGluonTabular  -0.037457       0.055851          75.929421          7\n",
      "2             Theta  -0.086010       4.751294           0.000996          4\n",
      "3            DeepAR  -0.091080       0.040625         166.993388          8\n",
      "4               ETS  -0.097306       4.981681           0.000997          3\n",
      "5     SeasonalNaive  -0.097653       4.763263           0.001994          2\n",
      "6             Naive  -0.097653       5.701754           0.001996          1\n",
      "7             ARIMA  -0.103812       0.127657           0.001996          5\n",
      "8           AutoETS  -0.103945       0.558508           0.000997          6\n",
      "Number of models trained: 9\n",
      "Types of models trained:\n",
      "{'AutoGluonTabularModel', 'ThetaModel', 'SeasonalNaiveModel', 'DeepARModel', 'NaiveModel', 'ARIMAModel', 'AutoETSModel', 'TimeSeriesGreedyEnsemble', 'ETSModel'}\n",
      "****************** End of fit() summary ******************\n"
     ]
    }
   ],
   "source": [
    "predictor.fit_summary();"
   ]
  },
  {
   "cell_type": "markdown",
   "id": "a6222855",
   "metadata": {},
   "source": [
    "# Visualizing Predictions\n",
    "\n",
    "First let's quickly visualize our training data:"
   ]
  },
  {
   "cell_type": "code",
   "execution_count": 103,
   "id": "90025275",
   "metadata": {},
   "outputs": [],
   "source": [
    "import matplotlib.pyplot as plt"
   ]
  },
  {
   "cell_type": "code",
   "execution_count": 104,
   "id": "c47557bb",
   "metadata": {},
   "outputs": [
    {
     "data": {
      "text/plain": [
       "<AxesSubplot:xlabel='timestamp'>"
      ]
     },
     "execution_count": 104,
     "metadata": {},
     "output_type": "execute_result"
    },
    {
     "data": {
      "image/png": "[encoded data removed]",
      "text/plain": [
       "<Figure size 432x288 with 1 Axes>"
      ]
     },
     "metadata": {
      "needs_background": "light"
     },
     "output_type": "display_data"
    }
   ],
   "source": [
    "train_data.loc[item_id]['target'].plot()"
   ]
  },
  {
   "cell_type": "markdown",
   "id": "b7664ba4",
   "metadata": {},
   "source": [
    "We've created a function here for your use in case you need to visualize the forecast with the confidence intervals:"
   ]
  },
  {
   "cell_type": "code",
   "execution_count": 107,
   "id": "4bd815e2",
   "metadata": {},
   "outputs": [],
   "source": [
    "def plot_predictions(train_data,predictions,item_id):\n",
    "    plt.figure(figsize=(20, 3),dpi=150)\n",
    "    # Y PREDICTIONS\n",
    "    y_pred = predictions.loc[item_id]\n",
    "    # HISTORICAL Y VALUES\n",
    "    y_past = train_data.loc[item_id]['target']\n",
    "    \n",
    "    # PLOT HISTORICAL VALUES AGAINST BEST MODEL'S PREDICTIONS\n",
    "    plt.plot(y_past, label=\"Known Past Historical Values\")\n",
    "    plt.plot(y_pred[\"mean\"], label=\"Mean Forecast\")\n",
    "    \n",
    "    plt.fill_between(\n",
    "        y_pred.index, y_pred[\"0.1\"], y_pred[\"0.9\"], color=\"red\", alpha=0.1, label=f\"10%-90% confidence interval\"\n",
    "    )"
   ]
  },
  {
   "cell_type": "code",
   "execution_count": 108,
   "id": "18372347",
   "metadata": {},
   "outputs": [
    {
     "data": {
      "image/png": "[encoded data removed]",
      "text/plain": [
       "<Figure size 3000x450 with 1 Axes>"
      ]
     },
     "metadata": {
      "needs_background": "light"
     },
     "output_type": "display_data"
    }
   ],
   "source": [
    "plot_predictions(train_data=train_data,predictions=predictions,item_id='Sales')"
   ]
  }
 ],
 "metadata": {
  "kernelspec": {
   "display_name": "Python 3 (ipykernel)",
   "language": "python",
   "name": "python3"
  },
  "language_info": {
   "codemirror_mode": {
    "name": "ipython",
    "version": 3
   },
   "file_extension": ".py",
   "mimetype": "text/x-python",
   "name": "python",
   "nbconvert_exporter": "python",
   "pygments_lexer": "ipython3",
   "version": "3.9.12"
  }
 },
 "nbformat": 4,
 "nbformat_minor": 5
}
