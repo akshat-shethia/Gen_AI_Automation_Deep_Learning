{
 "cells": [
  {
   "cell_type": "markdown",
   "id": "7bfb0f93",
   "metadata": {},
   "source": [
    "<a href = \"https://www.pieriantraining.com\"><img src=\"../PT Centered Purple.png\"> </a>\n",
    "\n",
    "<em style=\"text-align:center\">Copyrighted by Pierian Training</em>"
   ]
  },
  {
   "cell_type": "markdown",
   "id": "aaf3843e",
   "metadata": {},
   "source": [
    "# Image Classification"
   ]
  },
  {
   "cell_type": "markdown",
   "id": "a4292c3b",
   "metadata": {
    "id": "a4292c3b"
   },
   "source": [
    "## Dataset\n",
    "\n",
    "AutoGluon comes with a great built in data set based on the [Shopee-IET dataset](https://www.kaggle.com/c/shopee-iet-machine-learning-competition/data) from Kaggle.\n",
    "\n",
    "Each image in this data depicts a clothing item and the corresponding label specifies its clothing category.\n",
    "The AutoGluon subset of the data contains the following possible labels: `BabyPants`, `BabyShirt`, `womencasualshoes`, `womenchiffontop`.\n",
    "\n",
    "You can automatically download the dataset:"
   ]
  },
  {
   "cell_type": "code",
   "execution_count": 1,
   "id": "8e18d98f",
   "metadata": {
    "id": "95ca4f2e"
   },
   "outputs": [],
   "source": [
    "import warnings\n",
    "warnings.filterwarnings('ignore')"
   ]
  },
  {
   "cell_type": "code",
   "execution_count": 2,
   "id": "95ca4f2e",
   "metadata": {
    "id": "95ca4f2e"
   },
   "outputs": [
    {
     "name": "stdout",
     "output_type": "stream",
     "text": [
      "Downloading ./ag_automm_tutorial_imgcls\\file.zip from https://automl-mm-bench.s3.amazonaws.com/vision_datasets/shopee.zip...\n"
     ]
    },
    {
     "name": "stderr",
     "output_type": "stream",
     "text": [
      "100%|█████████████████████████████████████████████████████████████████████████████████████████████████████████████████████████████████████████████████████████████████████████████████████████| 41.9M/41.9M [00:07<00:00, 5.43MiB/s]\n"
     ]
    },
    {
     "name": "stdout",
     "output_type": "stream",
     "text": [
      "                                                 image  label\n",
      "0    C:\\Users\\Marcial\\Pierian-Data-Courses\\AutoGluo...      0\n",
      "1    C:\\Users\\Marcial\\Pierian-Data-Courses\\AutoGluo...      0\n",
      "2    C:\\Users\\Marcial\\Pierian-Data-Courses\\AutoGluo...      0\n",
      "3    C:\\Users\\Marcial\\Pierian-Data-Courses\\AutoGluo...      0\n",
      "4    C:\\Users\\Marcial\\Pierian-Data-Courses\\AutoGluo...      0\n",
      "..                                                 ...    ...\n",
      "795  C:\\Users\\Marcial\\Pierian-Data-Courses\\AutoGluo...      3\n",
      "796  C:\\Users\\Marcial\\Pierian-Data-Courses\\AutoGluo...      3\n",
      "797  C:\\Users\\Marcial\\Pierian-Data-Courses\\AutoGluo...      3\n",
      "798  C:\\Users\\Marcial\\Pierian-Data-Courses\\AutoGluo...      3\n",
      "799  C:\\Users\\Marcial\\Pierian-Data-Courses\\AutoGluo...      3\n",
      "\n",
      "[800 rows x 2 columns]\n"
     ]
    }
   ],
   "source": [
    "import pandas as pd\n",
    "\n",
    "from autogluon.multimodal.utils.misc import shopee_dataset\n",
    "download_dir = './ag_automm_tutorial_imgcls'\n",
    "train_data_path, test_data_path = shopee_dataset(download_dir)\n",
    "print(train_data_path)"
   ]
  },
  {
   "cell_type": "markdown",
   "id": "77034c07",
   "metadata": {
    "id": "77034c07"
   },
   "source": [
    "We can see there are 800 rows and 2 columns in this training dataframe. The 2 columns are **image** and **label**, and the **image** column contains the absolute paths of the images. Each row represents a different training sample.\n"
   ]
  },
  {
   "cell_type": "code",
   "execution_count": 3,
   "id": "fed308d6",
   "metadata": {},
   "outputs": [],
   "source": [
    "from IPython.display import Image, display"
   ]
  },
  {
   "cell_type": "code",
   "execution_count": 4,
   "id": "84c2afb1",
   "metadata": {},
   "outputs": [
    {
     "data": {
      "text/html": [
       "<div>\n",
       "<style scoped>\n",
       "    .dataframe tbody tr th:only-of-type {\n",
       "        vertical-align: middle;\n",
       "    }\n",
       "\n",
       "    .dataframe tbody tr th {\n",
       "        vertical-align: top;\n",
       "    }\n",
       "\n",
       "    .dataframe thead th {\n",
       "        text-align: right;\n",
       "    }\n",
       "</style>\n",
       "<table border=\"1\" class=\"dataframe\">\n",
       "  <thead>\n",
       "    <tr style=\"text-align: right;\">\n",
       "      <th></th>\n",
       "      <th>image</th>\n",
       "      <th>label</th>\n",
       "    </tr>\n",
       "  </thead>\n",
       "  <tbody>\n",
       "    <tr>\n",
       "      <th>0</th>\n",
       "      <td>C:\\Users\\Marcial\\Pierian-Data-Courses\\AutoGluo...</td>\n",
       "      <td>0</td>\n",
       "    </tr>\n",
       "    <tr>\n",
       "      <th>1</th>\n",
       "      <td>C:\\Users\\Marcial\\Pierian-Data-Courses\\AutoGluo...</td>\n",
       "      <td>0</td>\n",
       "    </tr>\n",
       "    <tr>\n",
       "      <th>2</th>\n",
       "      <td>C:\\Users\\Marcial\\Pierian-Data-Courses\\AutoGluo...</td>\n",
       "      <td>0</td>\n",
       "    </tr>\n",
       "    <tr>\n",
       "      <th>3</th>\n",
       "      <td>C:\\Users\\Marcial\\Pierian-Data-Courses\\AutoGluo...</td>\n",
       "      <td>0</td>\n",
       "    </tr>\n",
       "    <tr>\n",
       "      <th>4</th>\n",
       "      <td>C:\\Users\\Marcial\\Pierian-Data-Courses\\AutoGluo...</td>\n",
       "      <td>0</td>\n",
       "    </tr>\n",
       "    <tr>\n",
       "      <th>...</th>\n",
       "      <td>...</td>\n",
       "      <td>...</td>\n",
       "    </tr>\n",
       "    <tr>\n",
       "      <th>795</th>\n",
       "      <td>C:\\Users\\Marcial\\Pierian-Data-Courses\\AutoGluo...</td>\n",
       "      <td>3</td>\n",
       "    </tr>\n",
       "    <tr>\n",
       "      <th>796</th>\n",
       "      <td>C:\\Users\\Marcial\\Pierian-Data-Courses\\AutoGluo...</td>\n",
       "      <td>3</td>\n",
       "    </tr>\n",
       "    <tr>\n",
       "      <th>797</th>\n",
       "      <td>C:\\Users\\Marcial\\Pierian-Data-Courses\\AutoGluo...</td>\n",
       "      <td>3</td>\n",
       "    </tr>\n",
       "    <tr>\n",
       "      <th>798</th>\n",
       "      <td>C:\\Users\\Marcial\\Pierian-Data-Courses\\AutoGluo...</td>\n",
       "      <td>3</td>\n",
       "    </tr>\n",
       "    <tr>\n",
       "      <th>799</th>\n",
       "      <td>C:\\Users\\Marcial\\Pierian-Data-Courses\\AutoGluo...</td>\n",
       "      <td>3</td>\n",
       "    </tr>\n",
       "  </tbody>\n",
       "</table>\n",
       "<p>800 rows × 2 columns</p>\n",
       "</div>"
      ],
      "text/plain": [
       "                                                 image  label\n",
       "0    C:\\Users\\Marcial\\Pierian-Data-Courses\\AutoGluo...      0\n",
       "1    C:\\Users\\Marcial\\Pierian-Data-Courses\\AutoGluo...      0\n",
       "2    C:\\Users\\Marcial\\Pierian-Data-Courses\\AutoGluo...      0\n",
       "3    C:\\Users\\Marcial\\Pierian-Data-Courses\\AutoGluo...      0\n",
       "4    C:\\Users\\Marcial\\Pierian-Data-Courses\\AutoGluo...      0\n",
       "..                                                 ...    ...\n",
       "795  C:\\Users\\Marcial\\Pierian-Data-Courses\\AutoGluo...      3\n",
       "796  C:\\Users\\Marcial\\Pierian-Data-Courses\\AutoGluo...      3\n",
       "797  C:\\Users\\Marcial\\Pierian-Data-Courses\\AutoGluo...      3\n",
       "798  C:\\Users\\Marcial\\Pierian-Data-Courses\\AutoGluo...      3\n",
       "799  C:\\Users\\Marcial\\Pierian-Data-Courses\\AutoGluo...      3\n",
       "\n",
       "[800 rows x 2 columns]"
      ]
     },
     "execution_count": 4,
     "metadata": {},
     "output_type": "execute_result"
    }
   ],
   "source": [
    "train_data_path"
   ]
  },
  {
   "cell_type": "code",
   "execution_count": 8,
   "id": "f9fa59c3",
   "metadata": {},
   "outputs": [
    {
     "data": {
      "image/jpeg": "[encoded data removed]",
      "text/plain": [
       "<IPython.core.display.Image object>"
      ]
     },
     "metadata": {},
     "output_type": "display_data"
    }
   ],
   "source": [
    "display(Image(train_data_path['image'][15]))"
   ]
  },
  {
   "cell_type": "markdown",
   "id": "b6640353",
   "metadata": {
    "id": "b6640353"
   },
   "source": [
    "## Use AutoMM to Fit Models\n",
    "\n",
    "Now, we fit a classifier using AutoMM as follows:"
   ]
  },
  {
   "cell_type": "code",
   "execution_count": 10,
   "id": "96e31052",
   "metadata": {
    "id": "96e31052"
   },
   "outputs": [
    {
     "name": "stderr",
     "output_type": "stream",
     "text": [
      "Global seed set to 123\n",
      "AutoMM starts to create your model. ✨\n",
      "\n",
      "- Model will be saved to \"C:\\Users\\Marcial\\Pierian-Data-Courses\\AutoGluon-Course\\03-Images\\image_classifier\".\n",
      "\n",
      "- Validation metric is \"accuracy\".\n",
      "\n",
      "- To track the learning progress, you can open a terminal and launch Tensorboard:\n",
      "    ```shell\n",
      "    # Assume you have installed tensorboard\n",
      "    tensorboard --logdir C:\\Users\\Marcial\\Pierian-Data-Courses\\AutoGluon-Course\\03-Images\\image_classifier\n",
      "    ```\n",
      "\n",
      "Enjoy your coffee, and let AutoMM do the job ☕☕☕ Learn more at https://auto.gluon.ai\n",
      "\n",
      "GPU available: False, used: False\n",
      "TPU available: False, using: 0 TPU cores\n",
      "IPU available: False, using: 0 IPUs\n",
      "HPU available: False, using: 0 HPUs\n",
      "\n",
      "  | Name              | Type                            | Params\n",
      "----------------------------------------------------------------------\n",
      "0 | model             | TimmAutoModelForImagePrediction | 86.7 M\n",
      "1 | validation_metric | Accuracy                        | 0     \n",
      "2 | loss_func         | CrossEntropyLoss                | 0     \n",
      "----------------------------------------------------------------------\n",
      "86.7 M    Trainable params\n",
      "0         Non-trainable params\n",
      "86.7 M    Total params\n",
      "346.989   Total estimated model params size (MB)\n"
     ]
    },
    {
     "data": {
      "application/json": {
       "ascii": false,
       "bar_format": null,
       "colour": null,
       "elapsed": 0.027369022369384766,
       "initial": 0,
       "n": 0,
       "ncols": 228,
       "nrows": 42,
       "postfix": null,
       "prefix": "Sanity Checking",
       "rate": null,
       "total": null,
       "unit": "it",
       "unit_divisor": 1000,
       "unit_scale": false
      },
      "application/vnd.jupyter.widget-view+json": {
       "model_id": "",
       "version_major": 2,
       "version_minor": 0
      },
      "text/plain": [
       "Sanity Checking: 0it [00:00, ?it/s]"
      ]
     },
     "metadata": {},
     "output_type": "display_data"
    },
    {
     "data": {
      "application/json": {
       "ascii": false,
       "bar_format": null,
       "colour": null,
       "elapsed": 0.029305696487426758,
       "initial": 0,
       "n": 0,
       "ncols": 228,
       "nrows": 42,
       "postfix": null,
       "prefix": "Training",
       "rate": null,
       "total": null,
       "unit": "it",
       "unit_divisor": 1000,
       "unit_scale": false
      },
      "application/vnd.jupyter.widget-view+json": {
       "model_id": "96dd77bba5d34eaab9c5cfcdb550b6d3",
       "version_major": 2,
       "version_minor": 0
      },
      "text/plain": [
       "Training: 0it [00:00, ?it/s]"
      ]
     },
     "metadata": {},
     "output_type": "display_data"
    },
    {
     "name": "stderr",
     "output_type": "stream",
     "text": [
      "Time limit reached. Elapsed time is 0:02:01. Signaling Trainer to stop.\n"
     ]
    },
    {
     "data": {
      "application/json": {
       "ascii": false,
       "bar_format": null,
       "colour": null,
       "elapsed": 0.02849102020263672,
       "initial": 0,
       "n": 0,
       "ncols": 228,
       "nrows": 42,
       "postfix": null,
       "prefix": "Validation",
       "rate": null,
       "total": null,
       "unit": "it",
       "unit_divisor": 1000,
       "unit_scale": false
      },
      "application/vnd.jupyter.widget-view+json": {
       "model_id": "",
       "version_major": 2,
       "version_minor": 0
      },
      "text/plain": [
       "Validation: 0it [00:00, ?it/s]"
      ]
     },
     "metadata": {},
     "output_type": "display_data"
    },
    {
     "name": "stderr",
     "output_type": "stream",
     "text": [
      "Epoch 0, global step 1: 'val_accuracy' reached 0.21875 (best 0.21875), saving model to 'C:\\\\Users\\\\Marcial\\\\Pierian-Data-Courses\\\\AutoGluon-Course\\\\03-Images\\\\image_classifier\\\\epoch=0-step=1.ckpt' as top 3\n",
      "AutoMM has created your model 🎉🎉🎉\n",
      "\n",
      "- To load the model, use the code below:\n",
      "    ```python\n",
      "    from autogluon.multimodal import MultiModalPredictor\n",
      "    predictor = MultiModalPredictor.load(\"C:\\Users\\Marcial\\Pierian-Data-Courses\\AutoGluon-Course\\03-Images\\image_classifier\")\n",
      "    ```\n",
      "\n",
      "- You can open a terminal and launch Tensorboard to visualize the training log:\n",
      "    ```shell\n",
      "    # Assume you have installed tensorboard\n",
      "    tensorboard --logdir C:\\Users\\Marcial\\Pierian-Data-Courses\\AutoGluon-Course\\03-Images\\image_classifier\n",
      "    ```\n",
      "\n",
      "- If you are not satisfied with the model, try to increase the training time, \n",
      "adjust the hyperparameters (https://auto.gluon.ai/stable/tutorials/multimodal/advanced_topics/customization.html),\n",
      "or post issues on GitHub: https://github.com/autogluon/autogluon\n",
      "\n",
      "\n"
     ]
    },
    {
     "data": {
      "text/plain": [
       "<autogluon.multimodal.predictor.MultiModalPredictor at 0x225dd44c880>"
      ]
     },
     "execution_count": 10,
     "metadata": {},
     "output_type": "execute_result"
    }
   ],
   "source": [
    "from autogluon.multimodal import MultiModalPredictor\n",
    "model_path = \"image_classifier\"\n",
    "predictor = MultiModalPredictor(label=\"label\", path=model_path)\n",
    "predictor.fit(\n",
    "    train_data=train_data_path,  \n",
    "    time_limit=120, # seconds\n",
    ")  "
   ]
  },
  {
   "cell_type": "markdown",
   "id": "199ced03",
   "metadata": {
    "id": "199ced03"
   },
   "source": [
    "## Evaluate on Test Data  "
   ]
  },
  {
   "cell_type": "code",
   "execution_count": 11,
   "id": "4e4078bd",
   "metadata": {
    "id": "4e4078bd"
   },
   "outputs": [
    {
     "data": {
      "application/json": {
       "ascii": false,
       "bar_format": null,
       "colour": null,
       "elapsed": 0.03296947479248047,
       "initial": 0,
       "n": 0,
       "ncols": 228,
       "nrows": 42,
       "postfix": null,
       "prefix": "Predicting",
       "rate": null,
       "total": null,
       "unit": "it",
       "unit_divisor": 1000,
       "unit_scale": false
      },
      "application/vnd.jupyter.widget-view+json": {
       "model_id": "f6a54f5be41f4d4cba8bec5acee55bb1",
       "version_major": 2,
       "version_minor": 0
      },
      "text/plain": [
       "Predicting: 0it [00:00, ?it/s]"
      ]
     },
     "metadata": {},
     "output_type": "display_data"
    },
    {
     "data": {
      "text/plain": [
       "{'accuracy': 0.1375}"
      ]
     },
     "execution_count": 11,
     "metadata": {},
     "output_type": "execute_result"
    }
   ],
   "source": [
    "scores = predictor.evaluate(test_data_path, metrics=[\"accuracy\"])\n",
    "scores"
   ]
  },
  {
   "cell_type": "markdown",
   "id": "9c60aa65",
   "metadata": {
    "id": "9c60aa65"
   },
   "source": [
    "## Predict on a New Image\n",
    "\n",
    "Given an example image, let's visualize it first,"
   ]
  },
  {
   "cell_type": "code",
   "execution_count": 15,
   "id": "f08caa07",
   "metadata": {
    "id": "f08caa07"
   },
   "outputs": [
    {
     "data": {
      "image/jpeg": "[encoded data removed]",
      "text/plain": [
       "<IPython.core.display.Image object>"
      ]
     },
     "metadata": {},
     "output_type": "display_data"
    }
   ],
   "source": [
    "image_path = test_data_path.iloc[10]['image']\n",
    "from IPython.display import Image, display\n",
    "pil_img = Image(filename=image_path)\n",
    "display(pil_img)"
   ]
  },
  {
   "cell_type": "markdown",
   "id": "3ddc4aa7",
   "metadata": {
    "id": "3ddc4aa7"
   },
   "source": [
    "We can easily use the final model to `predict` the label,"
   ]
  },
  {
   "cell_type": "code",
   "execution_count": 16,
   "id": "f21c9030",
   "metadata": {
    "id": "f21c9030"
   },
   "outputs": [
    {
     "name": "stdout",
     "output_type": "stream",
     "text": [
      "[3]\n"
     ]
    }
   ],
   "source": [
    "predictions = predictor.predict({'image': [image_path]})\n",
    "print(predictions)"
   ]
  },
  {
   "cell_type": "markdown",
   "id": "fee61517",
   "metadata": {
    "id": "fee61517"
   },
   "source": [
    "If probabilities of all categories are needed, you can call `predict_proba`:"
   ]
  },
  {
   "cell_type": "code",
   "execution_count": 17,
   "id": "ca205a5c",
   "metadata": {
    "id": "ca205a5c"
   },
   "outputs": [
    {
     "name": "stdout",
     "output_type": "stream",
     "text": [
      "[[0.247602   0.24582204 0.24288923 0.2636868 ]]\n"
     ]
    }
   ],
   "source": [
    "proba = predictor.predict_proba({'image': [image_path]})\n",
    "print(proba)"
   ]
  }
 ],
 "metadata": {
  "colab": {
   "provenance": []
  },
  "kernelspec": {
   "display_name": "Python 3 (ipykernel)",
   "language": "python",
   "name": "python3"
  },
  "language_info": {
   "codemirror_mode": {
    "name": "ipython",
    "version": 3
   },
   "file_extension": ".py",
   "mimetype": "text/x-python",
   "name": "python",
   "nbconvert_exporter": "python",
   "pygments_lexer": "ipython3",
   "version": "3.9.12"
  }
 },
 "nbformat": 4,
 "nbformat_minor": 5
}
