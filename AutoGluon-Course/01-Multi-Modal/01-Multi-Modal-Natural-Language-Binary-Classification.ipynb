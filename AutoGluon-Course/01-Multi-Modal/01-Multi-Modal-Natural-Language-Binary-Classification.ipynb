{
 "cells": [
  {
   "cell_type": "markdown",
   "id": "0b4db2f1",
   "metadata": {},
   "source": [
    "<a href = \"https://www.pieriantraining.com\"><img src=\"../PT Centered Purple.png\"> </a>\n",
    "\n",
    "<em style=\"text-align:center\">Copyrighted by Pierian Training</em>"
   ]
  },
  {
   "cell_type": "markdown",
   "id": "5f410b23",
   "metadata": {},
   "source": [
    "# Multi-Modal: Natural Language Binary Classification\n",
    "\n",
    "A common data set simply includes **just** a natural language feature and a binary label, such as sentiment analysis  (positive or negative sentiment) or in this case, whether an email is \"ham\" (legitimate) or \"spam\" (a spammy email)."
   ]
  },
  {
   "cell_type": "markdown",
   "id": "d8b71299",
   "metadata": {},
   "source": [
    "For a single column of natural language text as are only feature, it makes sense to use the MultiModalPredictor from autogluon.\n",
    "\n",
    "Our data set is sourced from here:\n",
    "https://www.kaggle.com/datasets/venky73/spam-mails-dataset"
   ]
  },
  {
   "cell_type": "markdown",
   "id": "2b62827c",
   "metadata": {},
   "source": [
    "## Imports"
   ]
  },
  {
   "cell_type": "code",
   "execution_count": 5,
   "id": "07891168",
   "metadata": {},
   "outputs": [],
   "source": [
    "from autogluon.multimodal import MultiModalPredictor\n",
    "from autogluon.tabular import TabularDataset"
   ]
  },
  {
   "cell_type": "code",
   "execution_count": 10,
   "id": "c2b61a4e",
   "metadata": {},
   "outputs": [],
   "source": [
    "data = TabularDataset(\"data/sentiment/spam_ham_dataset.csv\")"
   ]
  },
  {
   "cell_type": "code",
   "execution_count": 15,
   "id": "e4cb8eed",
   "metadata": {},
   "outputs": [
    {
     "data": {
      "text/html": [
       "<div>\n",
       "<style scoped>\n",
       "    .dataframe tbody tr th:only-of-type {\n",
       "        vertical-align: middle;\n",
       "    }\n",
       "\n",
       "    .dataframe tbody tr th {\n",
       "        vertical-align: top;\n",
       "    }\n",
       "\n",
       "    .dataframe thead th {\n",
       "        text-align: right;\n",
       "    }\n",
       "</style>\n",
       "<table border=\"1\" class=\"dataframe\">\n",
       "  <thead>\n",
       "    <tr style=\"text-align: right;\">\n",
       "      <th></th>\n",
       "      <th>label</th>\n",
       "      <th>text</th>\n",
       "    </tr>\n",
       "  </thead>\n",
       "  <tbody>\n",
       "    <tr>\n",
       "      <th>0</th>\n",
       "      <td>ham</td>\n",
       "      <td>Subject: enron methanol ; meter # : 988291\\r\\n...</td>\n",
       "    </tr>\n",
       "    <tr>\n",
       "      <th>1</th>\n",
       "      <td>ham</td>\n",
       "      <td>Subject: hpl nom for january 9 , 2001\\r\\n( see...</td>\n",
       "    </tr>\n",
       "    <tr>\n",
       "      <th>2</th>\n",
       "      <td>ham</td>\n",
       "      <td>Subject: neon retreat\\r\\nho ho ho , we ' re ar...</td>\n",
       "    </tr>\n",
       "    <tr>\n",
       "      <th>3</th>\n",
       "      <td>spam</td>\n",
       "      <td>Subject: photoshop , windows , office . cheap ...</td>\n",
       "    </tr>\n",
       "    <tr>\n",
       "      <th>4</th>\n",
       "      <td>ham</td>\n",
       "      <td>Subject: re : indian springs\\r\\nthis deal is t...</td>\n",
       "    </tr>\n",
       "  </tbody>\n",
       "</table>\n",
       "</div>"
      ],
      "text/plain": [
       "  label                                               text\n",
       "0   ham  Subject: enron methanol ; meter # : 988291\\r\\n...\n",
       "1   ham  Subject: hpl nom for january 9 , 2001\\r\\n( see...\n",
       "2   ham  Subject: neon retreat\\r\\nho ho ho , we ' re ar...\n",
       "3  spam  Subject: photoshop , windows , office . cheap ...\n",
       "4   ham  Subject: re : indian springs\\r\\nthis deal is t..."
      ]
     },
     "execution_count": 15,
     "metadata": {},
     "output_type": "execute_result"
    }
   ],
   "source": [
    "data.head()"
   ]
  },
  {
   "cell_type": "code",
   "execution_count": 16,
   "id": "c09678d6",
   "metadata": {},
   "outputs": [
    {
     "data": {
      "text/plain": [
       "ham     3672\n",
       "spam    1499\n",
       "Name: label, dtype: int64"
      ]
     },
     "execution_count": 16,
     "metadata": {},
     "output_type": "execute_result"
    }
   ],
   "source": [
    "data['label'].value_counts()"
   ]
  },
  {
   "cell_type": "code",
   "execution_count": 17,
   "id": "892b9c5f",
   "metadata": {},
   "outputs": [
    {
     "name": "stdout",
     "output_type": "stream",
     "text": [
      "ham\n",
      "Subject: re : indian springs\r\n",
      "this deal is to book the teco pvr revenue . it is my understanding that teco\r\n",
      "just sends us a check , i haven ' t received an answer as to whether there is a\r\n",
      "predermined price associated with this deal or if teco just lets us know what\r\n",
      "we are giving . i can continue to chase this deal down if you need .\n"
     ]
    }
   ],
   "source": [
    "print(data.iloc[4]['label'])\n",
    "print(data.iloc[4]['text'])"
   ]
  },
  {
   "cell_type": "markdown",
   "id": "c1bf02ff",
   "metadata": {},
   "source": [
    "---"
   ]
  },
  {
   "cell_type": "code",
   "execution_count": 18,
   "id": "736d656f",
   "metadata": {},
   "outputs": [
    {
     "name": "stdout",
     "output_type": "stream",
     "text": [
      "spam\n",
      "Subject: photoshop , windows , office . cheap . main trending\r\n",
      "abasements darer prudently fortuitous undergone\r\n",
      "lighthearted charm orinoco taster\r\n",
      "railroad affluent pornographic cuvier\r\n",
      "irvin parkhouse blameworthy chlorophyll\r\n",
      "robed diagrammatic fogarty clears bayda\r\n",
      "inconveniencing managing represented smartness hashish\r\n",
      "academies shareholders unload badness\r\n",
      "danielson pure caffein\r\n",
      "spaniard chargeable levin\r\n",
      "\n"
     ]
    }
   ],
   "source": [
    "print(data.iloc[3]['label'])\n",
    "print(data.iloc[3][\"text\"])"
   ]
  },
  {
   "cell_type": "markdown",
   "id": "15f5f63d",
   "metadata": {},
   "source": [
    "## Train Test Split"
   ]
  },
  {
   "cell_type": "code",
   "execution_count": 19,
   "id": "a8a81d47",
   "metadata": {},
   "outputs": [],
   "source": [
    "train_size = int(len(data) * 0.8)\n",
    "seed = 42\n",
    "train_data = data.sample(train_size, random_state=seed)\n",
    "test_data = data.drop(train_data.index)"
   ]
  },
  {
   "cell_type": "markdown",
   "id": "9aa269dc",
   "metadata": {},
   "source": [
    "## MultiModalPredictor\n",
    "\n",
    "Let's train a MultiModalPredictor on this dataset. You can use this specific predictor when you're only dealing with natural language text data. Keep in mind that a TabularPredictor is also quite capable, its just that with a MultiModalPredictor Autogluon will also attempt to train a Transformer Network.\n",
    "\n",
    "Note that without a GPU training might take a while!"
   ]
  },
  {
   "cell_type": "code",
   "execution_count": 20,
   "id": "bdc5bf62",
   "metadata": {},
   "outputs": [],
   "source": [
    "save_path=\"sentiment_analysis\""
   ]
  },
  {
   "cell_type": "code",
   "execution_count": 23,
   "id": "7c8e5e1f",
   "metadata": {},
   "outputs": [],
   "source": [
    "predictor = MultiModalPredictor(label=\"label\", path=save_path)"
   ]
  },
  {
   "cell_type": "code",
   "execution_count": null,
   "id": "817df0ca",
   "metadata": {
    "scrolled": false
   },
   "outputs": [],
   "source": [
    "# ONLY RUN THIS IF YOU HAVE A LOT OF TIME!\n",
    "# THIS WILL TAKE HOURS TO RUN ON A CPU!\n",
    "predictor.fit(train_data)"
   ]
  },
  {
   "cell_type": "markdown",
   "id": "7741543f",
   "metadata": {},
   "source": [
    "## Evaluation\n",
    "\n",
    "After training, we can easily evaluate our predictor on separate test data formatted similarly to our training data."
   ]
  },
  {
   "cell_type": "code",
   "execution_count": 25,
   "id": "growing-flexibility",
   "metadata": {},
   "outputs": [
    {
     "data": {
      "application/json": {
       "ascii": false,
       "bar_format": null,
       "colour": null,
       "elapsed": 0.03191399574279785,
       "initial": 0,
       "n": 0,
       "ncols": 228,
       "nrows": 42,
       "postfix": null,
       "prefix": "Predicting",
       "rate": null,
       "total": null,
       "unit": "it",
       "unit_divisor": 1000,
       "unit_scale": false
      },
      "application/vnd.jupyter.widget-view+json": {
       "model_id": "38a72905c8f64008a0344ab283578829",
       "version_major": 2,
       "version_minor": 0
      },
      "text/plain": [
       "Predicting: 0it [00:00, ?it/s]"
      ]
     },
     "metadata": {},
     "output_type": "display_data"
    },
    {
     "name": "stdout",
     "output_type": "stream",
     "text": [
      "{'acc': 0.9603864734299516, 'f1': 0.9313232830820771}\n"
     ]
    }
   ],
   "source": [
    "test_score = predictor.evaluate(test_data, metrics=['acc', 'f1'])\n",
    "print(test_score)"
   ]
  },
  {
   "cell_type": "markdown",
   "id": "a0048d61",
   "metadata": {},
   "source": [
    "## Prediction on New Data"
   ]
  },
  {
   "cell_type": "code",
   "execution_count": 27,
   "id": "3b6145e1",
   "metadata": {},
   "outputs": [],
   "source": [
    "email1 = \"Subject: free pills\\n Give me your social security number and bank account for free pills\"\n",
    "email2 = \"Subject: Work Meeting\\n Let me know if you have availability for Friday. Thanks!\""
   ]
  },
  {
   "cell_type": "code",
   "execution_count": 28,
   "id": "f9eb03da",
   "metadata": {},
   "outputs": [
    {
     "name": "stdout",
     "output_type": "stream",
     "text": [
      "Subject: free pills\n",
      " Give me your social security number and bank account for free pills\n"
     ]
    }
   ],
   "source": [
    "print(email1)"
   ]
  },
  {
   "cell_type": "code",
   "execution_count": 29,
   "id": "77a95132",
   "metadata": {},
   "outputs": [
    {
     "name": "stdout",
     "output_type": "stream",
     "text": [
      "Subject: Work Meeting\n",
      " Let me know if you have availability for Friday. Thanks!\n"
     ]
    }
   ],
   "source": [
    "print(email2)"
   ]
  },
  {
   "cell_type": "code",
   "execution_count": 30,
   "id": "0877e97b",
   "metadata": {},
   "outputs": [
    {
     "name": "stdout",
     "output_type": "stream",
     "text": [
      "\"email\": Subject: free pills\n",
      " Give me your social security number and bank account for free pills \"Predicted Sentiment\": spam\n",
      "\"email\": Subject: Work Meeting\n",
      " Let me know if you have availability for Friday. Thanks! \"Predicted Sentiment\": ham\n"
     ]
    },
    {
     "name": "stderr",
     "output_type": "stream",
     "text": [
      "C:\\Users\\Marcial\\AppData\\Roaming\\Python\\Python39\\site-packages\\autogluon\\multimodal\\utils\\data.py:511: UserWarning: Replacing detected dataframe columns `['email']` with columns `['text']` from training data.Double check the correspondences between them to avoid unexpected behaviors.\n",
      "  warnings.warn(\n"
     ]
    }
   ],
   "source": [
    "predictions = predictor.predict({'email': [email1, email2]})\n",
    "print('\"email\":', email1, '\"Predicted Sentiment\":', predictions[0])\n",
    "print('\"email\":', email2, '\"Predicted Sentiment\":', predictions[1])"
   ]
  },
  {
   "cell_type": "markdown",
   "id": "b6e8e750",
   "metadata": {},
   "source": [
    "For classification tasks, you can ask for predicted class-probabilities instead of predicted classes."
   ]
  },
  {
   "cell_type": "code",
   "execution_count": 31,
   "id": "d0b73f22",
   "metadata": {},
   "outputs": [
    {
     "name": "stdout",
     "output_type": "stream",
     "text": [
      "\"email\": Subject: free pills\n",
      " Give me your social security number and bank account for free pills \"Predicted Sentiment\": [0.39974084 0.6002591 ]\n",
      "\"email\": Subject: Work Meeting\n",
      " Let me know if you have availability for Friday. Thanks! \"Predicted Sentiment\": [0.99675035 0.00324949]\n"
     ]
    },
    {
     "name": "stderr",
     "output_type": "stream",
     "text": [
      "C:\\Users\\Marcial\\AppData\\Roaming\\Python\\Python39\\site-packages\\autogluon\\multimodal\\utils\\data.py:511: UserWarning: Replacing detected dataframe columns `['email']` with columns `['text']` from training data.Double check the correspondences between them to avoid unexpected behaviors.\n",
      "  warnings.warn(\n"
     ]
    }
   ],
   "source": [
    "predictions = predictor.predict_proba({'email': [email1, email2]})\n",
    "print('\"email\":', email1, '\"Predicted Sentiment\":', predictions[0])\n",
    "print('\"email\":', email2, '\"Predicted Sentiment\":', predictions[1])"
   ]
  },
  {
   "cell_type": "code",
   "execution_count": null,
   "id": "bdbcf213",
   "metadata": {},
   "outputs": [],
   "source": []
  }
 ],
 "metadata": {
  "kernelspec": {
   "display_name": "Python 3 (ipykernel)",
   "language": "python",
   "name": "python3"
  },
  "language_info": {
   "codemirror_mode": {
    "name": "ipython",
    "version": 3
   },
   "file_extension": ".py",
   "mimetype": "text/x-python",
   "name": "python",
   "nbconvert_exporter": "python",
   "pygments_lexer": "ipython3",
   "version": "3.9.12"
  }
 },
 "nbformat": 4,
 "nbformat_minor": 5
}
