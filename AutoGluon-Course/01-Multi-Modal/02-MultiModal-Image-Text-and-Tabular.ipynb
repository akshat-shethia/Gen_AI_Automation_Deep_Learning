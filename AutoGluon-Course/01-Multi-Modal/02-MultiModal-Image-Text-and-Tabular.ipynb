{
 "cells": [
  {
   "cell_type": "markdown",
   "id": "833216b0",
   "metadata": {},
   "source": [
    "<a href = \"https://www.pieriantraining.com\"><img src=\"../PT Centered Purple.png\"> </a>\n",
    "\n",
    "<em style=\"text-align:center\">Copyrighted by Pierian Training</em>"
   ]
  },
  {
   "cell_type": "markdown",
   "id": "62901f46",
   "metadata": {},
   "source": [
    "# Multi-Modal: Image, Text, and Tabular\n",
    "\n",
    "Now let's combine all data types, literal png images, natural language text, and any normal tabular data (numeric, strings, etc.)\n",
    "\n",
    "Note, this is a very computational heavy demand task, you will probably want to run this on either a GPU or on some sort of cloud provider!"
   ]
  },
  {
   "cell_type": "markdown",
   "id": "e2542a61",
   "metadata": {},
   "source": [
    "## Data\n",
    "\n",
    "We will be using a modified version of the PetFinder dataset:\n",
    "https://www.kaggle.com/c/petfinder-adoption-prediction\n",
    "\n",
    "This data includes a lot of information, including multi-modal information:\n",
    "\n",
    "* Natural Language Text Data\n",
    "    * Description of the Pet\n",
    "* Image Data\n",
    "    * File paths to images of the Pets\n",
    "* Tabular Data\n",
    "    * All the other data points (numeric and object)\n",
    "    \n",
    "**Data Features**"
   ]
  },
  {
   "cell_type": "markdown",
   "id": "5e67ab62",
   "metadata": {},
   "source": [
    "* PetID - Unique hash ID of pet profile\n",
    "* AdoptionSpeed - Categorical speed of adoption. Lower is faster. This is the value to predict. See below section for more info.\n",
    "* Type - Type of animal (1 = Dog, 2 = Cat)\n",
    "* Name - Name of pet (Empty if not named)\n",
    "* Age - Age of pet when listed, in months\n",
    "* Breed1 - Primary breed of pet (Refer to BreedLabels dictionary)\n",
    "* Breed2 - Secondary breed of pet, if pet is of mixed breed (Refer to BreedLabels dictionary)\n",
    "* Gender - Gender of pet (1 = Male, 2 = Female, 3 = Mixed, if profile represents group of pets)\n",
    "* Color1 - Color 1 of pet (Refer to ColorLabels dictionary)\n",
    "* Color2 - Color 2 of pet (Refer to ColorLabels dictionary)\n",
    "* Color3 - Color 3 of pet (Refer to ColorLabels dictionary)\n",
    "* MaturitySize - Size at maturity (1 = Small, 2 = Medium, 3 = Large, 4 = Extra Large, 0 = Not Specified)\n",
    "* FurLength - Fur length (1 = Short, 2 = Medium, 3 = Long, 0 = Not Specified)\n",
    "* Vaccinated - Pet has been vaccinated (1 = Yes, 2 = No, 3 = Not Sure)\n",
    "* Dewormed - Pet has been dewormed (1 = Yes, 2 = No, 3 = Not Sure)\n",
    "* Sterilized - Pet has been spayed / neutered (1 = Yes, 2 = No, 3 = Not Sure)\n",
    "* Health - Health Condition (1 = Healthy, 2 = Minor Injury, 3 = Serious Injury, 0 = Not Specified)\n",
    "* Quantity - Number of pets represented in profile\n",
    "* Fee - Adoption fee (0 = Free)\n",
    "* State - State location in Malaysia (Refer to StateLabels dictionary)\n",
    "* RescuerID - Unique hash ID of rescuer\n",
    "* VideoAmt - Total uploaded videos for this pet\n",
    "* PhotoAmt - Total uploaded photos for this pet\n",
    "* Description - Profile write-up for this pet. The primary language used is English, with some in Malay or Chinese."
   ]
  },
  {
   "cell_type": "markdown",
   "id": "876428f5",
   "metadata": {},
   "source": [
    "    \n",
    "**LABEL FOR PREDICTION**    "
   ]
  },
  {
   "cell_type": "markdown",
   "id": "229b9598",
   "metadata": {},
   "source": [
    "We will attempt to predict the adoption speed of the animal, which the shelter has classified into two categories:\n",
    "* 0 - Adopted more than 10 days after listing (slow adoption)\n",
    "* 1 - Adopted less than 10 days after listing (fast adoption)"
   ]
  },
  {
   "cell_type": "code",
   "execution_count": 1,
   "id": "71555528",
   "metadata": {},
   "outputs": [],
   "source": [
    "from autogluon.tabular import TabularDataset"
   ]
  },
  {
   "cell_type": "code",
   "execution_count": 2,
   "id": "c7429276",
   "metadata": {},
   "outputs": [],
   "source": [
    "data = TabularDataset('data/petfinder/data.csv')"
   ]
  },
  {
   "cell_type": "code",
   "execution_count": 3,
   "id": "01bdfb8e",
   "metadata": {},
   "outputs": [
    {
     "data": {
      "text/html": [
       "<div>\n",
       "<style scoped>\n",
       "    .dataframe tbody tr th:only-of-type {\n",
       "        vertical-align: middle;\n",
       "    }\n",
       "\n",
       "    .dataframe tbody tr th {\n",
       "        vertical-align: top;\n",
       "    }\n",
       "\n",
       "    .dataframe thead th {\n",
       "        text-align: right;\n",
       "    }\n",
       "</style>\n",
       "<table border=\"1\" class=\"dataframe\">\n",
       "  <thead>\n",
       "    <tr style=\"text-align: right;\">\n",
       "      <th></th>\n",
       "      <th>Type</th>\n",
       "      <th>Name</th>\n",
       "      <th>Age</th>\n",
       "      <th>Breed1</th>\n",
       "      <th>Breed2</th>\n",
       "      <th>Gender</th>\n",
       "      <th>Color1</th>\n",
       "      <th>Color2</th>\n",
       "      <th>Color3</th>\n",
       "      <th>MaturitySize</th>\n",
       "      <th>FurLength</th>\n",
       "      <th>Vaccinated</th>\n",
       "      <th>Dewormed</th>\n",
       "      <th>Sterilized</th>\n",
       "      <th>Health</th>\n",
       "      <th>Quantity</th>\n",
       "      <th>Fee</th>\n",
       "      <th>State</th>\n",
       "      <th>RescuerID</th>\n",
       "      <th>VideoAmt</th>\n",
       "      <th>Description</th>\n",
       "      <th>PetID</th>\n",
       "      <th>PhotoAmt</th>\n",
       "      <th>AdoptionSpeed</th>\n",
       "      <th>Images</th>\n",
       "    </tr>\n",
       "  </thead>\n",
       "  <tbody>\n",
       "    <tr>\n",
       "      <th>0</th>\n",
       "      <td>2</td>\n",
       "      <td>Yumi Hamasaki</td>\n",
       "      <td>4</td>\n",
       "      <td>292</td>\n",
       "      <td>265</td>\n",
       "      <td>2</td>\n",
       "      <td>1</td>\n",
       "      <td>5</td>\n",
       "      <td>7</td>\n",
       "      <td>2</td>\n",
       "      <td>2</td>\n",
       "      <td>1</td>\n",
       "      <td>3</td>\n",
       "      <td>2</td>\n",
       "      <td>1</td>\n",
       "      <td>1</td>\n",
       "      <td>0</td>\n",
       "      <td>41326</td>\n",
       "      <td>bcc4e1b9557a8b3aaf545ea8e6e86991</td>\n",
       "      <td>0</td>\n",
       "      <td>I rescued Yumi Hamasaki at a food stall far aw...</td>\n",
       "      <td>7d7a39d71</td>\n",
       "      <td>3.0</td>\n",
       "      <td>0</td>\n",
       "      <td>images/7d7a39d71-1.jpg</td>\n",
       "    </tr>\n",
       "    <tr>\n",
       "      <th>1</th>\n",
       "      <td>2</td>\n",
       "      <td>Nene/ Kimie</td>\n",
       "      <td>12</td>\n",
       "      <td>285</td>\n",
       "      <td>0</td>\n",
       "      <td>2</td>\n",
       "      <td>5</td>\n",
       "      <td>6</td>\n",
       "      <td>7</td>\n",
       "      <td>2</td>\n",
       "      <td>3</td>\n",
       "      <td>2</td>\n",
       "      <td>2</td>\n",
       "      <td>2</td>\n",
       "      <td>1</td>\n",
       "      <td>1</td>\n",
       "      <td>0</td>\n",
       "      <td>41326</td>\n",
       "      <td>f0450bf0efe0fa3ff9321d0b827b1237</td>\n",
       "      <td>0</td>\n",
       "      <td>Has adopted by a friend with new pet name Kimie</td>\n",
       "      <td>0e107c82f</td>\n",
       "      <td>3.0</td>\n",
       "      <td>0</td>\n",
       "      <td>images/0e107c82f-1.jpg</td>\n",
       "    </tr>\n",
       "    <tr>\n",
       "      <th>2</th>\n",
       "      <td>2</td>\n",
       "      <td>Mattie</td>\n",
       "      <td>12</td>\n",
       "      <td>266</td>\n",
       "      <td>0</td>\n",
       "      <td>2</td>\n",
       "      <td>1</td>\n",
       "      <td>7</td>\n",
       "      <td>0</td>\n",
       "      <td>2</td>\n",
       "      <td>1</td>\n",
       "      <td>1</td>\n",
       "      <td>1</td>\n",
       "      <td>1</td>\n",
       "      <td>1</td>\n",
       "      <td>1</td>\n",
       "      <td>0</td>\n",
       "      <td>41401</td>\n",
       "      <td>9b52af6d48a4521fd01d4028eb5879a3</td>\n",
       "      <td>0</td>\n",
       "      <td>I rescued Mattie with a broken leg. After surg...</td>\n",
       "      <td>1a8fd6707</td>\n",
       "      <td>5.0</td>\n",
       "      <td>0</td>\n",
       "      <td>images/1a8fd6707-1.jpg</td>\n",
       "    </tr>\n",
       "    <tr>\n",
       "      <th>3</th>\n",
       "      <td>1</td>\n",
       "      <td>NaN</td>\n",
       "      <td>1</td>\n",
       "      <td>189</td>\n",
       "      <td>307</td>\n",
       "      <td>2</td>\n",
       "      <td>1</td>\n",
       "      <td>2</td>\n",
       "      <td>0</td>\n",
       "      <td>2</td>\n",
       "      <td>1</td>\n",
       "      <td>1</td>\n",
       "      <td>1</td>\n",
       "      <td>2</td>\n",
       "      <td>1</td>\n",
       "      <td>1</td>\n",
       "      <td>0</td>\n",
       "      <td>41401</td>\n",
       "      <td>88da1210e021a5cf43480b074778f3bc</td>\n",
       "      <td>0</td>\n",
       "      <td>She born on 30 September . I really hope the a...</td>\n",
       "      <td>bca8b44ae</td>\n",
       "      <td>3.0</td>\n",
       "      <td>0</td>\n",
       "      <td>images/bca8b44ae-1.jpg</td>\n",
       "    </tr>\n",
       "    <tr>\n",
       "      <th>4</th>\n",
       "      <td>2</td>\n",
       "      <td>Coco</td>\n",
       "      <td>6</td>\n",
       "      <td>276</td>\n",
       "      <td>285</td>\n",
       "      <td>2</td>\n",
       "      <td>2</td>\n",
       "      <td>4</td>\n",
       "      <td>7</td>\n",
       "      <td>2</td>\n",
       "      <td>2</td>\n",
       "      <td>1</td>\n",
       "      <td>1</td>\n",
       "      <td>2</td>\n",
       "      <td>1</td>\n",
       "      <td>1</td>\n",
       "      <td>100</td>\n",
       "      <td>41326</td>\n",
       "      <td>227d7b1bcfaffb5f9882bf57b5ee8fab</td>\n",
       "      <td>0</td>\n",
       "      <td>Calico Tame and easy going Diet RC Kitten Supp...</td>\n",
       "      <td>2def67952</td>\n",
       "      <td>1.0</td>\n",
       "      <td>0</td>\n",
       "      <td>images/2def67952-1.jpg</td>\n",
       "    </tr>\n",
       "  </tbody>\n",
       "</table>\n",
       "</div>"
      ],
      "text/plain": [
       "   Type           Name  Age  Breed1  Breed2  Gender  Color1  ...                         RescuerID  VideoAmt                                        Description      PetID  PhotoAmt  AdoptionSpeed                  Images\n",
       "0     2  Yumi Hamasaki    4     292     265       2       1  ...  bcc4e1b9557a8b3aaf545ea8e6e86991         0  I rescued Yumi Hamasaki at a food stall far aw...  7d7a39d71       3.0              0  images/7d7a39d71-1.jpg\n",
       "1     2    Nene/ Kimie   12     285       0       2       5  ...  f0450bf0efe0fa3ff9321d0b827b1237         0    Has adopted by a friend with new pet name Kimie  0e107c82f       3.0              0  images/0e107c82f-1.jpg\n",
       "2     2         Mattie   12     266       0       2       1  ...  9b52af6d48a4521fd01d4028eb5879a3         0  I rescued Mattie with a broken leg. After surg...  1a8fd6707       5.0              0  images/1a8fd6707-1.jpg\n",
       "3     1            NaN    1     189     307       2       1  ...  88da1210e021a5cf43480b074778f3bc         0  She born on 30 September . I really hope the a...  bca8b44ae       3.0              0  images/bca8b44ae-1.jpg\n",
       "4     2           Coco    6     276     285       2       2  ...  227d7b1bcfaffb5f9882bf57b5ee8fab         0  Calico Tame and easy going Diet RC Kitten Supp...  2def67952       1.0              0  images/2def67952-1.jpg\n",
       "\n",
       "[5 rows x 25 columns]"
      ]
     },
     "execution_count": 3,
     "metadata": {},
     "output_type": "execute_result"
    }
   ],
   "source": [
    "data.head()"
   ]
  },
  {
   "cell_type": "markdown",
   "id": "ee286586",
   "metadata": {},
   "source": [
    "### Image File Paths\n",
    "We'll need to insert the full file paths for training. We can use the os module for this with some pandas calls:"
   ]
  },
  {
   "cell_type": "code",
   "execution_count": 4,
   "id": "c535e371",
   "metadata": {},
   "outputs": [],
   "source": [
    "import os"
   ]
  },
  {
   "cell_type": "code",
   "execution_count": 8,
   "id": "80be5070",
   "metadata": {},
   "outputs": [
    {
     "data": {
      "text/plain": [
       "'C:\\\\Users\\\\Marcial\\\\Pierian-Data-Courses\\\\AutoGluon-Course\\\\01-Multi-Modal'"
      ]
     },
     "execution_count": 8,
     "metadata": {},
     "output_type": "execute_result"
    }
   ],
   "source": [
    "# Reports Current Working Directory\n",
    "os.getcwd()"
   ]
  },
  {
   "cell_type": "code",
   "execution_count": 9,
   "id": "155ab6ac",
   "metadata": {},
   "outputs": [],
   "source": [
    "# Our Data Directory:\n",
    "data_dir = '\\\\data\\\\petfinder\\\\'\n",
    "# MacOS or LINUX Users should use / instead of two \\\\\n",
    "# data_dir = '/data/petfinder/'"
   ]
  },
  {
   "cell_type": "code",
   "execution_count": 10,
   "id": "a6a52bdb",
   "metadata": {},
   "outputs": [],
   "source": [
    "def full_image_path(image_file):\n",
    "    return os.getcwd()+data_dir+image_file"
   ]
  },
  {
   "cell_type": "code",
   "execution_count": 12,
   "id": "62571f8c",
   "metadata": {},
   "outputs": [],
   "source": [
    "data['Images'] = data['Images'].apply(full_image_path)"
   ]
  },
  {
   "cell_type": "code",
   "execution_count": 13,
   "id": "4708eca2",
   "metadata": {},
   "outputs": [
    {
     "data": {
      "text/html": [
       "<div>\n",
       "<style scoped>\n",
       "    .dataframe tbody tr th:only-of-type {\n",
       "        vertical-align: middle;\n",
       "    }\n",
       "\n",
       "    .dataframe tbody tr th {\n",
       "        vertical-align: top;\n",
       "    }\n",
       "\n",
       "    .dataframe thead th {\n",
       "        text-align: right;\n",
       "    }\n",
       "</style>\n",
       "<table border=\"1\" class=\"dataframe\">\n",
       "  <thead>\n",
       "    <tr style=\"text-align: right;\">\n",
       "      <th></th>\n",
       "      <th>Type</th>\n",
       "      <th>Name</th>\n",
       "      <th>Age</th>\n",
       "      <th>Breed1</th>\n",
       "      <th>Breed2</th>\n",
       "      <th>Gender</th>\n",
       "      <th>Color1</th>\n",
       "      <th>Color2</th>\n",
       "      <th>Color3</th>\n",
       "      <th>MaturitySize</th>\n",
       "      <th>FurLength</th>\n",
       "      <th>Vaccinated</th>\n",
       "      <th>Dewormed</th>\n",
       "      <th>Sterilized</th>\n",
       "      <th>Health</th>\n",
       "      <th>Quantity</th>\n",
       "      <th>Fee</th>\n",
       "      <th>State</th>\n",
       "      <th>RescuerID</th>\n",
       "      <th>VideoAmt</th>\n",
       "      <th>Description</th>\n",
       "      <th>PetID</th>\n",
       "      <th>PhotoAmt</th>\n",
       "      <th>AdoptionSpeed</th>\n",
       "      <th>Images</th>\n",
       "    </tr>\n",
       "  </thead>\n",
       "  <tbody>\n",
       "    <tr>\n",
       "      <th>0</th>\n",
       "      <td>2</td>\n",
       "      <td>Yumi Hamasaki</td>\n",
       "      <td>4</td>\n",
       "      <td>292</td>\n",
       "      <td>265</td>\n",
       "      <td>2</td>\n",
       "      <td>1</td>\n",
       "      <td>5</td>\n",
       "      <td>7</td>\n",
       "      <td>2</td>\n",
       "      <td>2</td>\n",
       "      <td>1</td>\n",
       "      <td>3</td>\n",
       "      <td>2</td>\n",
       "      <td>1</td>\n",
       "      <td>1</td>\n",
       "      <td>0</td>\n",
       "      <td>41326</td>\n",
       "      <td>bcc4e1b9557a8b3aaf545ea8e6e86991</td>\n",
       "      <td>0</td>\n",
       "      <td>I rescued Yumi Hamasaki at a food stall far aw...</td>\n",
       "      <td>7d7a39d71</td>\n",
       "      <td>3.0</td>\n",
       "      <td>0</td>\n",
       "      <td>C:\\Users\\Marcial\\Pierian-Data-Courses\\AutoGluo...</td>\n",
       "    </tr>\n",
       "    <tr>\n",
       "      <th>1</th>\n",
       "      <td>2</td>\n",
       "      <td>Nene/ Kimie</td>\n",
       "      <td>12</td>\n",
       "      <td>285</td>\n",
       "      <td>0</td>\n",
       "      <td>2</td>\n",
       "      <td>5</td>\n",
       "      <td>6</td>\n",
       "      <td>7</td>\n",
       "      <td>2</td>\n",
       "      <td>3</td>\n",
       "      <td>2</td>\n",
       "      <td>2</td>\n",
       "      <td>2</td>\n",
       "      <td>1</td>\n",
       "      <td>1</td>\n",
       "      <td>0</td>\n",
       "      <td>41326</td>\n",
       "      <td>f0450bf0efe0fa3ff9321d0b827b1237</td>\n",
       "      <td>0</td>\n",
       "      <td>Has adopted by a friend with new pet name Kimie</td>\n",
       "      <td>0e107c82f</td>\n",
       "      <td>3.0</td>\n",
       "      <td>0</td>\n",
       "      <td>C:\\Users\\Marcial\\Pierian-Data-Courses\\AutoGluo...</td>\n",
       "    </tr>\n",
       "    <tr>\n",
       "      <th>2</th>\n",
       "      <td>2</td>\n",
       "      <td>Mattie</td>\n",
       "      <td>12</td>\n",
       "      <td>266</td>\n",
       "      <td>0</td>\n",
       "      <td>2</td>\n",
       "      <td>1</td>\n",
       "      <td>7</td>\n",
       "      <td>0</td>\n",
       "      <td>2</td>\n",
       "      <td>1</td>\n",
       "      <td>1</td>\n",
       "      <td>1</td>\n",
       "      <td>1</td>\n",
       "      <td>1</td>\n",
       "      <td>1</td>\n",
       "      <td>0</td>\n",
       "      <td>41401</td>\n",
       "      <td>9b52af6d48a4521fd01d4028eb5879a3</td>\n",
       "      <td>0</td>\n",
       "      <td>I rescued Mattie with a broken leg. After surg...</td>\n",
       "      <td>1a8fd6707</td>\n",
       "      <td>5.0</td>\n",
       "      <td>0</td>\n",
       "      <td>C:\\Users\\Marcial\\Pierian-Data-Courses\\AutoGluo...</td>\n",
       "    </tr>\n",
       "    <tr>\n",
       "      <th>3</th>\n",
       "      <td>1</td>\n",
       "      <td>NaN</td>\n",
       "      <td>1</td>\n",
       "      <td>189</td>\n",
       "      <td>307</td>\n",
       "      <td>2</td>\n",
       "      <td>1</td>\n",
       "      <td>2</td>\n",
       "      <td>0</td>\n",
       "      <td>2</td>\n",
       "      <td>1</td>\n",
       "      <td>1</td>\n",
       "      <td>1</td>\n",
       "      <td>2</td>\n",
       "      <td>1</td>\n",
       "      <td>1</td>\n",
       "      <td>0</td>\n",
       "      <td>41401</td>\n",
       "      <td>88da1210e021a5cf43480b074778f3bc</td>\n",
       "      <td>0</td>\n",
       "      <td>She born on 30 September . I really hope the a...</td>\n",
       "      <td>bca8b44ae</td>\n",
       "      <td>3.0</td>\n",
       "      <td>0</td>\n",
       "      <td>C:\\Users\\Marcial\\Pierian-Data-Courses\\AutoGluo...</td>\n",
       "    </tr>\n",
       "    <tr>\n",
       "      <th>4</th>\n",
       "      <td>2</td>\n",
       "      <td>Coco</td>\n",
       "      <td>6</td>\n",
       "      <td>276</td>\n",
       "      <td>285</td>\n",
       "      <td>2</td>\n",
       "      <td>2</td>\n",
       "      <td>4</td>\n",
       "      <td>7</td>\n",
       "      <td>2</td>\n",
       "      <td>2</td>\n",
       "      <td>1</td>\n",
       "      <td>1</td>\n",
       "      <td>2</td>\n",
       "      <td>1</td>\n",
       "      <td>1</td>\n",
       "      <td>100</td>\n",
       "      <td>41326</td>\n",
       "      <td>227d7b1bcfaffb5f9882bf57b5ee8fab</td>\n",
       "      <td>0</td>\n",
       "      <td>Calico Tame and easy going Diet RC Kitten Supp...</td>\n",
       "      <td>2def67952</td>\n",
       "      <td>1.0</td>\n",
       "      <td>0</td>\n",
       "      <td>C:\\Users\\Marcial\\Pierian-Data-Courses\\AutoGluo...</td>\n",
       "    </tr>\n",
       "  </tbody>\n",
       "</table>\n",
       "</div>"
      ],
      "text/plain": [
       "   Type           Name  Age  Breed1  Breed2  Gender  ...  VideoAmt                                        Description      PetID  PhotoAmt  AdoptionSpeed                                             Images\n",
       "0     2  Yumi Hamasaki    4     292     265       2  ...         0  I rescued Yumi Hamasaki at a food stall far aw...  7d7a39d71       3.0              0  C:\\Users\\Marcial\\Pierian-Data-Courses\\AutoGluo...\n",
       "1     2    Nene/ Kimie   12     285       0       2  ...         0    Has adopted by a friend with new pet name Kimie  0e107c82f       3.0              0  C:\\Users\\Marcial\\Pierian-Data-Courses\\AutoGluo...\n",
       "2     2         Mattie   12     266       0       2  ...         0  I rescued Mattie with a broken leg. After surg...  1a8fd6707       5.0              0  C:\\Users\\Marcial\\Pierian-Data-Courses\\AutoGluo...\n",
       "3     1            NaN    1     189     307       2  ...         0  She born on 30 September . I really hope the a...  bca8b44ae       3.0              0  C:\\Users\\Marcial\\Pierian-Data-Courses\\AutoGluo...\n",
       "4     2           Coco    6     276     285       2  ...         0  Calico Tame and easy going Diet RC Kitten Supp...  2def67952       1.0              0  C:\\Users\\Marcial\\Pierian-Data-Courses\\AutoGluo...\n",
       "\n",
       "[5 rows x 25 columns]"
      ]
     },
     "execution_count": 13,
     "metadata": {},
     "output_type": "execute_result"
    }
   ],
   "source": [
    "data.head()"
   ]
  },
  {
   "cell_type": "markdown",
   "id": "5c8c9821",
   "metadata": {},
   "source": [
    "### Confirm Images "
   ]
  },
  {
   "cell_type": "code",
   "execution_count": 14,
   "id": "5e9de8e3",
   "metadata": {},
   "outputs": [],
   "source": [
    "from IPython.display import Image, display"
   ]
  },
  {
   "cell_type": "code",
   "execution_count": 24,
   "id": "4488f466",
   "metadata": {},
   "outputs": [],
   "source": [
    "pil_img = Image(filename=data['Images'][100])"
   ]
  },
  {
   "cell_type": "code",
   "execution_count": 25,
   "id": "4c3c8b02",
   "metadata": {},
   "outputs": [
    {
     "data": {
      "image/jpeg": "[encoded data removed]",
      "text/plain": [
       "<IPython.core.display.Image object>"
      ]
     },
     "metadata": {},
     "output_type": "display_data"
    }
   ],
   "source": [
    "display(pil_img)"
   ]
  },
  {
   "cell_type": "markdown",
   "id": "f58c8984",
   "metadata": {},
   "source": [
    "There is no need to do any preprocessing, resizing, or feature engineering on the images, AutoGluon does that for you."
   ]
  },
  {
   "cell_type": "markdown",
   "id": "ff33f1c0",
   "metadata": {},
   "source": [
    "## Train Test Split"
   ]
  },
  {
   "cell_type": "code",
   "execution_count": 26,
   "id": "4e9f8eb7",
   "metadata": {},
   "outputs": [
    {
     "data": {
      "text/plain": [
       "700"
      ]
     },
     "execution_count": 26,
     "metadata": {},
     "output_type": "execute_result"
    }
   ],
   "source": [
    "len(data)"
   ]
  },
  {
   "cell_type": "code",
   "execution_count": 28,
   "id": "64fba055",
   "metadata": {},
   "outputs": [],
   "source": [
    "train_data = data.sample(600)\n",
    "test_data = data.drop(train_data.index)"
   ]
  },
  {
   "cell_type": "code",
   "execution_count": 29,
   "id": "f8295d7f",
   "metadata": {},
   "outputs": [
    {
     "data": {
      "text/html": [
       "<div>\n",
       "<style scoped>\n",
       "    .dataframe tbody tr th:only-of-type {\n",
       "        vertical-align: middle;\n",
       "    }\n",
       "\n",
       "    .dataframe tbody tr th {\n",
       "        vertical-align: top;\n",
       "    }\n",
       "\n",
       "    .dataframe thead th {\n",
       "        text-align: right;\n",
       "    }\n",
       "</style>\n",
       "<table border=\"1\" class=\"dataframe\">\n",
       "  <thead>\n",
       "    <tr style=\"text-align: right;\">\n",
       "      <th></th>\n",
       "      <th>Type</th>\n",
       "      <th>Name</th>\n",
       "      <th>Age</th>\n",
       "      <th>Breed1</th>\n",
       "      <th>Breed2</th>\n",
       "      <th>Gender</th>\n",
       "      <th>Color1</th>\n",
       "      <th>Color2</th>\n",
       "      <th>Color3</th>\n",
       "      <th>MaturitySize</th>\n",
       "      <th>FurLength</th>\n",
       "      <th>Vaccinated</th>\n",
       "      <th>Dewormed</th>\n",
       "      <th>Sterilized</th>\n",
       "      <th>Health</th>\n",
       "      <th>Quantity</th>\n",
       "      <th>Fee</th>\n",
       "      <th>State</th>\n",
       "      <th>RescuerID</th>\n",
       "      <th>VideoAmt</th>\n",
       "      <th>Description</th>\n",
       "      <th>PetID</th>\n",
       "      <th>PhotoAmt</th>\n",
       "      <th>AdoptionSpeed</th>\n",
       "      <th>Images</th>\n",
       "    </tr>\n",
       "  </thead>\n",
       "  <tbody>\n",
       "    <tr>\n",
       "      <th>530</th>\n",
       "      <td>2</td>\n",
       "      <td>Abu &amp; Atan</td>\n",
       "      <td>5</td>\n",
       "      <td>300</td>\n",
       "      <td>299</td>\n",
       "      <td>1</td>\n",
       "      <td>1</td>\n",
       "      <td>2</td>\n",
       "      <td>7</td>\n",
       "      <td>2</td>\n",
       "      <td>1</td>\n",
       "      <td>2</td>\n",
       "      <td>2</td>\n",
       "      <td>2</td>\n",
       "      <td>1</td>\n",
       "      <td>2</td>\n",
       "      <td>0</td>\n",
       "      <td>41401</td>\n",
       "      <td>8e983ee25c1e67b1b0fa479c32708235</td>\n",
       "      <td>0</td>\n",
       "      <td>A kitten that come to my house and i feed them...</td>\n",
       "      <td>6a3607d09</td>\n",
       "      <td>2.0</td>\n",
       "      <td>1</td>\n",
       "      <td>C:\\Users\\Marcial\\Pierian-Data-Courses\\AutoGluo...</td>\n",
       "    </tr>\n",
       "    <tr>\n",
       "      <th>323</th>\n",
       "      <td>2</td>\n",
       "      <td>Do,Re,Mi,Fa,So And La</td>\n",
       "      <td>6</td>\n",
       "      <td>265</td>\n",
       "      <td>0</td>\n",
       "      <td>3</td>\n",
       "      <td>6</td>\n",
       "      <td>7</td>\n",
       "      <td>0</td>\n",
       "      <td>2</td>\n",
       "      <td>2</td>\n",
       "      <td>1</td>\n",
       "      <td>1</td>\n",
       "      <td>1</td>\n",
       "      <td>1</td>\n",
       "      <td>7</td>\n",
       "      <td>0</td>\n",
       "      <td>41336</td>\n",
       "      <td>3c5ed28b83503760894a4c2761bb7a18</td>\n",
       "      <td>0</td>\n",
       "      <td>Their mum was throw away when they just arrive...</td>\n",
       "      <td>6d089036f</td>\n",
       "      <td>5.0</td>\n",
       "      <td>1</td>\n",
       "      <td>C:\\Users\\Marcial\\Pierian-Data-Courses\\AutoGluo...</td>\n",
       "    </tr>\n",
       "    <tr>\n",
       "      <th>8</th>\n",
       "      <td>2</td>\n",
       "      <td>Ovaltine</td>\n",
       "      <td>2</td>\n",
       "      <td>265</td>\n",
       "      <td>0</td>\n",
       "      <td>2</td>\n",
       "      <td>2</td>\n",
       "      <td>0</td>\n",
       "      <td>0</td>\n",
       "      <td>3</td>\n",
       "      <td>2</td>\n",
       "      <td>2</td>\n",
       "      <td>1</td>\n",
       "      <td>3</td>\n",
       "      <td>1</td>\n",
       "      <td>1</td>\n",
       "      <td>0</td>\n",
       "      <td>41326</td>\n",
       "      <td>167119eeb94dec6c615c602952c527c8</td>\n",
       "      <td>0</td>\n",
       "      <td>Ovaltine kisahnya sama saja dengan VICO kerana...</td>\n",
       "      <td>2b2ec33ac</td>\n",
       "      <td>2.0</td>\n",
       "      <td>0</td>\n",
       "      <td>C:\\Users\\Marcial\\Pierian-Data-Courses\\AutoGluo...</td>\n",
       "    </tr>\n",
       "    <tr>\n",
       "      <th>147</th>\n",
       "      <td>1</td>\n",
       "      <td>Simba</td>\n",
       "      <td>82</td>\n",
       "      <td>189</td>\n",
       "      <td>0</td>\n",
       "      <td>1</td>\n",
       "      <td>1</td>\n",
       "      <td>0</td>\n",
       "      <td>0</td>\n",
       "      <td>3</td>\n",
       "      <td>1</td>\n",
       "      <td>1</td>\n",
       "      <td>1</td>\n",
       "      <td>1</td>\n",
       "      <td>1</td>\n",
       "      <td>1</td>\n",
       "      <td>300</td>\n",
       "      <td>41326</td>\n",
       "      <td>20e79a294bb929f425376c8e54e1df51</td>\n",
       "      <td>0</td>\n",
       "      <td>I have had Simba since a puppy, a beautiful lo...</td>\n",
       "      <td>b9086e44f</td>\n",
       "      <td>3.0</td>\n",
       "      <td>0</td>\n",
       "      <td>C:\\Users\\Marcial\\Pierian-Data-Courses\\AutoGluo...</td>\n",
       "    </tr>\n",
       "    <tr>\n",
       "      <th>421</th>\n",
       "      <td>2</td>\n",
       "      <td>Mitten</td>\n",
       "      <td>10</td>\n",
       "      <td>266</td>\n",
       "      <td>0</td>\n",
       "      <td>2</td>\n",
       "      <td>1</td>\n",
       "      <td>6</td>\n",
       "      <td>7</td>\n",
       "      <td>1</td>\n",
       "      <td>1</td>\n",
       "      <td>1</td>\n",
       "      <td>1</td>\n",
       "      <td>2</td>\n",
       "      <td>1</td>\n",
       "      <td>1</td>\n",
       "      <td>50</td>\n",
       "      <td>41401</td>\n",
       "      <td>7115edcb78afd06e50e496cd56930c89</td>\n",
       "      <td>0</td>\n",
       "      <td>Pregnant mother.We are looking for someone to ...</td>\n",
       "      <td>534fff3cf</td>\n",
       "      <td>1.0</td>\n",
       "      <td>1</td>\n",
       "      <td>C:\\Users\\Marcial\\Pierian-Data-Courses\\AutoGluo...</td>\n",
       "    </tr>\n",
       "  </tbody>\n",
       "</table>\n",
       "</div>"
      ],
      "text/plain": [
       "     Type                   Name  Age  Breed1  Breed2  Gender  ...  VideoAmt                                        Description      PetID  PhotoAmt  AdoptionSpeed                                             Images\n",
       "530     2             Abu & Atan    5     300     299       1  ...         0  A kitten that come to my house and i feed them...  6a3607d09       2.0              1  C:\\Users\\Marcial\\Pierian-Data-Courses\\AutoGluo...\n",
       "323     2  Do,Re,Mi,Fa,So And La    6     265       0       3  ...         0  Their mum was throw away when they just arrive...  6d089036f       5.0              1  C:\\Users\\Marcial\\Pierian-Data-Courses\\AutoGluo...\n",
       "8       2               Ovaltine    2     265       0       2  ...         0  Ovaltine kisahnya sama saja dengan VICO kerana...  2b2ec33ac       2.0              0  C:\\Users\\Marcial\\Pierian-Data-Courses\\AutoGluo...\n",
       "147     1                  Simba   82     189       0       1  ...         0  I have had Simba since a puppy, a beautiful lo...  b9086e44f       3.0              0  C:\\Users\\Marcial\\Pierian-Data-Courses\\AutoGluo...\n",
       "421     2                 Mitten   10     266       0       2  ...         0  Pregnant mother.We are looking for someone to ...  534fff3cf       1.0              1  C:\\Users\\Marcial\\Pierian-Data-Courses\\AutoGluo...\n",
       "\n",
       "[5 rows x 25 columns]"
      ]
     },
     "execution_count": 29,
     "metadata": {},
     "output_type": "execute_result"
    }
   ],
   "source": [
    "train_data.head()"
   ]
  },
  {
   "cell_type": "code",
   "execution_count": 30,
   "id": "ee5a5460",
   "metadata": {},
   "outputs": [
    {
     "data": {
      "text/html": [
       "<div>\n",
       "<style scoped>\n",
       "    .dataframe tbody tr th:only-of-type {\n",
       "        vertical-align: middle;\n",
       "    }\n",
       "\n",
       "    .dataframe tbody tr th {\n",
       "        vertical-align: top;\n",
       "    }\n",
       "\n",
       "    .dataframe thead th {\n",
       "        text-align: right;\n",
       "    }\n",
       "</style>\n",
       "<table border=\"1\" class=\"dataframe\">\n",
       "  <thead>\n",
       "    <tr style=\"text-align: right;\">\n",
       "      <th></th>\n",
       "      <th>Type</th>\n",
       "      <th>Name</th>\n",
       "      <th>Age</th>\n",
       "      <th>Breed1</th>\n",
       "      <th>Breed2</th>\n",
       "      <th>Gender</th>\n",
       "      <th>Color1</th>\n",
       "      <th>Color2</th>\n",
       "      <th>Color3</th>\n",
       "      <th>MaturitySize</th>\n",
       "      <th>FurLength</th>\n",
       "      <th>Vaccinated</th>\n",
       "      <th>Dewormed</th>\n",
       "      <th>Sterilized</th>\n",
       "      <th>Health</th>\n",
       "      <th>Quantity</th>\n",
       "      <th>Fee</th>\n",
       "      <th>State</th>\n",
       "      <th>RescuerID</th>\n",
       "      <th>VideoAmt</th>\n",
       "      <th>Description</th>\n",
       "      <th>PetID</th>\n",
       "      <th>PhotoAmt</th>\n",
       "      <th>AdoptionSpeed</th>\n",
       "      <th>Images</th>\n",
       "    </tr>\n",
       "  </thead>\n",
       "  <tbody>\n",
       "    <tr>\n",
       "      <th>0</th>\n",
       "      <td>2</td>\n",
       "      <td>Yumi Hamasaki</td>\n",
       "      <td>4</td>\n",
       "      <td>292</td>\n",
       "      <td>265</td>\n",
       "      <td>2</td>\n",
       "      <td>1</td>\n",
       "      <td>5</td>\n",
       "      <td>7</td>\n",
       "      <td>2</td>\n",
       "      <td>2</td>\n",
       "      <td>1</td>\n",
       "      <td>3</td>\n",
       "      <td>2</td>\n",
       "      <td>1</td>\n",
       "      <td>1</td>\n",
       "      <td>0</td>\n",
       "      <td>41326</td>\n",
       "      <td>bcc4e1b9557a8b3aaf545ea8e6e86991</td>\n",
       "      <td>0</td>\n",
       "      <td>I rescued Yumi Hamasaki at a food stall far aw...</td>\n",
       "      <td>7d7a39d71</td>\n",
       "      <td>3.0</td>\n",
       "      <td>0</td>\n",
       "      <td>C:\\Users\\Marcial\\Pierian-Data-Courses\\AutoGluo...</td>\n",
       "    </tr>\n",
       "    <tr>\n",
       "      <th>6</th>\n",
       "      <td>2</td>\n",
       "      <td>Three Little Kittens - Tabby</td>\n",
       "      <td>3</td>\n",
       "      <td>266</td>\n",
       "      <td>299</td>\n",
       "      <td>2</td>\n",
       "      <td>2</td>\n",
       "      <td>6</td>\n",
       "      <td>0</td>\n",
       "      <td>2</td>\n",
       "      <td>1</td>\n",
       "      <td>2</td>\n",
       "      <td>2</td>\n",
       "      <td>2</td>\n",
       "      <td>1</td>\n",
       "      <td>1</td>\n",
       "      <td>0</td>\n",
       "      <td>41326</td>\n",
       "      <td>2922723f8889855551615e8d22f1e0b4</td>\n",
       "      <td>0</td>\n",
       "      <td>A mama cat (stray) recently gave birth to thre...</td>\n",
       "      <td>cb568959e</td>\n",
       "      <td>9.0</td>\n",
       "      <td>0</td>\n",
       "      <td>C:\\Users\\Marcial\\Pierian-Data-Courses\\AutoGluo...</td>\n",
       "    </tr>\n",
       "    <tr>\n",
       "      <th>12</th>\n",
       "      <td>2</td>\n",
       "      <td>(No Name - She Is Just A Stray)</td>\n",
       "      <td>4</td>\n",
       "      <td>298</td>\n",
       "      <td>0</td>\n",
       "      <td>2</td>\n",
       "      <td>4</td>\n",
       "      <td>5</td>\n",
       "      <td>7</td>\n",
       "      <td>1</td>\n",
       "      <td>1</td>\n",
       "      <td>2</td>\n",
       "      <td>2</td>\n",
       "      <td>2</td>\n",
       "      <td>2</td>\n",
       "      <td>1</td>\n",
       "      <td>0</td>\n",
       "      <td>41401</td>\n",
       "      <td>45d7d1d5298837ceeba14bb268a207d1</td>\n",
       "      <td>0</td>\n",
       "      <td>She is just a stray.. Anyone who love cat can ...</td>\n",
       "      <td>80bee180a</td>\n",
       "      <td>2.0</td>\n",
       "      <td>0</td>\n",
       "      <td>C:\\Users\\Marcial\\Pierian-Data-Courses\\AutoGluo...</td>\n",
       "    </tr>\n",
       "    <tr>\n",
       "      <th>13</th>\n",
       "      <td>1</td>\n",
       "      <td>YUMI</td>\n",
       "      <td>5</td>\n",
       "      <td>307</td>\n",
       "      <td>0</td>\n",
       "      <td>2</td>\n",
       "      <td>1</td>\n",
       "      <td>2</td>\n",
       "      <td>7</td>\n",
       "      <td>2</td>\n",
       "      <td>2</td>\n",
       "      <td>1</td>\n",
       "      <td>1</td>\n",
       "      <td>2</td>\n",
       "      <td>1</td>\n",
       "      <td>1</td>\n",
       "      <td>150</td>\n",
       "      <td>41327</td>\n",
       "      <td>9153070cde2f487d2ab65e0bd114eb1d</td>\n",
       "      <td>1</td>\n",
       "      <td>YUMI is a approx 5 month old little angel, she...</td>\n",
       "      <td>86629a3ee</td>\n",
       "      <td>2.0</td>\n",
       "      <td>0</td>\n",
       "      <td>C:\\Users\\Marcial\\Pierian-Data-Courses\\AutoGluo...</td>\n",
       "    </tr>\n",
       "    <tr>\n",
       "      <th>15</th>\n",
       "      <td>1</td>\n",
       "      <td>3 Male Black Pups</td>\n",
       "      <td>2</td>\n",
       "      <td>307</td>\n",
       "      <td>0</td>\n",
       "      <td>1</td>\n",
       "      <td>1</td>\n",
       "      <td>0</td>\n",
       "      <td>0</td>\n",
       "      <td>2</td>\n",
       "      <td>1</td>\n",
       "      <td>2</td>\n",
       "      <td>2</td>\n",
       "      <td>2</td>\n",
       "      <td>1</td>\n",
       "      <td>3</td>\n",
       "      <td>0</td>\n",
       "      <td>41326</td>\n",
       "      <td>5788b8639ed178795510a8cbe72ccc28</td>\n",
       "      <td>0</td>\n",
       "      <td>These pups have been adopted. Profile created ...</td>\n",
       "      <td>435bb3995</td>\n",
       "      <td>1.0</td>\n",
       "      <td>0</td>\n",
       "      <td>C:\\Users\\Marcial\\Pierian-Data-Courses\\AutoGluo...</td>\n",
       "    </tr>\n",
       "  </tbody>\n",
       "</table>\n",
       "</div>"
      ],
      "text/plain": [
       "    Type                             Name  Age  Breed1  Breed2  Gender  ...  VideoAmt                                        Description      PetID  PhotoAmt  AdoptionSpeed                                             Images\n",
       "0      2                    Yumi Hamasaki    4     292     265       2  ...         0  I rescued Yumi Hamasaki at a food stall far aw...  7d7a39d71       3.0              0  C:\\Users\\Marcial\\Pierian-Data-Courses\\AutoGluo...\n",
       "6      2     Three Little Kittens - Tabby    3     266     299       2  ...         0  A mama cat (stray) recently gave birth to thre...  cb568959e       9.0              0  C:\\Users\\Marcial\\Pierian-Data-Courses\\AutoGluo...\n",
       "12     2  (No Name - She Is Just A Stray)    4     298       0       2  ...         0  She is just a stray.. Anyone who love cat can ...  80bee180a       2.0              0  C:\\Users\\Marcial\\Pierian-Data-Courses\\AutoGluo...\n",
       "13     1                             YUMI    5     307       0       2  ...         1  YUMI is a approx 5 month old little angel, she...  86629a3ee       2.0              0  C:\\Users\\Marcial\\Pierian-Data-Courses\\AutoGluo...\n",
       "15     1                3 Male Black Pups    2     307       0       1  ...         0  These pups have been adopted. Profile created ...  435bb3995       1.0              0  C:\\Users\\Marcial\\Pierian-Data-Courses\\AutoGluo...\n",
       "\n",
       "[5 rows x 25 columns]"
      ]
     },
     "execution_count": 30,
     "metadata": {},
     "output_type": "execute_result"
    }
   ],
   "source": [
    "test_data.head()"
   ]
  },
  {
   "cell_type": "code",
   "execution_count": 52,
   "id": "4f6806a0",
   "metadata": {},
   "outputs": [
    {
     "name": "stdout",
     "output_type": "stream",
     "text": [
      "I rescued Yumi Hamasaki at a food stall far away in Kelantan. At that time i was on my way back to KL, she was suffer from stomach problem and looking very2 sick.. I send her to vet & get the treatment + vaccinated and right now she's very2 healthy.. About yumi : - love to sleep with ppl - she will keep on meowing if she's hugry - very2 active, always seeking for people to accompany her playing - well trained (poo+pee in her own potty) - easy to bathing - I only feed her with these brands : IAMS, Kittenbites, Pro-formance Reason why i need someone to adopt Yumi: I just married and need to move to a new house where no pets are allowed :( As Yumi is very2 special to me, i will only give her to ppl that i think could take care of her just like i did (especially on her foods things)..\n"
     ]
    }
   ],
   "source": [
    "print(test_data['Description'][0])"
   ]
  },
  {
   "cell_type": "code",
   "execution_count": 31,
   "id": "8dd7792d",
   "metadata": {},
   "outputs": [],
   "source": [
    "label_col = 'AdoptionSpeed'"
   ]
  },
  {
   "cell_type": "markdown",
   "id": "fa6efe93",
   "metadata": {},
   "source": [
    "## Training Multi-Modal Predictor\n",
    "\n",
    "We'll put a cut-off time limit, since this will take hours if we dont!\n",
    "\n",
    "Note that this will download the SwinTransformer model if you haven't downloaded it already from a previous training run."
   ]
  },
  {
   "cell_type": "code",
   "execution_count": 32,
   "id": "4bf9733f",
   "metadata": {},
   "outputs": [],
   "source": [
    "from autogluon.multimodal import MultiModalPredictor"
   ]
  },
  {
   "cell_type": "code",
   "execution_count": 33,
   "id": "279631ac",
   "metadata": {},
   "outputs": [
    {
     "name": "stderr",
     "output_type": "stream",
     "text": [
      "Global seed set to 123\n",
      "No path specified. Models will be saved in: \"AutogluonModels\\ag-20230405_232059\\\"\n",
      "AutoMM starts to create your model. ✨\n",
      "\n",
      "- Model will be saved to \"C:\\Users\\Marcial\\Pierian-Data-Courses\\AutoGluon-Course\\01-Multi-Modal\\AutogluonModels\\ag-20230405_232059\".\n",
      "\n",
      "- Validation metric is \"roc_auc\".\n",
      "\n",
      "- To track the learning progress, you can open a terminal and launch Tensorboard:\n",
      "    ```shell\n",
      "    # Assume you have installed tensorboard\n",
      "    tensorboard --logdir C:\\Users\\Marcial\\Pierian-Data-Courses\\AutoGluon-Course\\01-Multi-Modal\\AutogluonModels\\ag-20230405_232059\n",
      "    ```\n",
      "\n",
      "Enjoy your coffee, and let AutoMM do the job ☕☕☕ Learn more at https://auto.gluon.ai\n",
      "\n",
      "C:\\Users\\Marcial\\AppData\\Roaming\\Python\\Python39\\site-packages\\torch\\functional.py:504: UserWarning: torch.meshgrid: in an upcoming release, it will be required to pass the indexing argument. (Triggered internally at C:\\actions-runner\\_work\\pytorch\\pytorch\\builder\\windows\\pytorch\\aten\\src\\ATen\\native\\TensorShape.cpp:3191.)\n",
      "  return _VF.meshgrid(tensors, **kwargs)  # type: ignore[attr-defined]\n",
      "Downloading: \"https://github.com/SwinTransformer/storage/releases/download/v1.0.0/swin_base_patch4_window7_224_22kto1k.pth\" to C:\\Users\\Marcial/.cache\\torch\\hub\\checkpoints\\swin_base_patch4_window7_224_22kto1k.pth\n",
      "C:\\Users\\Marcial\\AppData\\Roaming\\Python\\Python39\\site-packages\\torchmetrics\\utilities\\prints.py:36: UserWarning: Metric `AUROC` will save all targets and predictions in buffer. For large datasets this may lead to large memory footprint.\n",
      "  warnings.warn(*args, **kwargs)\n",
      "C:\\Users\\Marcial\\AppData\\Roaming\\Python\\Python39\\site-packages\\autogluon\\multimodal\\utils\\environment.py:93: UserWarning: Only CPU is detected in the instance. This may result in slow speed for MultiModalPredictor. Consider using an instance with GPU support.\n",
      "  warnings.warn(\n",
      "GPU available: False, used: False\n",
      "TPU available: False, using: 0 TPU cores\n",
      "IPU available: False, using: 0 IPUs\n",
      "HPU available: False, using: 0 HPUs\n",
      "\n",
      "  | Name              | Type                | Params\n",
      "----------------------------------------------------------\n",
      "0 | model             | MultimodalFusionMLP | 198 M \n",
      "1 | validation_metric | AUROC               | 0     \n",
      "2 | loss_func         | CrossEntropyLoss    | 0     \n",
      "----------------------------------------------------------\n",
      "198 M     Trainable params\n",
      "0         Non-trainable params\n",
      "198 M     Total params\n",
      "792.034   Total estimated model params size (MB)\n"
     ]
    },
    {
     "data": {
      "application/json": {
       "ascii": false,
       "bar_format": null,
       "colour": null,
       "elapsed": 0.02395176887512207,
       "initial": 0,
       "n": 0,
       "ncols": 228,
       "nrows": 42,
       "postfix": null,
       "prefix": "Sanity Checking",
       "rate": null,
       "total": null,
       "unit": "it",
       "unit_divisor": 1000,
       "unit_scale": false
      },
      "application/vnd.jupyter.widget-view+json": {
       "model_id": "",
       "version_major": 2,
       "version_minor": 0
      },
      "text/plain": [
       "Sanity Checking: 0it [00:00, ?it/s]"
      ]
     },
     "metadata": {},
     "output_type": "display_data"
    },
    {
     "data": {
      "application/json": {
       "ascii": false,
       "bar_format": null,
       "colour": null,
       "elapsed": 0.03158831596374512,
       "initial": 0,
       "n": 0,
       "ncols": 228,
       "nrows": 42,
       "postfix": null,
       "prefix": "Training",
       "rate": null,
       "total": null,
       "unit": "it",
       "unit_divisor": 1000,
       "unit_scale": false
      },
      "application/vnd.jupyter.widget-view+json": {
       "model_id": "c37e1812ebb54e9ebd31184d12dca3a8",
       "version_major": 2,
       "version_minor": 0
      },
      "text/plain": [
       "Training: 0it [00:00, ?it/s]"
      ]
     },
     "metadata": {},
     "output_type": "display_data"
    },
    {
     "data": {
      "application/json": {
       "ascii": false,
       "bar_format": null,
       "colour": null,
       "elapsed": 0.023936748504638672,
       "initial": 0,
       "n": 0,
       "ncols": 228,
       "nrows": 42,
       "postfix": null,
       "prefix": "Validation",
       "rate": null,
       "total": null,
       "unit": "it",
       "unit_divisor": 1000,
       "unit_scale": false
      },
      "application/vnd.jupyter.widget-view+json": {
       "model_id": "",
       "version_major": 2,
       "version_minor": 0
      },
      "text/plain": [
       "Validation: 0it [00:00, ?it/s]"
      ]
     },
     "metadata": {},
     "output_type": "display_data"
    },
    {
     "name": "stderr",
     "output_type": "stream",
     "text": [
      "Epoch 0, global step 1: 'val_roc_auc' reached 0.50933 (best 0.50933), saving model to 'C:\\\\Users\\\\Marcial\\\\Pierian-Data-Courses\\\\AutoGluon-Course\\\\01-Multi-Modal\\\\AutogluonModels\\\\ag-20230405_232059\\\\epoch=0-step=1.ckpt' as top 3\n"
     ]
    },
    {
     "data": {
      "application/json": {
       "ascii": false,
       "bar_format": null,
       "colour": null,
       "elapsed": 0.02792644500732422,
       "initial": 0,
       "n": 0,
       "ncols": 228,
       "nrows": 42,
       "postfix": null,
       "prefix": "Validation",
       "rate": null,
       "total": null,
       "unit": "it",
       "unit_divisor": 1000,
       "unit_scale": false
      },
      "application/vnd.jupyter.widget-view+json": {
       "model_id": "",
       "version_major": 2,
       "version_minor": 0
      },
      "text/plain": [
       "Validation: 0it [00:00, ?it/s]"
      ]
     },
     "metadata": {},
     "output_type": "display_data"
    },
    {
     "name": "stderr",
     "output_type": "stream",
     "text": [
      "Epoch 0, global step 4: 'val_roc_auc' reached 0.65414 (best 0.65414), saving model to 'C:\\\\Users\\\\Marcial\\\\Pierian-Data-Courses\\\\AutoGluon-Course\\\\01-Multi-Modal\\\\AutogluonModels\\\\ag-20230405_232059\\\\epoch=0-step=4.ckpt' as top 3\n",
      "Time limit reached. Elapsed time is 0:15:23. Signaling Trainer to stop.\n"
     ]
    },
    {
     "data": {
      "application/json": {
       "ascii": false,
       "bar_format": null,
       "colour": null,
       "elapsed": 0.026927947998046875,
       "initial": 0,
       "n": 0,
       "ncols": 228,
       "nrows": 42,
       "postfix": null,
       "prefix": "Validation",
       "rate": null,
       "total": null,
       "unit": "it",
       "unit_divisor": 1000,
       "unit_scale": false
      },
      "application/vnd.jupyter.widget-view+json": {
       "model_id": "",
       "version_major": 2,
       "version_minor": 0
      },
      "text/plain": [
       "Validation: 0it [00:00, ?it/s]"
      ]
     },
     "metadata": {},
     "output_type": "display_data"
    },
    {
     "name": "stderr",
     "output_type": "stream",
     "text": [
      "Epoch 1, global step 4: 'val_roc_auc' reached 0.65414 (best 0.65414), saving model to 'C:\\\\Users\\\\Marcial\\\\Pierian-Data-Courses\\\\AutoGluon-Course\\\\01-Multi-Modal\\\\AutogluonModels\\\\ag-20230405_232059\\\\epoch=1-step=4.ckpt' as top 3\n",
      "Start to fuse 3 checkpoints via the greedy soup algorithm.\n"
     ]
    },
    {
     "data": {
      "application/json": {
       "ascii": false,
       "bar_format": null,
       "colour": null,
       "elapsed": 0.025929927825927734,
       "initial": 0,
       "n": 0,
       "ncols": 228,
       "nrows": 42,
       "postfix": null,
       "prefix": "Predicting",
       "rate": null,
       "total": null,
       "unit": "it",
       "unit_divisor": 1000,
       "unit_scale": false
      },
      "application/vnd.jupyter.widget-view+json": {
       "model_id": "9001959accee4133b703179bdffbb08e",
       "version_major": 2,
       "version_minor": 0
      },
      "text/plain": [
       "Predicting: 0it [00:00, ?it/s]"
      ]
     },
     "metadata": {},
     "output_type": "display_data"
    },
    {
     "data": {
      "application/json": {
       "ascii": false,
       "bar_format": null,
       "colour": null,
       "elapsed": 0.024934053421020508,
       "initial": 0,
       "n": 0,
       "ncols": 228,
       "nrows": 42,
       "postfix": null,
       "prefix": "Predicting",
       "rate": null,
       "total": null,
       "unit": "it",
       "unit_divisor": 1000,
       "unit_scale": false
      },
      "application/vnd.jupyter.widget-view+json": {
       "model_id": "e97e8835a55c4ba6ab0c8a847a26ef76",
       "version_major": 2,
       "version_minor": 0
      },
      "text/plain": [
       "Predicting: 0it [00:00, ?it/s]"
      ]
     },
     "metadata": {},
     "output_type": "display_data"
    },
    {
     "data": {
      "application/json": {
       "ascii": false,
       "bar_format": null,
       "colour": null,
       "elapsed": 0.027927160263061523,
       "initial": 0,
       "n": 0,
       "ncols": 228,
       "nrows": 42,
       "postfix": null,
       "prefix": "Predicting",
       "rate": null,
       "total": null,
       "unit": "it",
       "unit_divisor": 1000,
       "unit_scale": false
      },
      "application/vnd.jupyter.widget-view+json": {
       "model_id": "49ef8d42c6c14440a3b2200a5215050f",
       "version_major": 2,
       "version_minor": 0
      },
      "text/plain": [
       "Predicting: 0it [00:00, ?it/s]"
      ]
     },
     "metadata": {},
     "output_type": "display_data"
    },
    {
     "name": "stderr",
     "output_type": "stream",
     "text": [
      "AutoMM has created your model 🎉🎉🎉\n",
      "\n",
      "- To load the model, use the code below:\n",
      "    ```python\n",
      "    from autogluon.multimodal import MultiModalPredictor\n",
      "    predictor = MultiModalPredictor.load(\"C:\\Users\\Marcial\\Pierian-Data-Courses\\AutoGluon-Course\\01-Multi-Modal\\AutogluonModels\\ag-20230405_232059\")\n",
      "    ```\n",
      "\n",
      "- You can open a terminal and launch Tensorboard to visualize the training log:\n",
      "    ```shell\n",
      "    # Assume you have installed tensorboard\n",
      "    tensorboard --logdir C:\\Users\\Marcial\\Pierian-Data-Courses\\AutoGluon-Course\\01-Multi-Modal\\AutogluonModels\\ag-20230405_232059\n",
      "    ```\n",
      "\n",
      "- If you are not satisfied with the model, try to increase the training time, \n",
      "adjust the hyperparameters (https://auto.gluon.ai/stable/tutorials/multimodal/advanced_topics/customization.html),\n",
      "or post issues on GitHub: https://github.com/autogluon/autogluon\n",
      "\n",
      "\n"
     ]
    },
    {
     "data": {
      "text/plain": [
       "<autogluon.multimodal.predictor.MultiModalPredictor at 0x2241c120940>"
      ]
     },
     "execution_count": 33,
     "metadata": {},
     "output_type": "execute_result"
    }
   ],
   "source": [
    "predictor = MultiModalPredictor(label=label_col)\n",
    "predictor.fit(\n",
    "    train_data=train_data,\n",
    "    time_limit=15*60, # seconds\n",
    ")"
   ]
  },
  {
   "cell_type": "markdown",
   "id": "873c21d3",
   "metadata": {},
   "source": [
    "## Evaluation and Predictions"
   ]
  },
  {
   "cell_type": "code",
   "execution_count": 34,
   "id": "1529dba1",
   "metadata": {},
   "outputs": [
    {
     "data": {
      "application/json": {
       "ascii": false,
       "bar_format": null,
       "colour": null,
       "elapsed": 0.02991962432861328,
       "initial": 0,
       "n": 0,
       "ncols": 228,
       "nrows": 42,
       "postfix": null,
       "prefix": "Predicting",
       "rate": null,
       "total": null,
       "unit": "it",
       "unit_divisor": 1000,
       "unit_scale": false
      },
      "application/vnd.jupyter.widget-view+json": {
       "model_id": "39a7a5d486994ae0b3d5b89a69a2b9de",
       "version_major": 2,
       "version_minor": 0
      },
      "text/plain": [
       "Predicting: 0it [00:00, ?it/s]"
      ]
     },
     "metadata": {},
     "output_type": "display_data"
    },
    {
     "data": {
      "text/plain": [
       "{'roc_auc': 0.6196775527077305, 'acc': 0.62, 'f1': 0.703125}"
      ]
     },
     "execution_count": 34,
     "metadata": {},
     "output_type": "execute_result"
    }
   ],
   "source": [
    "scores = predictor.evaluate(test_data, metrics=[\"roc_auc\",\"acc\",'f1'])\n",
    "scores"
   ]
  },
  {
   "cell_type": "markdown",
   "id": "eccb8df0",
   "metadata": {},
   "source": [
    "Predict on a few test examples:"
   ]
  },
  {
   "cell_type": "code",
   "execution_count": 35,
   "id": "c11a8606",
   "metadata": {},
   "outputs": [
    {
     "data": {
      "text/plain": [
       "0     0\n",
       "6     0\n",
       "12    1\n",
       "13    1\n",
       "15    0\n",
       "Name: AdoptionSpeed, dtype: int64"
      ]
     },
     "execution_count": 35,
     "metadata": {},
     "output_type": "execute_result"
    }
   ],
   "source": [
    "first_five_test_features = test_data.drop(columns=label_col)[:5]\n",
    "predictions = predictor.predict(first_five_test_features)\n",
    "predictions"
   ]
  },
  {
   "cell_type": "markdown",
   "id": "3e1ef805",
   "metadata": {},
   "source": [
    "Just like before, we can also do probabilities:"
   ]
  },
  {
   "cell_type": "code",
   "execution_count": 36,
   "id": "9dadf9ae",
   "metadata": {},
   "outputs": [
    {
     "data": {
      "text/html": [
       "<div>\n",
       "<style scoped>\n",
       "    .dataframe tbody tr th:only-of-type {\n",
       "        vertical-align: middle;\n",
       "    }\n",
       "\n",
       "    .dataframe tbody tr th {\n",
       "        vertical-align: top;\n",
       "    }\n",
       "\n",
       "    .dataframe thead th {\n",
       "        text-align: right;\n",
       "    }\n",
       "</style>\n",
       "<table border=\"1\" class=\"dataframe\">\n",
       "  <thead>\n",
       "    <tr style=\"text-align: right;\">\n",
       "      <th></th>\n",
       "      <th>0</th>\n",
       "      <th>1</th>\n",
       "    </tr>\n",
       "  </thead>\n",
       "  <tbody>\n",
       "    <tr>\n",
       "      <th>0</th>\n",
       "      <td>0.770758</td>\n",
       "      <td>0.229242</td>\n",
       "    </tr>\n",
       "    <tr>\n",
       "      <th>6</th>\n",
       "      <td>0.662228</td>\n",
       "      <td>0.337772</td>\n",
       "    </tr>\n",
       "    <tr>\n",
       "      <th>12</th>\n",
       "      <td>0.465739</td>\n",
       "      <td>0.534261</td>\n",
       "    </tr>\n",
       "    <tr>\n",
       "      <th>13</th>\n",
       "      <td>0.306018</td>\n",
       "      <td>0.693982</td>\n",
       "    </tr>\n",
       "    <tr>\n",
       "      <th>15</th>\n",
       "      <td>0.523368</td>\n",
       "      <td>0.476632</td>\n",
       "    </tr>\n",
       "  </tbody>\n",
       "</table>\n",
       "</div>"
      ],
      "text/plain": [
       "           0         1\n",
       "0   0.770758  0.229242\n",
       "6   0.662228  0.337772\n",
       "12  0.465739  0.534261\n",
       "13  0.306018  0.693982\n",
       "15  0.523368  0.476632"
      ]
     },
     "execution_count": 36,
     "metadata": {},
     "output_type": "execute_result"
    }
   ],
   "source": [
    "first_five_test_features = test_data.drop(columns=label_col)[:5]\n",
    "predictions = predictor.predict_proba(first_five_test_features)\n",
    "predictions"
   ]
  }
 ],
 "metadata": {
  "kernelspec": {
   "display_name": "Python 3 (ipykernel)",
   "language": "python",
   "name": "python3"
  },
  "language_info": {
   "codemirror_mode": {
    "name": "ipython",
    "version": 3
   },
   "file_extension": ".py",
   "mimetype": "text/x-python",
   "name": "python",
   "nbconvert_exporter": "python",
   "pygments_lexer": "ipython3",
   "version": "3.9.12"
  }
 },
 "nbformat": 4,
 "nbformat_minor": 5
}
