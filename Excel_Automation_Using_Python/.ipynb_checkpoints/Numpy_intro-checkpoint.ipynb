{
 "cells": [
  {
   "cell_type": "code",
   "execution_count": 1,
   "id": "5157a120-8272-44aa-ae07-dba18ab899db",
   "metadata": {},
   "outputs": [],
   "source": [
    "import numpy as np"
   ]
  },
  {
   "cell_type": "code",
   "execution_count": 5,
   "id": "c04e0157-d31d-4f06-a9b6-93863a54a167",
   "metadata": {},
   "outputs": [
    {
     "data": {
      "text/plain": [
       "[1, 2, 3, 4, 1, 2, 3, 4, 1, 2, 3, 4]"
      ]
     },
     "execution_count": 5,
     "metadata": {},
     "output_type": "execute_result"
    }
   ],
   "source": [
    "arr_python = [1,2,3,4]\n",
    "arr_python*3 # Performs list multiplication"
   ]
  },
  {
   "cell_type": "code",
   "execution_count": 7,
   "id": "5d514075-87ee-4926-a13d-31614b46629f",
   "metadata": {},
   "outputs": [
    {
     "data": {
      "text/plain": [
       "array([ 3,  6,  9, 12])"
      ]
     },
     "execution_count": 7,
     "metadata": {},
     "output_type": "execute_result"
    }
   ],
   "source": [
    "arr_numpy = np.array([1,2,3,4]) \n",
    "arr_numpy*3 # Performs elementwise multiplication"
   ]
  },
  {
   "cell_type": "code",
   "execution_count": 9,
   "id": "c4e98237-4205-48c7-8d6c-055feaed23a2",
   "metadata": {},
   "outputs": [
    {
     "data": {
      "text/plain": [
       "(array([0., 0., 0., 0.]), array([1., 1., 1., 1.]))"
      ]
     },
     "execution_count": 9,
     "metadata": {},
     "output_type": "execute_result"
    }
   ],
   "source": [
    "zero_array = np.zeros(4)\n",
    "one_array = np.ones(4)\n",
    "zero_array , one_array"
   ]
  },
  {
   "cell_type": "code",
   "execution_count": 14,
   "id": "2f350051-8596-475d-98c6-f3d343f4c7de",
   "metadata": {},
   "outputs": [
    {
     "data": {
      "text/plain": [
       "array([1., 2., 3., 4.])"
      ]
     },
     "execution_count": 14,
     "metadata": {},
     "output_type": "execute_result"
    }
   ],
   "source": [
    "spaced_array = np.linspace(1,4,4) # (start, stop, no of elts in bw)\n",
    "spaced_array"
   ]
  },
  {
   "cell_type": "code",
   "execution_count": 16,
   "id": "f68dc058-c866-4587-93ef-4302885ca9f2",
   "metadata": {},
   "outputs": [
    {
     "data": {
      "text/plain": [
       "array([ 6,  3,  3, 12])"
      ]
     },
     "execution_count": 16,
     "metadata": {},
     "output_type": "execute_result"
    }
   ],
   "source": [
    "random_array = np.random.randint(1,13,4)\n",
    "random_array"
   ]
  },
  {
   "cell_type": "code",
   "execution_count": 20,
   "id": "17e4ecea-9a63-40ea-982f-96ed9fdcd1f4",
   "metadata": {},
   "outputs": [
    {
     "data": {
      "text/plain": [
       "[6, 3, 3, 12]"
      ]
     },
     "execution_count": 20,
     "metadata": {},
     "output_type": "execute_result"
    }
   ],
   "source": [
    "# To convert a numpy array into a normal python array use this function\n",
    "python_array = random_array.tolist()\n",
    "python_array"
   ]
  },
  {
   "cell_type": "code",
   "execution_count": null,
   "id": "a0c30f2b-c680-4e56-86b5-201fd34e380b",
   "metadata": {},
   "outputs": [],
   "source": [
    "    "
   ]
  }
 ],
 "metadata": {
  "kernelspec": {
   "display_name": "Python 3 (ipykernel)",
   "language": "python",
   "name": "python3"
  },
  "language_info": {
   "codemirror_mode": {
    "name": "ipython",
    "version": 3
   },
   "file_extension": ".py",
   "mimetype": "text/x-python",
   "name": "python",
   "nbconvert_exporter": "python",
   "pygments_lexer": "ipython3",
   "version": "3.12.3"
  }
 },
 "nbformat": 4,
 "nbformat_minor": 5
}
