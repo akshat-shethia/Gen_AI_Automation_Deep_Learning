{
 "cells": [
  {
   "cell_type": "code",
   "execution_count": 1,
   "metadata": {},
   "outputs": [
    {
     "data": {
      "text/plain": [
       "True"
      ]
     },
     "execution_count": 1,
     "metadata": {},
     "output_type": "execute_result"
    }
   ],
   "source": [
    "from dotenv import load_dotenv, find_dotenv\n",
    "load_dotenv(find_dotenv(), override = True)"
   ]
  },
  {
   "cell_type": "markdown",
   "metadata": {},
   "source": [
    "## Implementing a ChatGPT App with LangChain from Scratch"
   ]
  },
  {
   "cell_type": "code",
   "execution_count": 2,
   "metadata": {},
   "outputs": [
    {
     "name": "stderr",
     "output_type": "stream",
     "text": [
      "C:\\Users\\Akshat Shethia\\AppData\\Local\\Temp\\ipykernel_8276\\803303118.py:21: LangChainDeprecationWarning: The class `LLMChain` was deprecated in LangChain 0.1.17 and will be removed in 1.0. Use RunnableSequence, e.g., `prompt | llm` instead.\n",
      "  chain = LLMChain(\n"
     ]
    },
    {
     "name": "stdout",
     "output_type": "stream",
     "text": [
      "\n",
      "\n",
      "\u001b[1m> Entering new LLMChain chain...\u001b[0m\n",
      "Prompt after formatting:\n",
      "\u001b[32;1m\u001b[1;3mSystem: You are a chatbot having a conversation with a human.\n",
      "Human: \u001b[0m\n",
      "\n",
      "\u001b[1m> Finished chain.\u001b[0m\n",
      "{'content': '', 'text': 'Hello! How can I assist you today?'}\n",
      "--------------------------------------------------\n",
      "\n",
      "\n",
      "\u001b[1m> Entering new LLMChain chain...\u001b[0m\n",
      "Prompt after formatting:\n",
      "\u001b[32;1m\u001b[1;3mSystem: You are a chatbot having a conversation with a human.\n",
      "Human: India is a ..\u001b[0m\n",
      "\n",
      "\u001b[1m> Finished chain.\u001b[0m\n",
      "{'content': 'India is a ..', 'text': \"India is a diverse and vibrant country located in South Asia. It is known for its rich history, cultural heritage, and a multitude of languages, religions, and traditions. With a population of over a billion people, India is the world's most populous democracy. The country has a mixed economy, characterized by agriculture, manufacturing, and services, and is one of the largest economies in the world. India is also famous for its contributions to art, music, dance, and cuisine, as well as its scenic landscapes ranging from the Himalayan mountains to coastal regions. What specific aspect of India are you interested in?\"}\n",
      "--------------------------------------------------\n",
      "\n",
      "\n",
      "\u001b[1m> Entering new LLMChain chain...\u001b[0m\n",
      "Prompt after formatting:\n",
      "\u001b[32;1m\u001b[1;3mSystem: You are a chatbot having a conversation with a human.\n",
      "Human: India is a...\u001b[0m\n",
      "\n",
      "\u001b[1m> Finished chain.\u001b[0m\n",
      "{'content': 'India is a...', 'text': \"India is a diverse and vibrant country located in South Asia. It is known for its rich history, cultural heritage, and geographical diversity. India is the world's second-most populous country and comprises a multitude of languages, religions, and traditions. It has a rapidly growing economy and plays a significant role on the global stage. From its ancient civilizations and traditional practices to its modern technological advancements, India presents a fascinating blend of the old and the new. Is there a specific aspect of India you're interested in discussing?\"}\n",
      "--------------------------------------------------\n",
      "Goodbye!\n"
     ]
    }
   ],
   "source": [
    "from langchain_openai import ChatOpenAI\n",
    "from langchain.schema import SystemMessage\n",
    "from langchain.chains import LLMChain\n",
    "from langchain.prompts import ChatPromptTemplate, HumanMessagePromptTemplate\n",
    "\n",
    "\n",
    "llm = ChatOpenAI(model_name='gpt-4o-mini', temperature=1)\n",
    "\n",
    "prompt = ChatPromptTemplate(\n",
    "    input_variables=[\"content\"],\n",
    "    messages=[\n",
    "#         SystemMessage(content=\"You respond only in German.\"),\n",
    "        SystemMessage(content='You are a chatbot having a conversation with a human.'),\n",
    "        HumanMessagePromptTemplate.from_template(\"{content}\")\n",
    "    ]\n",
    ")\n",
    "\n",
    "chain = LLMChain(\n",
    "    llm=llm,\n",
    "    prompt=prompt,\n",
    "    verbose=True\n",
    ")\n",
    "\n",
    "while True:\n",
    "    content = input('Your prompt: ')\n",
    "    if content.lower() in ['quit', 'exit', 'bye']:\n",
    "        print('Goodbye!')\n",
    "        break\n",
    "    \n",
    "    response = chain.invoke({'content': content})\n",
    "    print(response)\n",
    "    print('-' * 50)"
   ]
  },
  {
   "cell_type": "markdown",
   "metadata": {},
   "source": [
    "## Adding Chat Memory Using ConversationBufferMemory"
   ]
  },
  {
   "cell_type": "code",
   "execution_count": 5,
   "metadata": {},
   "outputs": [
    {
     "name": "stdout",
     "output_type": "stream",
     "text": [
      "\n",
      "\n",
      "\u001b[1m> Entering new LLMChain chain...\u001b[0m\n",
      "Prompt after formatting:\n",
      "\u001b[32;1m\u001b[1;3mSystem: You are a chatbot having a conversation with a human.\n",
      "Human: Earth's Diameter is ?\u001b[0m\n",
      "\n",
      "\u001b[1m> Finished chain.\u001b[0m\n",
      "{'content': \"Earth's Diameter is ?\", 'chat_history': [HumanMessage(content=\"Earth's Diameter is ?\"), AIMessage(content=\"The average diameter of Earth is about 12,742 kilometers (7,918 miles). However, this can vary slightly depending on whether you're measuring the equatorial diameter or the polar diameter. The equatorial diameter is approximately 12,756 kilometers (7,926 miles), while the polar diameter is about 12,714 kilometers (7,900 miles), due to the Earth's slightly oblate shape.\")], 'text': \"The average diameter of Earth is about 12,742 kilometers (7,918 miles). However, this can vary slightly depending on whether you're measuring the equatorial diameter or the polar diameter. The equatorial diameter is approximately 12,756 kilometers (7,926 miles), while the polar diameter is about 12,714 kilometers (7,900 miles), due to the Earth's slightly oblate shape.\"}\n",
      "--------------------------------------------------\n",
      "\n",
      "\n",
      "\u001b[1m> Entering new LLMChain chain...\u001b[0m\n",
      "Prompt after formatting:\n",
      "\u001b[32;1m\u001b[1;3mSystem: You are a chatbot having a conversation with a human.\n",
      "Human: Earth's Diameter is ?\n",
      "AI: The average diameter of Earth is about 12,742 kilometers (7,918 miles). However, this can vary slightly depending on whether you're measuring the equatorial diameter or the polar diameter. The equatorial diameter is approximately 12,756 kilometers (7,926 miles), while the polar diameter is about 12,714 kilometers (7,900 miles), due to the Earth's slightly oblate shape.\n",
      "Human: and its weight is ??\u001b[0m\n",
      "\n",
      "\u001b[1m> Finished chain.\u001b[0m\n",
      "{'content': 'and its weight is ??', 'chat_history': [HumanMessage(content=\"Earth's Diameter is ?\"), AIMessage(content=\"The average diameter of Earth is about 12,742 kilometers (7,918 miles). However, this can vary slightly depending on whether you're measuring the equatorial diameter or the polar diameter. The equatorial diameter is approximately 12,756 kilometers (7,926 miles), while the polar diameter is about 12,714 kilometers (7,900 miles), due to the Earth's slightly oblate shape.\"), HumanMessage(content='and its weight is ??'), AIMessage(content='The mass of Earth is approximately \\\\(5.97 \\\\times 10^{24}\\\\) kilograms (about 1.32 × 10²⁵ pounds). While we often refer to \"weight,\" in the context of celestial bodies, we typically talk about mass, which is a measure of the amount of matter in an object. Weight, in the gravitational sense, would depend on the gravitational field strength and is not usually specified for planets.')], 'text': 'The mass of Earth is approximately \\\\(5.97 \\\\times 10^{24}\\\\) kilograms (about 1.32 × 10²⁵ pounds). While we often refer to \"weight,\" in the context of celestial bodies, we typically talk about mass, which is a measure of the amount of matter in an object. Weight, in the gravitational sense, would depend on the gravitational field strength and is not usually specified for planets.'}\n",
      "--------------------------------------------------\n",
      "Goodbye!\n"
     ]
    }
   ],
   "source": [
    "from langchain_openai import ChatOpenAI\n",
    "from langchain.schema import SystemMessage\n",
    "from langchain.chains import LLMChain\n",
    "from langchain.prompts import ChatPromptTemplate, HumanMessagePromptTemplate, MessagesPlaceholder\n",
    "from langchain.memory import ConversationBufferMemory\n",
    "\n",
    "llm = ChatOpenAI(model_name='gpt-4o-mini', temperature=1)\n",
    "\n",
    "memory = ConversationBufferMemory(\n",
    "    memory_key = \"chat_history\",\n",
    "    return_messages = True\n",
    ")\n",
    "\n",
    "\n",
    "prompt = ChatPromptTemplate(\n",
    "    input_variables=[\"content\", \"chat_history\"],\n",
    "    messages=[\n",
    "#         SystemMessage(content=\"You respond only in German.\"),\n",
    "        SystemMessage(content='You are a chatbot having a conversation with a human.'),\n",
    "        MessagesPlaceholder(variable_name = \"chat_history\"), # Memory Will Be Stored Here\n",
    "        HumanMessagePromptTemplate.from_template(\"{content}\")\n",
    "    ]\n",
    ")\n",
    "\n",
    "chain = LLMChain(\n",
    "    llm=llm,\n",
    "    prompt=prompt,\n",
    "    memory = memory,\n",
    "    verbose=True\n",
    ")\n",
    "\n",
    "while True:\n",
    "    content = input('Your prompt: ')\n",
    "    if content.lower() in ['quit', 'exit', 'bye']:\n",
    "        print('Goodbye!')\n",
    "        break\n",
    "    \n",
    "    response = chain.invoke({'content': content})\n",
    "    print(response)\n",
    "    print('-' * 50)"
   ]
  },
  {
   "cell_type": "markdown",
   "metadata": {},
   "source": [
    "## Saving Chat Sessions"
   ]
  },
  {
   "cell_type": "code",
   "execution_count": 10,
   "metadata": {},
   "outputs": [
    {
     "name": "stdout",
     "output_type": "stream",
     "text": [
      "{'content': 'whats my name?', 'chat_history': [HumanMessage(content='Whats the speed of light?'), AIMessage(content=\"The speed of light in a vacuum is approximately 299,792 kilometers per second (or about 186,282 miles per second). In scientific notation, it's often rounded to \\\\(3.00 \\\\times 10^8\\\\) meters per second.\"), HumanMessage(content='whats the speed of light in vaccuum?'), AIMessage(content='The speed of light in a vacuum is approximately 299,792 kilometers per second (about 186,282 miles per second). This value is often represented in scientific notation as \\\\(3.00 \\\\times 10^8\\\\) meters per second.'), HumanMessage(content='whats its spped in a solid like ice?'), AIMessage(content=\"The speed of light in a solid, like ice, is slower than in a vacuum due to the medium's refractive index. For ice, the refractive index is about 1.31. To find the speed of light in ice, you can divide the speed of light in a vacuum by the refractive index:\\n\\n\\\\[\\n\\\\text{Speed of light in ice} = \\\\frac{\\\\text{Speed of light in vacuum}}{\\\\text{Refractive index of ice}} \\\\approx \\\\frac{299,792 \\\\text{ km/s}}{1.31} \\\\approx 229,000 \\\\text{ km/s}\\n\\\\]\\n\\nSo, light travels in ice at approximately 229,000 kilometers per second.\"), HumanMessage(content='list all the questions that ive asked till now'), AIMessage(content='Here are the questions you\\'ve asked so far:\\n\\n1. \"Whats the speed of light?\"\\n2. \"Whats the speed of light in vacuum?\"\\n3. \"Whats its speed in a solid like ice?\" \\n\\nIf you have more questions or need further information, feel free to ask!'), HumanMessage(content='list all the questions that ive asked til now '), AIMessage(content='Sure! Here are all the questions you\\'ve asked so far:\\n\\n1. \"Whats the speed of light?\"\\n2. \"Whats the speed of light in vacuum?\"\\n3. \"Whats its speed in a solid like ice?\"\\n4. \"List all the questions that I\\'ve asked till now.\"\\n5. \"List all the questions that I\\'ve asked til now.\"\\n\\nIf you have more questions or anything else you\\'d like to know, just let me know!'), HumanMessage(content='list all the questions that ive asked til now '), AIMessage(content='Here are all the questions you\\'ve asked so far:\\n\\n1. \"Whats the speed of light?\"\\n2. \"Whats the speed of light in vacuum?\"\\n3. \"Whats its speed in a solid like ice?\"\\n4. \"List all the questions that I\\'ve asked till now.\"\\n5. \"List all the questions that I\\'ve asked til now.\"\\n6. \"List all the questions that I\\'ve asked til now.\" (repeated)\\n\\nIf you have any more questions or need further assistance, feel free to ask!'), HumanMessage(content='list all the questions that ive asked til now '), AIMessage(content='Here are all the questions you\\'ve asked:\\n\\n1. \"Whats the speed of light?\"\\n2. \"Whats the speed of light in vacuum?\"\\n3. \"Whats its speed in a solid like ice?\"\\n4. \"List all the questions that I\\'ve asked till now.\"\\n5. \"List all the questions that I\\'ve asked til now.\"\\n6. \"List all the questions that I\\'ve asked til now.\" (repeated)\\n\\nIf you have any additional questions or need further information, feel free to ask!')], 'text': \"I don't have access to your personal information, including your name, unless you provide it during our conversation. If you'd like to share your name or any other information, feel free!\"}\n",
      "--------------------------------------------------\n",
      "Goodbye!\n"
     ]
    }
   ],
   "source": [
    "from langchain_openai import ChatOpenAI\n",
    "from langchain.schema import SystemMessage\n",
    "from langchain.chains import LLMChain\n",
    "\n",
    "# 1. Import FileChatMessageHistory\n",
    "from langchain.memory import ConversationBufferMemory, FileChatMessageHistory\n",
    "\n",
    "from langchain.prompts import ChatPromptTemplate, HumanMessagePromptTemplate, MessagesPlaceholder\n",
    "\n",
    "llm = ChatOpenAI(model_name='gpt-4o-mini', temperature=1)\n",
    "\n",
    "# 2. Add an additional keyword argument to the ConversationBufferMemory() constructor\n",
    "history = FileChatMessageHistory('chat_history.json')\n",
    "memory = ConversationBufferMemory(\n",
    "    memory_key='chat_history',\n",
    "    chat_memory=history,\n",
    "    return_messages=True\n",
    ")\n",
    "\n",
    "prompt = ChatPromptTemplate(\n",
    "    input_variables=[\"content\", \"chat_history\"],\n",
    "    messages=[\n",
    "        SystemMessage(content=\"You are a chatbot having a conversation with a human.\"),\n",
    "        MessagesPlaceholder(variable_name=\"chat_history\"), \n",
    "        HumanMessagePromptTemplate.from_template(\"{content}\")\n",
    "    ]\n",
    ")\n",
    "\n",
    "chain = LLMChain(\n",
    "    llm=llm,\n",
    "    prompt=prompt,\n",
    "    memory=memory,\n",
    "    verbose=False\n",
    ")\n",
    "\n",
    "while True:\n",
    "    content = input('Your prompt: ')\n",
    "    if content.lower() in ['quit', 'exit', 'bye']:\n",
    "        print('Goodbye!')\n",
    "        break\n",
    "    \n",
    "    response = chain.invoke({'content': content})\n",
    "    print(response)\n",
    "    print('-' * 50)"
   ]
  }
 ],
 "metadata": {
  "kernelspec": {
   "display_name": "Python 3",
   "language": "python",
   "name": "python3"
  },
  "language_info": {
   "codemirror_mode": {
    "name": "ipython",
    "version": 3
   },
   "file_extension": ".py",
   "mimetype": "text/x-python",
   "name": "python",
   "nbconvert_exporter": "python",
   "pygments_lexer": "ipython3",
   "version": "3.12.5"
  }
 },
 "nbformat": 4,
 "nbformat_minor": 2
}
