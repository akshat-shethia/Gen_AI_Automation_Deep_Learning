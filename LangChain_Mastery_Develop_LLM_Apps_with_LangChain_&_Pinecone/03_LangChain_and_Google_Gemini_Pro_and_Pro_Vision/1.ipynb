{
 "cells": [
  {
   "cell_type": "code",
   "execution_count": 1,
   "metadata": {},
   "outputs": [
    {
     "name": "stdout",
     "output_type": "stream",
     "text": [
      "Note: you may need to restart the kernel to use updated packages.\n"
     ]
    }
   ],
   "source": [
    "pip install -q langchain-google-genai"
   ]
  },
  {
   "cell_type": "code",
   "execution_count": 2,
   "metadata": {},
   "outputs": [
    {
     "name": "stdout",
     "output_type": "stream",
     "text": [
      "Note: you may need to restart the kernel to use updated packages.\n"
     ]
    }
   ],
   "source": [
    "pip install --upgrade -q langchain-google-genai"
   ]
  },
  {
   "cell_type": "code",
   "execution_count": 3,
   "metadata": {},
   "outputs": [
    {
     "name": "stdout",
     "output_type": "stream",
     "text": [
      "Name: langchain-google-genai\n",
      "Version: 1.0.10\n",
      "Summary: An integration package connecting Google's genai package and LangChain\n",
      "Home-page: https://github.com/langchain-ai/langchain-google\n",
      "Author: \n",
      "Author-email: \n",
      "License: MIT\n",
      "Location: c:\\miniconda\\Gen_AI_Automation_Deep_Learning\\LangChain_Mastery_Develop_LLM_Apps_with_LangChain_&_Pinecone\\venv\\Lib\\site-packages\n",
      "Requires: google-generativeai, langchain-core\n",
      "Required-by: \n",
      "Note: you may need to restart the kernel to use updated packages.\n"
     ]
    }
   ],
   "source": [
    "pip show langchain-google-genai"
   ]
  },
  {
   "cell_type": "code",
   "execution_count": 4,
   "metadata": {},
   "outputs": [
    {
     "name": "stdout",
     "output_type": "stream",
     "text": [
      "Note: you may need to restart the kernel to use updated packages.\n"
     ]
    }
   ],
   "source": [
    "pip install -q google-generativeai"
   ]
  },
  {
   "cell_type": "code",
   "execution_count": 5,
   "metadata": {},
   "outputs": [
    {
     "data": {
      "text/plain": [
       "True"
      ]
     },
     "execution_count": 5,
     "metadata": {},
     "output_type": "execute_result"
    }
   ],
   "source": [
    "# loading the API key form .env\n",
    "from dotenv import load_dotenv, find_dotenv\n",
    "load_dotenv(find_dotenv(), override=True)"
   ]
  },
  {
   "cell_type": "code",
   "execution_count": 6,
   "metadata": {},
   "outputs": [],
   "source": [
    "# prompting the user for the API key if it wasn't loaded from .env\n",
    "import getpass\n",
    "import os\n",
    "if 'GOOGLE_API_KEY' not in os.environ:\n",
    "    os.environ['GOOGLE_API_KEY'] = getpass.getpass('Provide your Google API Key: ')"
   ]
  },
  {
   "cell_type": "code",
   "execution_count": 7,
   "metadata": {},
   "outputs": [
    {
     "name": "stderr",
     "output_type": "stream",
     "text": [
      "C:\\Users\\Akshat Shethia\\AppData\\Roaming\\Python\\Python312\\site-packages\\tqdm\\auto.py:21: TqdmWarning: IProgress not found. Please update jupyter and ipywidgets. See https://ipywidgets.readthedocs.io/en/stable/user_install.html\n",
      "  from .autonotebook import tqdm as notebook_tqdm\n"
     ]
    },
    {
     "name": "stdout",
     "output_type": "stream",
     "text": [
      "models/chat-bison-001\n",
      "models/text-bison-001\n",
      "models/embedding-gecko-001\n",
      "models/gemini-1.0-pro-latest\n",
      "models/gemini-1.0-pro\n",
      "models/gemini-pro\n",
      "models/gemini-1.0-pro-001\n",
      "models/gemini-1.0-pro-vision-latest\n",
      "models/gemini-pro-vision\n",
      "models/gemini-1.5-pro-latest\n",
      "models/gemini-1.5-pro-001\n",
      "models/gemini-1.5-pro\n",
      "models/gemini-1.5-pro-exp-0801\n",
      "models/gemini-1.5-pro-exp-0827\n",
      "models/gemini-1.5-flash-latest\n",
      "models/gemini-1.5-flash-001\n",
      "models/gemini-1.5-flash-001-tuning\n",
      "models/gemini-1.5-flash\n",
      "models/gemini-1.5-flash-exp-0827\n",
      "models/gemini-1.5-flash-8b-exp-0827\n",
      "models/embedding-001\n",
      "models/text-embedding-004\n",
      "models/aqa\n"
     ]
    }
   ],
   "source": [
    "# listing all available models\n",
    "import google.generativeai as genai\n",
    "for model in genai.list_models():\n",
    "    print(model.name)"
   ]
  },
  {
   "cell_type": "code",
   "execution_count": 8,
   "metadata": {},
   "outputs": [
    {
     "name": "stdout",
     "output_type": "stream",
     "text": [
      "Note: you may need to restart the kernel to use updated packages.\n"
     ]
    }
   ],
   "source": [
    "pip install -q Iprogress"
   ]
  },
  {
   "cell_type": "markdown",
   "metadata": {},
   "source": [
    "## Integrating Gemini With LangChain"
   ]
  },
  {
   "cell_type": "code",
   "execution_count": 9,
   "metadata": {},
   "outputs": [
    {
     "name": "stdout",
     "output_type": "stream",
     "text": [
      "In the Martian metropolis of Elysium City, the year 2200 dawned with vibrant life. Under the vast expanse of terraformed skies, sleek flying cars soared through the air, transporting inhabitants to towering skyscrapers. Verdant parks dotted the cityscape, their lush greenery providing respite from the ethereal Martian landscape. Homes were equipped with advanced technologies, including holographic projections and self-cleaning systems. Settlers, hailing from diverse earthly origins, lived harmoniously, forming a vibrant tapestry of cultures. Scientific advancements had led to breakthroughs in oxygen production and water purification, sustaining a growing population. Terraformed regions flourished with lush vegetation and bountiful harvests, ensuring food security. Life on Mars in 2200 was a testament to human ingenuity and the relentless pursuit of a cosmic destiny.\n"
     ]
    }
   ],
   "source": [
    "from langchain_google_genai import ChatGoogleGenerativeAI\n",
    "llm = ChatGoogleGenerativeAI(model = \"gemini-pro\", temperature = 0.9)\n",
    "response = llm.invoke(\"Write a paragraph about life on Mars in the year 2200\")\n",
    "print(response.content)"
   ]
  },
  {
   "cell_type": "code",
   "execution_count": 10,
   "metadata": {},
   "outputs": [
    {
     "name": "stdout",
     "output_type": "stream",
     "text": [
      "In the year 2100, the once-barren planet of Mars has blossomed into a thriving human colony. The domed cities of Elysium, Utopia, and Isidis Planitia are home to a multi-cultural society of scientists, engineers, explorers, and settlers. Inside these pressurized domes, life hums with activity. Advanced hydroponic farms provide sustenance, while solar and nuclear power plants generate energy. Martian pioneers don airtight suits to venture outside, traversing the dusty landscapes in rovers, studying the planet's geological wonders, and searching for signs of past life. With its thin atmosphere and harsh radiation, life on Mars remains a challenge, but the human spirit has prevailed, transforming this desolate world into a testament to hope, ingenuity, and the indomitable drive to explore the unknown.\n"
     ]
    }
   ],
   "source": [
    "# Import the necessary class for interacting with Google's generative AI models\n",
    "from langchain_google_genai import ChatGoogleGenerativeAI\n",
    "\n",
    "# Create an instance of the LLM, using the 'gemini-pro' model and set creativity level\n",
    "llm = ChatGoogleGenerativeAI(model='gemini-pro', temperature=0.9)  \n",
    "\n",
    "# Send a prompt to the LLM, requesting a creative paragraph\n",
    "response = llm.invoke('Write a paragraph about life on Mars in year 2100.') \n",
    "\n",
    "# Print the generated text from the LLM's response\n",
    "print(response.content)  "
   ]
  },
  {
   "cell_type": "code",
   "execution_count": 13,
   "metadata": {},
   "outputs": [
    {
     "name": "stdout",
     "output_type": "stream",
     "text": [
      "\n",
      "\n",
      "\u001b[1m> Entering new LLMChain chain...\u001b[0m\n",
      "Prompt after formatting:\n",
      "\u001b[32;1m\u001b[1;3mYou are a content creator. Write me a tweet about Why will AI change the world\u001b[0m\n",
      "\n",
      "\u001b[1m> Finished chain.\u001b[0m\n",
      "🤖 AI Revolution: Brace for transformative power! AI will revolutionize industries, enhance decision-making, personalize experiences, automate tasks, and create new job opportunities. Get ready for a future where AI empowers humanity to reach unprecedented heights! #ArtificialIntelligence #FutureTech\n"
     ]
    }
   ],
   "source": [
    "from langchain.prompts import PromptTemplate\n",
    "from langchain.chains import LLMChain\n",
    "llm = ChatGoogleGenerativeAI(model='gemini-pro')\n",
    "\n",
    "prompt = PromptTemplate.from_template('You are a content creator. Write me a tweet about {topic}')\n",
    "\n",
    "# Create a chain that will use the LLM and prompt \n",
    "chain = LLMChain(\n",
    "    llm=llm,\n",
    "    prompt=prompt,\n",
    "    verbose=True\n",
    ")\n",
    "\n",
    "topic = 'Why will AI change the world'\n",
    "\n",
    "# Execute the chain, providing the topic as input\n",
    "response = chain.invoke(input=topic)\n",
    "print(response[\"text\"])"
   ]
  },
  {
   "cell_type": "code",
   "execution_count": 14,
   "metadata": {},
   "outputs": [
    {
     "name": "stdout",
     "output_type": "stream",
     "text": [
      "\n",
      "\n",
      "\u001b[1m> Entering new LLMChain chain...\u001b[0m\n",
      "Prompt after formatting:\n",
      "\u001b[32;1m\u001b[1;3mYou are a content creator. Write me a tweet about Ganesh Chaturthi in my country Yard\u001b[0m\n",
      "\n",
      "\u001b[1m> Finished chain.\u001b[0m\n",
      "#GaneshChaturthi Mubarak! 🌺🌷\n",
      "\n",
      "May Lord Ganesha bless us all with wisdom, prosperity, and happiness on this auspicious day. Celebrate the arrival of Vighnaharta in our homes and hearts, bringing joy and love to our lives. #Ganeshotsav #GanpatiBappaMorya #Yard\n"
     ]
    }
   ],
   "source": [
    "from langchain.prompts import PromptTemplate\n",
    "from langchain.chains import LLMChain\n",
    "llm = ChatGoogleGenerativeAI(model='gemini-pro')\n",
    "\n",
    "prompt = PromptTemplate.from_template('You are a content creator. Write me a tweet about {topic}')\n",
    "\n",
    "# Create a chain that will use the LLM and prompt \n",
    "chain = LLMChain(\n",
    "    llm=llm,\n",
    "    prompt=prompt,\n",
    "    verbose=True\n",
    ")\n",
    "\n",
    "topic = 'Ganesh Chaturthi in my country Yard'\n",
    "\n",
    "# Execute the chain, providing the topic as input\n",
    "response = chain.invoke(input=topic)\n",
    "print(response[\"text\"])"
   ]
  },
  {
   "cell_type": "markdown",
   "metadata": {},
   "source": [
    "## System Prompt and Streaming"
   ]
  },
  {
   "cell_type": "code",
   "execution_count": 15,
   "metadata": {},
   "outputs": [
    {
     "name": "stderr",
     "output_type": "stream",
     "text": [
      "c:\\miniconda\\Gen_AI_Automation_Deep_Learning\\LangChain_Mastery_Develop_LLM_Apps_with_LangChain_&_Pinecone\\venv\\Lib\\site-packages\\langchain_google_genai\\chat_models.py:381: UserWarning: Convert_system_message_to_human will be deprecated!\n",
      "  warnings.warn(\"Convert_system_message_to_human will be deprecated!\")\n"
     ]
    },
    {
     "data": {
      "text/plain": [
       "'NON'"
      ]
     },
     "execution_count": 15,
     "metadata": {},
     "output_type": "execute_result"
    }
   ],
   "source": [
    "from langchain_core.messages import HumanMessage, SystemMessage\n",
    "llm = ChatGoogleGenerativeAI(model='gemini-pro', convert_system_message_to_human=True)\n",
    "output = llm.invoke(\n",
    "    [\n",
    "        SystemMessage(content='Answer only YES or NO in French.'),\n",
    "        HumanMessage(content='Is fish a mammal?')\n",
    "    ]\n",
    ")\n",
    "output.content"
   ]
  },
  {
   "cell_type": "code",
   "execution_count": 16,
   "metadata": {},
   "outputs": [
    {
     "name": "stdout",
     "output_type": "stream",
     "text": [
      "**Title:** The Mathematical Foundation of Our Universe\n",
      "\n",
      "**Abstract:**\n",
      "\n",
      "The universe we inhabit is governed by a set of fundamental mathematical principles that underpin its structure, dynamics, and evolution. This paper explores the mathematical foundation of our universe, examining the key mathematical concepts and theories that provide a framework for understanding the cosmos. We discuss the role of geometry, topology, algebra, and calculus in describing the universe's properties and behavior.\n",
      "\n",
      "**Introduction:**\n",
      "\n",
      "The pursuit of understanding the universe has been a central endeavor of human inquiry for centuries. From the ancient Greeks to modern-day physicists, scientists have sought to unravel the mysteries of the cosmos through observation, experimentation, and mathematical modeling. Mathematics has emerged as an indispensable tool in this quest, providing a language for describing the universe's fundamental laws and predicting its behavior.\n",
      "\n",
      "**Geometry and Topology:**\n",
      "\n",
      "Geometry and topology are branches of mathematics that deal with the shape and structure of objects. In cosmology, geometry is used to describe the curvature and expansion of the universe. The shape of the universe is determined by the distribution of matter and energy within it, and can be represented by a variety of geometric models, such as the Friedmann-Lemaître-Robertson-Walker (FLRW) metric. Topology, on the other hand, studies the properties of objects that are invariant under continuous deformations. In cosmology, topology is used to classify the possible shapes of the universe, such as the three-sphere, the flat torus, and the hyperbolic space.\n",
      "\n",
      "**Algebra:**\n",
      "\n",
      "Algebra is a branch of mathematics that deals with the study of structures, such as groups, rings, and fields. In cosmology, algebra is used to describe the symmetries and conservation laws of the universe. The symmetries of the universe are represented by groups, such as the Lorentz group and the Poincaré group. Conservation laws, such as the conservation of energy and momentum, are expressed in terms of algebraic equations.\n",
      "\n",
      "**Calculus:**\n",
      "\n",
      "Calculus is a branch of mathematics that deals with the study of change. In cosmology, calculus is used to describe the dynamics and evolution of the universe. The equations of motion for the universe are derived from the Einstein field equations, which are a set of partial differential equations that describe the curvature of spacetime. Calculus is also used to study the evolution of galaxies, stars, and other celestial objects.\n",
      "\n",
      "**Conclusion:**\n",
      "\n",
      "The mathematical foundation of our universe provides a framework for understanding the cosmos and its behavior. Geometry, topology, algebra, and calculus are essential tools for describing the universe's properties, dynamics, and evolution. By harnessing the power of mathematics, scientists have made significant progress in unraveling the mysteries of the universe and gaining a deeper understanding of our place within it.\n",
      "\n",
      "**References:**\n",
      "\n",
      "* Hawking, S. W. (1988). A brief history of time. Bantam Books.\n",
      "* Penrose, R. (2004). The road to reality: A complete guide to the laws of the universe. Vintage Books.\n",
      "* Weinberg, S. (1993). The first three minutes: A modern view of the origin of the universe. Basic Books.\n"
     ]
    }
   ],
   "source": [
    "llm = ChatGoogleGenerativeAI(model='gemini-pro', temperature=0)\n",
    "prompt = 'Write a scientific paper outlining the mathematical foundation of our universe.'\n",
    "response = llm.invoke(prompt)\n",
    "print(response.content)"
   ]
  },
  {
   "cell_type": "code",
   "execution_count": 20,
   "metadata": {},
   "outputs": [
    {
     "name": "stdout",
     "output_type": "stream",
     "text": [
      "**Title:** The Mathematical Foundation of Our Universe\n",
      "\n",
      "**Abstract:**\n",
      "\n",
      "The universe\n",
      "----------------------------------------------------------------------------------------------------------------------------------------------------------------------------------------------------------------------------------------------------------------------------------------------------------------------------------------------------------------------------------------------------------------\n",
      " we inhabit is governed by a set of fundamental mathematical principles that underpin its structure, dynamics, and evolution. This paper explores the mathematical foundation of our universe, examining\n",
      "----------------------------------------------------------------------------------------------------------------------------------------------------------------------------------------------------------------------------------------------------------------------------------------------------------------------------------------------------------------------------------------------------------------\n",
      " the key mathematical concepts and theories that provide a framework for understanding the cosmos. We discuss the role of geometry, topology, algebra, and calculus in describing the universe's properties and behavior.\n",
      "\n",
      "**Introduction:**\n",
      "\n",
      "The pursuit of understanding the universe has been a central endeavor of human inquiry for centuries. From the ancient Greeks\n",
      "----------------------------------------------------------------------------------------------------------------------------------------------------------------------------------------------------------------------------------------------------------------------------------------------------------------------------------------------------------------------------------------------------------------\n",
      " to modern-day physicists, scientists have sought to unravel the mysteries of the cosmos through observation, experimentation, and mathematical modeling. Mathematics has emerged as an indispensable tool in this quest, providing a language for describing the universe's fundamental laws and predicting its behavior.\n",
      "\n",
      "**Geometry and Topology:**\n",
      "\n",
      "Geometry and topology are branches of mathematics that deal with the shape and structure of objects. In cosmology, geometry is used to describe the curvature and expansion of the universe. The shape of the universe is determined by the distribution of matter and energy within it, and can be represented by a variety of geometric models, such as the Friedmann-Lema\n",
      "----------------------------------------------------------------------------------------------------------------------------------------------------------------------------------------------------------------------------------------------------------------------------------------------------------------------------------------------------------------------------------------------------------------\n",
      "ître-Robertson-Walker (FLRW) metric. Topology, on the other hand, studies the properties of objects that are invariant under continuous deformations. In cosmology, topology is used to classify the possible shapes of the universe, such as the three-sphere, the flat torus, and the hyperbolic space.\n",
      "\n",
      "**Algebra:**\n",
      "\n",
      "Algebra is a branch of mathematics that deals with the study of structures, such as groups, rings, and fields. In cosmology, algebra is used to describe the symmetries and conservation laws of the universe. The symmetries of the universe are represented by groups, such as the Lorentz group and the Poincaré group. Conservation laws, such as the conservation of energy and momentum, are expressed in terms of algebraic equations.\n",
      "\n",
      "**Calculus:**\n",
      "\n",
      "Calculus is a branch of mathematics that deals with the study of change. In cosmology, calculus is used to describe the dynamics and evolution of the universe. The equations of motion for the universe are derived from the Einstein field equations, which are a set of partial differential equations that describe the curvature of spacetime. Calculus is also used to study the evolution of galaxies, stars, and other celestial objects.\n",
      "\n",
      "**Conclusion:**\n",
      "\n",
      "The mathematical foundation of our universe provides a framework for understanding the cosmos and its behavior. Geometry, topology, algebra\n",
      "----------------------------------------------------------------------------------------------------------------------------------------------------------------------------------------------------------------------------------------------------------------------------------------------------------------------------------------------------------------------------------------------------------------\n",
      ", and calculus are essential tools for describing the universe's structure, dynamics, and evolution. By harnessing the power of mathematics, scientists have made significant progress in unraveling the mysteries of the universe and gaining a deeper understanding of our place within it.\n",
      "\n",
      "**References:**\n",
      "\n",
      "* Hawking, S. W. (1988). A brief history of time. Bantam Books.\n",
      "* Penrose, R. (2004). The road to reality: A complete guide to the laws of the universe. Vintage Books.\n",
      "* Weinberg, S. (1993). The first three minutes: A modern view of the origin of the universe. Basic Books.\n",
      "----------------------------------------------------------------------------------------------------------------------------------------------------------------------------------------------------------------------------------------------------------------------------------------------------------------------------------------------------------------------------------------------------------------\n"
     ]
    }
   ],
   "source": [
    "# enabling streaming\n",
    "for chunk in llm.stream(prompt):\n",
    "    print(chunk.content)\n",
    "    print('-' * 400)\n",
    "  "
   ]
  },
  {
   "cell_type": "markdown",
   "metadata": {},
   "source": [
    "## Multimodal AI with Gemini Pro Vision"
   ]
  },
  {
   "cell_type": "code",
   "execution_count": 21,
   "metadata": {},
   "outputs": [
    {
     "name": "stdout",
     "output_type": "stream",
     "text": [
      "Note: you may need to restart the kernel to use updated packages.\n"
     ]
    }
   ],
   "source": [
    "pip install -q pillow # FREE Python Imaging Library"
   ]
  },
  {
   "cell_type": "code",
   "execution_count": 25,
   "metadata": {},
   "outputs": [],
   "source": [
    "import requests\n",
    "from PIL import Image\n",
    "from io import BytesIO\n",
    "\n",
    "# Download the image from the URL\n",
    "url = 'https://i.ibb.co/gJXtcbj/match.jpg'\n",
    "response = requests.get(url)\n",
    "\n",
    "# Open the image using PIL after loading it into a BytesIO object\n",
    "img = Image.open(BytesIO(response.content))\n",
    "\n",
    "# Show the image (optional)\n",
    "img.show()"
   ]
  },
  {
   "cell_type": "code",
   "execution_count": 27,
   "metadata": {},
   "outputs": [
    {
     "name": "stdout",
     "output_type": "stream",
     "text": [
      "The image shows a football (soccer) game being played in a stadium. There are players on the field, and a crowd in the stands. The sky is cloudy.\n"
     ]
    }
   ],
   "source": [
    "from langchain_core.messages import HumanMessage\n",
    "from langchain_google_genai import ChatGoogleGenerativeAI\n",
    "\n",
    "from dotenv import load_dotenv, find_dotenv\n",
    "load_dotenv(find_dotenv(), override=True) \n",
    "\n",
    "# Create LLM instance, using a model specialized for images\n",
    "llm = ChatGoogleGenerativeAI(model='gemini-1.5-flash-001')  \n",
    "\n",
    "# The question to ask about the image\n",
    "prompt = 'What is in this image?' \n",
    "\n",
    "# Create a structured message combining text and image reference\n",
    "message = HumanMessage(\n",
    "  content=[\n",
    "    {'type': 'text', 'text': prompt},  # Include the textual prompt\n",
    "    {'type': 'image_url', 'image_url': url}  # Include a reference to the image (img variable holds the URL)\n",
    "  ]\n",
    ")  \n",
    "\n",
    "# Send the message to the LLM for analysis\n",
    "response = llm.invoke([message]) \n",
    "# Print the LLM's description of the image \n",
    "print(response.content)  "
   ]
  },
  {
   "cell_type": "code",
   "execution_count": 28,
   "metadata": {},
   "outputs": [],
   "source": [
    "def ask_gemini(text, image, model='gemini-pro-vision'):\n",
    "    llm = ChatGoogleGenerativeAI(model=model)\n",
    "    message = HumanMessage(\n",
    "        content=[\n",
    "            {'type': 'text', 'text': text},\n",
    "            {'type': 'image_url', 'image_url': image}\n",
    "        ]\n",
    "    )\n",
    "    response = llm.invoke([message])\n",
    "    return response"
   ]
  },
  {
   "cell_type": "code",
   "execution_count": null,
   "metadata": {},
   "outputs": [],
   "source": []
  },
  {
   "cell_type": "code",
   "execution_count": null,
   "metadata": {},
   "outputs": [],
   "source": []
  }
 ],
 "metadata": {
  "kernelspec": {
   "display_name": "Python 3",
   "language": "python",
   "name": "python3"
  },
  "language_info": {
   "codemirror_mode": {
    "name": "ipython",
    "version": 3
   },
   "file_extension": ".py",
   "mimetype": "text/x-python",
   "name": "python",
   "nbconvert_exporter": "python",
   "pygments_lexer": "ipython3",
   "version": "3.12.5"
  }
 },
 "nbformat": 4,
 "nbformat_minor": 2
}
