{
 "cells": [
  {
   "cell_type": "markdown",
   "id": "80baf78d-ecc7-443c-b9c1-a4d4ff4b3a3c",
   "metadata": {},
   "source": [
    "# Integrating Machine Learning Models\n",
    "\n",
    "## Model Integration\n",
    "\n",
    "To demonstrate how to integrate a machine learning model with Gradio, we'll use a pre-trained model using hugging face's *pipeline*. Specifically, we'll use the ResNet18 model, which is commonly used for image classification tasks. Here's how to set up and use this model with Gradio:\n",
    "\n",
    "### Setting Up the Model\n",
    "\n",
    "First, import the necessary libraries and load the pre-trained model:\n",
    "\n"
   ]
  },
  {
   "cell_type": "code",
   "execution_count": 1,
   "id": "8a2592e6-4d7a-4a37-93fc-e38abf16f2e6",
   "metadata": {},
   "outputs": [
    {
     "data": {
      "application/vnd.jupyter.widget-view+json": {
       "model_id": "e99428431ed14e6196efa106a9c43e1b",
       "version_major": 2,
       "version_minor": 0
      },
      "text/plain": [
       "preprocessor_config.json:   0%|          | 0.00/266 [00:00<?, ?B/s]"
      ]
     },
     "metadata": {},
     "output_type": "display_data"
    },
    {
     "name": "stderr",
     "output_type": "stream",
     "text": [
      "c:\\miniconda\\Gen_AI_Automation_Deep_Learning\\Hugging_Face_Course\\venv\\Lib\\site-packages\\huggingface_hub\\file_download.py:159: UserWarning: `huggingface_hub` cache-system uses symlinks by default to efficiently store duplicated files but your machine does not support them in C:\\Users\\Akshat Shethia\\.cache\\huggingface\\hub\\models--microsoft--resnet-18. Caching files will still work but in a degraded version that might require more space on your disk. This warning can be disabled by setting the `HF_HUB_DISABLE_SYMLINKS_WARNING` environment variable. For more details, see https://huggingface.co/docs/huggingface_hub/how-to-cache#limitations.\n",
      "To support symlinks on Windows, you either need to activate Developer Mode or to run Python as an administrator. In order to see activate developer mode, see this article: https://docs.microsoft.com/en-us/windows/apps/get-started/enable-your-device-for-development\n",
      "  warnings.warn(message)\n"
     ]
    },
    {
     "data": {
      "application/vnd.jupyter.widget-view+json": {
       "model_id": "82b68a0df8e846728002943b55959072",
       "version_major": 2,
       "version_minor": 0
      },
      "text/plain": [
       "config.json:   0%|          | 0.00/69.5k [00:00<?, ?B/s]"
      ]
     },
     "metadata": {},
     "output_type": "display_data"
    },
    {
     "data": {
      "application/vnd.jupyter.widget-view+json": {
       "model_id": "f0c1f937ccdd46a3a42d7c49fe0e5e93",
       "version_major": 2,
       "version_minor": 0
      },
      "text/plain": [
       "model.safetensors:   0%|          | 0.00/46.8M [00:00<?, ?B/s]"
      ]
     },
     "metadata": {},
     "output_type": "display_data"
    }
   ],
   "source": [
    "from PIL import Image\n",
    "import numpy as np\n",
    "\n",
    "from transformers import AutoImageProcessor, AutoModelForImageClassification\n",
    "\n",
    "image_processor = AutoImageProcessor.from_pretrained(\"microsoft/resnet-18\")\n",
    "model = AutoModelForImageClassification.from_pretrained(\"microsoft/resnet-18\")"
   ]
  },
  {
   "cell_type": "code",
   "execution_count": 2,
   "id": "237a55e1-257c-4d06-a699-ca61b6c5672b",
   "metadata": {},
   "outputs": [],
   "source": [
    "def classify_image(image):\n",
    "    # Apply the transformations to the image\n",
    "    image = image_processor(image, return_tensors=\"pt\")[\"pixel_values\"]\n",
    "    # Predict the class with the highest probability\n",
    "    prediction = model(image).logits\n",
    "\n",
    "    # Convert class index to label\n",
    "    \n",
    "    return model.config.id2label[prediction.argmax().item()]\n"
   ]
  },
  {
   "cell_type": "code",
   "execution_count": 4,
   "id": "6f7429d5-9e91-4412-a50f-68c8ea8f3be7",
   "metadata": {},
   "outputs": [
    {
     "name": "stdout",
     "output_type": "stream",
     "text": [
      "Running on local URL:  http://127.0.0.1:7876\n",
      "\n",
      "To create a public link, set `share=True` in `launch()`.\n"
     ]
    },
    {
     "data": {
      "text/html": [
       "<div><iframe src=\"http://127.0.0.1:7876/\" width=\"100%\" height=\"500\" allow=\"autoplay; camera; microphone; clipboard-read; clipboard-write;\" frameborder=\"0\" allowfullscreen></iframe></div>"
      ],
      "text/plain": [
       "<IPython.core.display.HTML object>"
      ]
     },
     "metadata": {},
     "output_type": "display_data"
    },
    {
     "data": {
      "text/plain": []
     },
     "execution_count": 4,
     "metadata": {},
     "output_type": "execute_result"
    }
   ],
   "source": [
    "import gradio as gr\n",
    "\n",
    "iface = gr.Interface(\n",
    "    fn=classify_image,\n",
    "    inputs=gr.Image(),  \n",
    "    outputs=gr.Label(),\n",
    "    title=\"Real-time Image Classifier\",\n",
    "    description=\"Upload an image to classify it into one of 1000 classes\",\n",
    "    live=True\n",
    ")\n",
    "iface.launch()\n"
   ]
  },
  {
   "cell_type": "markdown",
   "id": "03715883-73cd-45ed-ba11-7296839e8c96",
   "metadata": {},
   "source": [
    "You just built an easy shareable image classification model!\n",
    "\n",
    "Image sources:\n",
    "- https://en.wikipedia.org/wiki/Puppy#/media/File:Golde33443.jpg\n",
    "- https://en.wikipedia.org/wiki/Cat#/media/File:Cat_August_2010-4.jpg"
   ]
  }
 ],
 "metadata": {
  "kernelspec": {
   "display_name": "Python 3 (ipykernel)",
   "language": "python",
   "name": "python3"
  },
  "language_info": {
   "codemirror_mode": {
    "name": "ipython",
    "version": 3
   },
   "file_extension": ".py",
   "mimetype": "text/x-python",
   "name": "python",
   "nbconvert_exporter": "python",
   "pygments_lexer": "ipython3",
   "version": "3.12.5"
  }
 },
 "nbformat": 4,
 "nbformat_minor": 5
}
